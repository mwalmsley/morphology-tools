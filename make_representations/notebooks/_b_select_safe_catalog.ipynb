{
 "cells": [
  {
   "cell_type": "code",
   "execution_count": null,
   "id": "bac2a852-1b24-403c-8763-2caf791a39a6",
   "metadata": {},
   "outputs": [],
   "source": []
  },
  {
   "cell_type": "markdown",
   "id": "ec0af1df-3966-4a83-81c3-9df0f89f63c0",
   "metadata": {},
   "source": [
    "# Load NSA\n",
    "\n",
    "Get an NSA catalog which includes both iauname and petrotheta/elpetro_absmag_r - v1_0_1\n",
    "\n",
    "TODO replace this with the \"key columns\" version I already saved\n"
   ]
  },
  {
   "cell_type": "code",
   "execution_count": 2,
   "id": "3cb344ab-9ec5-464f-9c25-ed2d38b65e44",
   "metadata": {},
   "outputs": [],
   "source": [
    "from astropy.table import Table"
   ]
  },
  {
   "cell_type": "code",
   "execution_count": 4,
   "id": "59944e68-10e0-4fab-a5af-b7261d156e7e",
   "metadata": {},
   "outputs": [],
   "source": [
    "# nsa = pd.read_csv('/media/walml/beta1/galaxy_zoo/decals/catalogs/nsa_v1_0_1_cached.csv')  # all nsa, but not crossmatched\n",
    "nsa = Table.read('/Volumes/beta/galaxy_zoo/decals/catalogs/raw/nsa_v1_0_1.fits')  # ?\n",
    "# nsa = pd.read_csv('/media/walml/beta1/galaxy_zoo/decals/catalogs/decals_dr5_uploadable_master_catalog_nov_2019.csv')  # crossmatched but excludes dr1/2\n",
    "# nsa = pd.read_csv('/home/walml/repos/zoobot_private/data/decals/decals_master_catalog.csv')  # similarly as above\n"
   ]
  },
  {
   "cell_type": "code",
   "execution_count": null,
   "id": "5300f491-f8ba-45ba-99a0-3a003c2ed5e2",
   "metadata": {},
   "outputs": [],
   "source": [
    "nsa['ELPETRO_ABSMAG_R'] = nsa['ELPETRO_ABSMAG'][:, 4]\n",
    "nsa['SERSIC_NMGY_R'] = nsa['SERSIC_NMGY'][:, 4]"
   ]
  },
  {
   "cell_type": "code",
   "execution_count": null,
   "id": "2083dce8-8f43-4cc6-a5e1-efcec724d8bb",
   "metadata": {},
   "outputs": [],
   "source": [
    "cols_to_keep = ['iauname', 'ra', 'dec', 'petro_theta', 'petro_th50', 'petro_th90', 'elpetro_absmag_r', 'sersic_nmgy_r']\n",
    "for col in cols_to_keep:\n",
    "    nsa[col] = nsa[col.upper()]"
   ]
  },
  {
   "cell_type": "code",
   "execution_count": null,
   "id": "833ae082-34e3-4af2-9bd3-3fdeed7fb84a",
   "metadata": {},
   "outputs": [],
   "source": [
    "nsa = nsa[cols_to_keep].to_pandas()"
   ]
  },
  {
   "cell_type": "markdown",
   "id": "1529e9a9-bb61-4faa-923e-8b23d89aa4e4",
   "metadata": {},
   "source": [
    "# Apply NSA cuts\n",
    "\n",
    "Check petrotheta cut and apply r cuts matching dr8 and bulk of gz decals - 14 to 17.77\n"
   ]
  },
  {
   "cell_type": "code",
   "execution_count": null,
   "id": "9850a869-30d7-4461-9bc4-e3b418811d15",
   "metadata": {},
   "outputs": [],
   "source": [
    "# print(nsa['petro_theta'].min())  # cut not yet applied\n",
    "good_radius = nsa['petro_theta'] > 3.\n",
    "print(good_radius.mean())"
   ]
  },
  {
   "cell_type": "code",
   "execution_count": null,
   "id": "8145ffb0-b445-4fa7-b86a-235daae9117c",
   "metadata": {},
   "outputs": [],
   "source": [
    "# http://www.sdss3.org/dr8/algorithms/magnitudes.php\n",
    "nsa['mag_r'] = 22.5 - 2.5 * np.log10(nsa['sersic_nmgy_r'])\n",
    "\n",
    "bad_mag = np.isnan(nsa['mag_r']) | np.isinf(nsa['mag_r'])\n",
    "\n",
    "plt.hist(nsa[~bad_mag]['mag_r'], bins=np.linspace(0., 30.))\n",
    "plt.axvline(17.77, color='r')\n",
    "plt.axvline(14., color='r')\n",
    "plt.xlabel('mag (r)')\n",
    "plt.ylabel('galaxies')"
   ]
  },
  {
   "cell_type": "code",
   "execution_count": null,
   "id": "d4d5b5f3-c0ed-4482-af21-bf33309251a2",
   "metadata": {},
   "outputs": [],
   "source": [
    "np.nan < 17.77, np.nan > 14  # nan will be removed by this cut as well, no need to exclude separately"
   ]
  },
  {
   "cell_type": "code",
   "execution_count": null,
   "id": "97b902a1-24b5-4d79-8158-20c6103356c6",
   "metadata": {},
   "outputs": [],
   "source": [
    "good_mag = (nsa['mag_r'] < 17.77) & (nsa['mag_r'] > 14.)\n",
    "print(good_mag.mean())\n",
    "print((good_mag & good_radius).mean())"
   ]
  },
  {
   "cell_type": "markdown",
   "id": "0bfb1c1c-43ce-47d7-8427-27212199aee1",
   "metadata": {},
   "source": [
    "# Drop galaxies with missing pixels\n",
    "\n",
    "Get joint catalog and drop images with too many missing pixels - count to catalog so can change later, then to 5% or 7%\n",
    "\n"
   ]
  },
  {
   "cell_type": "code",
   "execution_count": null,
   "id": "7b7f9e65-ef68-4206-bc94-02f13d73e32a",
   "metadata": {},
   "outputs": [],
   "source": [
    "# need to merge with to_upload in order to get galaxies with good downloads\n",
    "# radius cut was already applied, but no mag cut. No previous galaxies were removed\n",
    "# galaxies with missing pixels already removed\n",
    "dr5_catalog = Table.read('/Volumes/beta/galaxy_zoo/decals/catalogs/dr5_nsa_v1_0_0_to_upload.fits')\n",
    "print(len(dr5_catalog))\n",
    "dr5_catalog['fits_ready'].mean(), dr5_catalog['png_ready'].mean()"
   ]
  },
  {
   "cell_type": "code",
   "execution_count": null,
   "id": "421fd83e-ea12-4561-b4c0-61bcc5e46cc9",
   "metadata": {},
   "outputs": [],
   "source": [
    "dr5_catalog.columns"
   ]
  },
  {
   "cell_type": "code",
   "execution_count": null,
   "id": "2affbce3-a42b-457d-a24a-a4ca17ec62f7",
   "metadata": {},
   "outputs": [],
   "source": [
    "# just checking they merge correctly\n",
    "test_df = pd.merge(nsa, dr5_catalog[['iauname', 'png_loc']].to_pandas(), on='iauname', how='inner')\n",
    "print(len(nsa), len(dr5_catalog), len(test_df))"
   ]
  },
  {
   "cell_type": "code",
   "execution_count": null,
   "id": "d8cf2ae0-6d04-4495-9bfc-266f922c3bbf",
   "metadata": {},
   "outputs": [],
   "source": [
    "safe_df = pd.merge(nsa[good_mag & good_radius], dr5_catalog[['iauname', 'png_loc']].to_pandas(), on='iauname', how='inner')\n",
    "print(len(nsa), len(dr5_catalog), len(safe_df))"
   ]
  },
  {
   "cell_type": "code",
   "execution_count": null,
   "id": "38d8e203-61ba-4bea-a36b-227d9f9d7201",
   "metadata": {},
   "outputs": [],
   "source": [
    "safe_df['iauname'] = safe_df['iauname'].str.decode('utf8')\n",
    "safe_df['png_loc'] = safe_df['png_loc'].str.decode('utf8')\n",
    "safe_df['png_loc'] = safe_df['png_loc'].str.replace('/Volumes/alpha/decals', '/Volumes/beta/decals')\n"
   ]
  },
  {
   "cell_type": "code",
   "execution_count": null,
   "id": "65f5dbe0-aff9-4a28-8375-a5707e078625",
   "metadata": {},
   "outputs": [],
   "source": [
    "safe_df['png_loc']"
   ]
  },
  {
   "cell_type": "code",
   "execution_count": null,
   "id": "ef647964-ce0d-4b5a-bfee-b603d96417ce",
   "metadata": {},
   "outputs": [],
   "source": [
    "assert os.path.isfile(safe_df['png_loc'][0])"
   ]
  },
  {
   "cell_type": "code",
   "execution_count": null,
   "id": "bbb8f032-6139-4b34-98fe-78de08a214e2",
   "metadata": {},
   "outputs": [],
   "source": [
    "safe_df.head()"
   ]
  },
  {
   "cell_type": "markdown",
   "id": "98fd80f1-b165-4f23-b562-a5d9e156b49b",
   "metadata": {},
   "source": [
    "This catalog is the NSAxDR5 galaxies that could have been uploaded to GZ DECaLS, with:\n",
    "- mag cuts\n",
    "- radius cuts\n",
    "- missing pixel cuts"
   ]
  },
  {
   "cell_type": "code",
   "execution_count": null,
   "id": "f9a51639-0eb9-4328-b016-83fcb4c25bcc",
   "metadata": {},
   "outputs": [],
   "source": [
    "safe_df.to_parquet('/media/walml/beta1/cnn_features/sub_dr5_catalog_mag_radius_and_pixel_cuts.parquet', index=False)"
   ]
  },
  {
   "cell_type": "code",
   "execution_count": null,
   "id": "3fc3dcce-37e2-4863-9d55-495e6b2b4b3c",
   "metadata": {},
   "outputs": [],
   "source": []
  },
  {
   "cell_type": "code",
   "execution_count": null,
   "id": "be5bb3fa-7497-4007-95e1-c080ad698ff7",
   "metadata": {},
   "outputs": [],
   "source": [
    "\n",
    "# check for duplicates in both dr5 and dr8 using ra/dec and crossmatch\n",
    "\n",
    "# then create features and filename catalog in style of mid part of dr8 script\n",
    "\n",
    "# then concat with dr8 table\n",
    "# then apply rest of dr8  script"
   ]
  }
 ],
 "metadata": {
  "kernelspec": {
   "display_name": "Python 3 (ipykernel)",
   "language": "python",
   "name": "python3"
  },
  "language_info": {
   "codemirror_mode": {
    "name": "ipython",
    "version": 3
   },
   "file_extension": ".py",
   "mimetype": "text/x-python",
   "name": "python",
   "nbconvert_exporter": "python",
   "pygments_lexer": "ipython3",
   "version": "3.8.10"
  }
 },
 "nbformat": 4,
 "nbformat_minor": 5
}
