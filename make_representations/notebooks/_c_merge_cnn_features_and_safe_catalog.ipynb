{
 "cells": [
  {
   "cell_type": "markdown",
   "source": [
    "I noticed that running Isolation Forest on the compressed representations highlighted a lot of wrongsize galaxies.\n",
    "This is kind of neat.\n",
    "\n",
    "Below I make a few deliberate cuts, based on Isolation Forest, to remove them and make \"cnn_features_vols_cuts.parquet\".\n",
    "\n",
    "This was a significant enough issue that I went back to it in zoobot_private and used wrongsize tags from GZ Talk to similarly identify cuts and flag wrongsize galaxies in the published catalog.\n",
    "\n",
    "This notebook is therefore deprecated - I have done a better job using talk tags in zoobot_private.\n",
    "Left for interest."
   ],
   "metadata": {}
  },
  {
   "cell_type": "code",
   "execution_count": null,
   "source": [
    "import os\n",
    "import glob\n",
    "\n",
    "import matplotlib.pyplot as plt\n",
    "import seaborn as sns\n",
    "sns.set_context('notebook')\n",
    "import pandas as pd\n",
    "import numpy as np\n",
    "from PIL import Image\n",
    "\n",
    "import umap"
   ],
   "outputs": [],
   "metadata": {}
  },
  {
   "cell_type": "code",
   "execution_count": 3,
   "source": [
    "full_features = pd.read_parquet('/media/walml/beta1/cnn_features/cnn_features_concat.parquet')\n",
    "safe_df = pd.read_parquet('/media/walml/beta1/cnn_features/sub_dr5_catalog_mag_radius_and_pixel_cuts.parquet')"
   ],
   "outputs": [],
   "metadata": {}
  },
  {
   "cell_type": "code",
   "execution_count": 4,
   "source": [
    "feature_cols = [col for col in full_features.columns.values if col.startswith('feat_')]"
   ],
   "outputs": [],
   "metadata": {}
  },
  {
   "cell_type": "code",
   "execution_count": 5,
   "source": [
    "df = pd.merge(safe_df, full_features[feature_cols + ['iauname']], how='inner', on='iauname')\n",
    "print(len(safe_df), len(full_features), len(df))\n",
    "assert len(safe_df) == len(df)"
   ],
   "outputs": [
    {
     "output_type": "stream",
     "name": "stdout",
     "text": [
      "305657 343128 305657\n"
     ]
    }
   ],
   "metadata": {}
  },
  {
   "cell_type": "code",
   "execution_count": 7,
   "source": [
    "df[['ra', 'dec']]"
   ],
   "outputs": [
    {
     "output_type": "execute_result",
     "data": {
      "text/html": [
       "<div>\n",
       "<style scoped>\n",
       "    .dataframe tbody tr th:only-of-type {\n",
       "        vertical-align: middle;\n",
       "    }\n",
       "\n",
       "    .dataframe tbody tr th {\n",
       "        vertical-align: top;\n",
       "    }\n",
       "\n",
       "    .dataframe thead th {\n",
       "        text-align: right;\n",
       "    }\n",
       "</style>\n",
       "<table border=\"1\" class=\"dataframe\">\n",
       "  <thead>\n",
       "    <tr style=\"text-align: right;\">\n",
       "      <th></th>\n",
       "      <th>ra</th>\n",
       "      <th>dec</th>\n",
       "    </tr>\n",
       "  </thead>\n",
       "  <tbody>\n",
       "    <tr>\n",
       "      <th>0</th>\n",
       "      <td>146.714215</td>\n",
       "      <td>-1.041280</td>\n",
       "    </tr>\n",
       "    <tr>\n",
       "      <th>1</th>\n",
       "      <td>146.628585</td>\n",
       "      <td>-0.765162</td>\n",
       "    </tr>\n",
       "    <tr>\n",
       "      <th>2</th>\n",
       "      <td>146.631706</td>\n",
       "      <td>-0.988347</td>\n",
       "    </tr>\n",
       "    <tr>\n",
       "      <th>3</th>\n",
       "      <td>146.934129</td>\n",
       "      <td>-0.670405</td>\n",
       "    </tr>\n",
       "    <tr>\n",
       "      <th>4</th>\n",
       "      <td>146.963500</td>\n",
       "      <td>-0.544776</td>\n",
       "    </tr>\n",
       "    <tr>\n",
       "      <th>...</th>\n",
       "      <td>...</td>\n",
       "      <td>...</td>\n",
       "    </tr>\n",
       "    <tr>\n",
       "      <th>305652</th>\n",
       "      <td>219.692814</td>\n",
       "      <td>-1.498367</td>\n",
       "    </tr>\n",
       "    <tr>\n",
       "      <th>305653</th>\n",
       "      <td>219.551942</td>\n",
       "      <td>-1.517284</td>\n",
       "    </tr>\n",
       "    <tr>\n",
       "      <th>305654</th>\n",
       "      <td>357.755712</td>\n",
       "      <td>-10.010851</td>\n",
       "    </tr>\n",
       "    <tr>\n",
       "      <th>305655</th>\n",
       "      <td>358.197549</td>\n",
       "      <td>-10.883763</td>\n",
       "    </tr>\n",
       "    <tr>\n",
       "      <th>305656</th>\n",
       "      <td>358.562009</td>\n",
       "      <td>-10.236361</td>\n",
       "    </tr>\n",
       "  </tbody>\n",
       "</table>\n",
       "<p>305657 rows × 2 columns</p>\n",
       "</div>"
      ],
      "text/plain": [
       "                ra        dec\n",
       "0       146.714215  -1.041280\n",
       "1       146.628585  -0.765162\n",
       "2       146.631706  -0.988347\n",
       "3       146.934129  -0.670405\n",
       "4       146.963500  -0.544776\n",
       "...            ...        ...\n",
       "305652  219.692814  -1.498367\n",
       "305653  219.551942  -1.517284\n",
       "305654  357.755712 -10.010851\n",
       "305655  358.197549 -10.883763\n",
       "305656  358.562009 -10.236361\n",
       "\n",
       "[305657 rows x 2 columns]"
      ]
     },
     "metadata": {},
     "execution_count": 7
    }
   ],
   "metadata": {}
  },
  {
   "cell_type": "code",
   "execution_count": 6,
   "source": [
    "df.sort_values('png_loc').to_parquet('/media/walml/beta1/cnn_features/dr5_b0_full_features_and_safe_catalog.parquet', index=False)\n",
    "# now ready to use at the end of astronomaly/prepare_cnn_features.py"
   ],
   "outputs": [],
   "metadata": {}
  },
  {
   "cell_type": "code",
   "execution_count": null,
   "source": [],
   "outputs": [],
   "metadata": {}
  },
  {
   "cell_type": "code",
   "execution_count": null,
   "source": [],
   "outputs": [],
   "metadata": {}
  },
  {
   "cell_type": "code",
   "execution_count": null,
   "source": [],
   "outputs": [],
   "metadata": {}
  },
  {
   "cell_type": "code",
   "execution_count": null,
   "source": [],
   "outputs": [],
   "metadata": {}
  },
  {
   "cell_type": "code",
   "execution_count": null,
   "source": [],
   "outputs": [],
   "metadata": {}
  },
  {
   "cell_type": "code",
   "execution_count": 44,
   "source": [
    "# make some nsa-specific cuts\n",
    "# good_nmgy = vols['sersic_nmgy_r'] < 3500\n",
    "# good_petro_th = (vols['petro_th50'] < 20) & (vols['petro_th90'] < 30)\n",
    "good_petro_th = (vols['petro_th50'] < 10) & (vols['petro_th90'] < 15)  # more aggressive"
   ],
   "outputs": [
    {
     "output_type": "execute_result",
     "data": {
      "text/plain": [
       "253286"
      ]
     },
     "metadata": {},
     "execution_count": 44
    }
   ],
   "metadata": {}
  },
  {
   "cell_type": "code",
   "execution_count": 2,
   "source": [
    "# decals_dr5_master = pd.read_csv('/home/walml/repos/zoobot_private/data/decals/decals_master_catalog.csv')  # inc some nsa values\n",
    "# len(decals_dr5_master)"
   ],
   "outputs": [],
   "metadata": {}
  },
  {
   "cell_type": "code",
   "execution_count": null,
   "source": [],
   "outputs": [],
   "metadata": {}
  },
  {
   "cell_type": "code",
   "execution_count": null,
   "source": [],
   "outputs": [],
   "metadata": {}
  },
  {
   "cell_type": "code",
   "execution_count": 11,
   "source": [],
   "outputs": [],
   "metadata": {}
  },
  {
   "cell_type": "code",
   "execution_count": 12,
   "source": [],
   "outputs": [],
   "metadata": {}
  },
  {
   "cell_type": "code",
   "execution_count": null,
   "source": [],
   "outputs": [],
   "metadata": {}
  },
  {
   "cell_type": "code",
   "execution_count": null,
   "source": [],
   "outputs": [],
   "metadata": {}
  },
  {
   "cell_type": "code",
   "execution_count": null,
   "source": [],
   "outputs": [],
   "metadata": {}
  },
  {
   "cell_type": "code",
   "execution_count": null,
   "source": [],
   "outputs": [],
   "metadata": {}
  },
  {
   "cell_type": "code",
   "execution_count": null,
   "source": [],
   "outputs": [],
   "metadata": {}
  },
  {
   "cell_type": "code",
   "execution_count": null,
   "source": [],
   "outputs": [],
   "metadata": {}
  },
  {
   "cell_type": "code",
   "execution_count": null,
   "source": [],
   "outputs": [],
   "metadata": {}
  },
  {
   "cell_type": "code",
   "execution_count": 5,
   "source": [],
   "outputs": [],
   "metadata": {}
  }
 ],
 "metadata": {
  "kernelspec": {
   "display_name": "Python 3 (ipykernel)",
   "language": "python",
   "name": "python3"
  },
  "language_info": {
   "codemirror_mode": {
    "name": "ipython",
    "version": 3
   },
   "file_extension": ".py",
   "mimetype": "text/x-python",
   "name": "python",
   "nbconvert_exporter": "python",
   "pygments_lexer": "ipython3",
   "version": "3.8.10"
  }
 },
 "nbformat": 4,
 "nbformat_minor": 4
}