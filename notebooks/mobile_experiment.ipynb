{
 "cells": [
  {
   "cell_type": "code",
   "execution_count": 1,
   "id": "c818efde-7361-4a30-9df4-448255945b32",
   "metadata": {},
   "outputs": [],
   "source": [
    "from collections import Counter\n",
    "\n",
    "import numpy as np\n",
    "import pandas as pd\n",
    "import tensorflow as tf\n",
    "import scipy\n",
    "from sklearn.model_selection import train_test_split\n",
    "import tensorflow_probability as tfp\n",
    "import matplotlib.pyplot as plt\n",
    "import seaborn as sns\n",
    "sns.set_context('notebook')"
   ]
  },
  {
   "cell_type": "code",
   "execution_count": 2,
   "id": "1490547e-a358-4252-a72d-e8d014f0c510",
   "metadata": {},
   "outputs": [],
   "source": [
    "\n",
    "\n",
    "def select_for_gz_mobile(df, num_galaxies=1000):\n",
    "    assert len(df) > num_galaxies\n",
    "    df_sorted = df.sort_values('rare-features_ring_fraction', ascending=False)\n",
    "    return df_sorted[:num_galaxies], df_sorted[num_galaxies:]\n",
    "\n",
    "\n",
    "def get_fake_mobile_votes(gz_ring_vote_fractions):\n",
    "    return scipy.stats.binom(n=10, p=gz_ring_vote_fractions).rvs(len(gz_ring_vote_fractions))\n"
   ]
  },
  {
   "cell_type": "code",
   "execution_count": 3,
   "id": "e0cdd5cf-5fef-4dd3-b5d0-55853ea4e09f",
   "metadata": {},
   "outputs": [],
   "source": [
    "frac_cols = ['smooth-or-featured_smooth_fraction',\n",
    " 'smooth-or-featured_featured-or-disk_fraction',\n",
    " 'smooth-or-featured_artifact_fraction',\n",
    " 'disk-edge-on_yes_fraction',\n",
    " 'disk-edge-on_no_fraction',\n",
    " 'has-spiral-arms_yes_fraction',\n",
    " 'has-spiral-arms_no_fraction',\n",
    " 'bar_strong_fraction',\n",
    " 'bar_weak_fraction',\n",
    " 'bar_no_fraction',\n",
    " 'bulge-size_dominant_fraction',\n",
    " 'bulge-size_large_fraction',\n",
    " 'bulge-size_moderate_fraction',\n",
    " 'bulge-size_small_fraction',\n",
    " 'bulge-size_none_fraction',\n",
    " 'how-rounded_round_fraction',\n",
    " 'how-rounded_in-between_fraction',\n",
    " 'how-rounded_cigar-shaped_fraction',\n",
    " 'edge-on-bulge_boxy_fraction',\n",
    " 'edge-on-bulge_none_fraction',\n",
    " 'edge-on-bulge_rounded_fraction',\n",
    " 'spiral-winding_tight_fraction',\n",
    " 'spiral-winding_medium_fraction',\n",
    " 'spiral-winding_loose_fraction',\n",
    " 'spiral-arm-count_1_fraction',\n",
    " 'spiral-arm-count_2_fraction',\n",
    " 'spiral-arm-count_3_fraction',\n",
    " 'spiral-arm-count_4_fraction',\n",
    " 'spiral-arm-count_more-than-4_fraction',\n",
    " 'spiral-arm-count_cant-tell_fraction',\n",
    " 'merging_none_fraction',\n",
    " 'merging_minor-disturbance_fraction',\n",
    " 'merging_major-disturbance_fraction',\n",
    " 'merging_merger_fraction']"
   ]
  },
  {
   "cell_type": "code",
   "execution_count": 4,
   "id": "1f9a5613-aabd-43b0-a1c9-bd7205a271fd",
   "metadata": {},
   "outputs": [],
   "source": [
    "decals_df = pd.read_parquet(\n",
    "    '/Users/walml/repos/zoobot_private/gz_decals_auto_posteriors.parquet',\n",
    "    columns=frac_cols + ['iauname'])"
   ]
  },
  {
   "cell_type": "code",
   "execution_count": 5,
   "id": "3784f6ec-e297-4725-8d99-1bc7291c152f",
   "metadata": {},
   "outputs": [],
   "source": [
    "# use vote fractions for now? but selected to fairly high fractions\n",
    "\n",
    "rare_df = pd.read_parquet('/Users/walml/repos/zoobot/data/rare_features_dr5_with_ml_morph.parquet')\n",
    "del rare_df['smooth-or-featured_featured-or-disk_fraction']\n",
    "del rare_df['disk-edge-on_no_fraction']\n",
    "del rare_df['has-spiral-arms_no_fraction']\n",
    "rare_df['is_ring'] = rare_df['rare-features_ring_fraction'] > 0.25   # TODO fraction. What the experts say, close enough for now\n"
   ]
  },
  {
   "cell_type": "code",
   "execution_count": 6,
   "id": "dc24622d-df37-499f-89c1-30f36e3b9b72",
   "metadata": {},
   "outputs": [
    {
     "data": {
      "text/plain": [
       "array(['iauname', 'rare-features_value', 'rare-features_total',\n",
       "       'rare-features_nothing', 'rare-features_ring',\n",
       "       'rare-features_irregular', 'rare-features_something-else',\n",
       "       'rare-features_overlapping', 'rare-features_dust-lane',\n",
       "       'rare-features_lens-or-arc', 'rare-features_nothing_fraction',\n",
       "       'rare-features_ring_fraction', 'rare-features_irregular_fraction',\n",
       "       'rare-features_something-else_fraction',\n",
       "       'rare-features_overlapping_fraction',\n",
       "       'rare-features_dust-lane_fraction',\n",
       "       'rare-features_lens-or-arc_fraction', 'png_loc', 'tag_count',\n",
       "       'local_png_loc', 'ring', 'is_ring'], dtype=object)"
      ]
     },
     "execution_count": 6,
     "metadata": {},
     "output_type": "execute_result"
    }
   ],
   "source": [
    "rare_df.columns.values"
   ]
  },
  {
   "cell_type": "code",
   "execution_count": 7,
   "id": "fea7b1e0-544a-4ecb-bcb2-adba25f86152",
   "metadata": {},
   "outputs": [],
   "source": [
    "vote_df = pd.merge(decals_df, rare_df, on='iauname', how='inner')"
   ]
  },
  {
   "cell_type": "code",
   "execution_count": 8,
   "id": "c031977e-b37e-4289-a74f-4bb139d51140",
   "metadata": {},
   "outputs": [
    {
     "data": {
      "text/plain": [
       "array(['smooth-or-featured_smooth_fraction',\n",
       "       'smooth-or-featured_featured-or-disk_fraction',\n",
       "       'smooth-or-featured_artifact_fraction',\n",
       "       'disk-edge-on_yes_fraction', 'disk-edge-on_no_fraction',\n",
       "       'has-spiral-arms_yes_fraction', 'has-spiral-arms_no_fraction',\n",
       "       'bar_strong_fraction', 'bar_weak_fraction', 'bar_no_fraction',\n",
       "       'bulge-size_dominant_fraction', 'bulge-size_large_fraction',\n",
       "       'bulge-size_moderate_fraction', 'bulge-size_small_fraction',\n",
       "       'bulge-size_none_fraction', 'how-rounded_round_fraction',\n",
       "       'how-rounded_in-between_fraction',\n",
       "       'how-rounded_cigar-shaped_fraction', 'edge-on-bulge_boxy_fraction',\n",
       "       'edge-on-bulge_none_fraction', 'edge-on-bulge_rounded_fraction',\n",
       "       'spiral-winding_tight_fraction', 'spiral-winding_medium_fraction',\n",
       "       'spiral-winding_loose_fraction', 'spiral-arm-count_1_fraction',\n",
       "       'spiral-arm-count_2_fraction', 'spiral-arm-count_3_fraction',\n",
       "       'spiral-arm-count_4_fraction',\n",
       "       'spiral-arm-count_more-than-4_fraction',\n",
       "       'spiral-arm-count_cant-tell_fraction', 'merging_none_fraction',\n",
       "       'merging_minor-disturbance_fraction',\n",
       "       'merging_major-disturbance_fraction', 'merging_merger_fraction',\n",
       "       'iauname', 'rare-features_value', 'rare-features_total',\n",
       "       'rare-features_nothing', 'rare-features_ring',\n",
       "       'rare-features_irregular', 'rare-features_something-else',\n",
       "       'rare-features_overlapping', 'rare-features_dust-lane',\n",
       "       'rare-features_lens-or-arc', 'rare-features_nothing_fraction',\n",
       "       'rare-features_ring_fraction', 'rare-features_irregular_fraction',\n",
       "       'rare-features_something-else_fraction',\n",
       "       'rare-features_overlapping_fraction',\n",
       "       'rare-features_dust-lane_fraction',\n",
       "       'rare-features_lens-or-arc_fraction', 'png_loc', 'tag_count',\n",
       "       'local_png_loc', 'ring', 'is_ring'], dtype=object)"
      ]
     },
     "execution_count": 8,
     "metadata": {},
     "output_type": "execute_result"
    }
   ],
   "source": [
    "vote_df.columns.values"
   ]
  },
  {
   "cell_type": "code",
   "execution_count": 9,
   "id": "5d52613a-6209-44a4-83ef-7c3e262bb5bd",
   "metadata": {},
   "outputs": [],
   "source": [
    "mobile_df, not_mobile_df = select_for_gz_mobile(vote_df, num_galaxies=5000)\n"
   ]
  },
  {
   "cell_type": "code",
   "execution_count": 10,
   "id": "38cc5b34-815b-4b2e-9647-b36b68e5c229",
   "metadata": {},
   "outputs": [],
   "source": [
    "\n",
    "mobile_df['ring_votes'] = get_fake_mobile_votes(mobile_df['rare-features_ring_fraction'].values)\n",
    "not_mobile_df['ring_votes'] = get_fake_mobile_votes(np.ones(len(not_mobile_df))*0.03)  # assume base rate - TODO could be better\n",
    "\n",
    "mobile_train_df, mobile_val_df = train_test_split(mobile_df, test_size=0.2)\n",
    "not_mobile_train_df, not_mobile_val_df = train_test_split(not_mobile_df, test_size=0.2)\n",
    "\n",
    "train_df = pd.concat([mobile_train_df, not_mobile_train_df[:len(mobile_train_df)]])  # equal size\n",
    "val_df = pd.concat([mobile_val_df, not_mobile_val_df[:len(mobile_train_df)]])\n",
    "\n",
    "train_df = train_df.sample(len(train_df))\n",
    "val_df = val_df.sample(len(val_df))"
   ]
  },
  {
   "cell_type": "code",
   "execution_count": 11,
   "id": "b451d1fb-0377-4390-8bac-6b9066f4f1d4",
   "metadata": {},
   "outputs": [],
   "source": [
    "# frac_cols = [col for col in decals_df.columns.values if col.endswith('_fraction')]\n",
    "# frac_cols\n",
    "batch_size = 128"
   ]
  },
  {
   "cell_type": "code",
   "execution_count": 12,
   "id": "a6684d45-4d2a-455e-92ad-dfa178aece7c",
   "metadata": {},
   "outputs": [
    {
     "name": "stderr",
     "output_type": "stream",
     "text": [
      "2021-08-12 11:19:35.337204: I tensorflow/core/platform/cpu_feature_guard.cc:142] This TensorFlow binary is optimized with oneAPI Deep Neural Network Library (oneDNN) to use the following CPU instructions in performance-critical operations:  AVX2 FMA\n",
      "To enable them in other operations, rebuild TensorFlow with the appropriate compiler flags.\n"
     ]
    }
   ],
   "source": [
    "\n",
    "mobile_train_dataset = tf.data.Dataset.from_tensor_slices((train_df[frac_cols], train_df['ring_votes'].astype(np.float32))).batch(batch_size)\n",
    "mobile_val_dataset = tf.data.Dataset.from_tensor_slices((val_df[frac_cols], val_df['ring_votes'].astype(np.float32))).batch(batch_size)"
   ]
  },
  {
   "cell_type": "code",
   "execution_count": 13,
   "id": "0b34915e-b0a8-4278-9f18-b8e70ebd0cf8",
   "metadata": {},
   "outputs": [
    {
     "name": "stdout",
     "output_type": "stream",
     "text": [
      "(<tf.Tensor: shape=(128, 34), dtype=float64, numpy=\n",
      "array([[0.06139668, 0.89803319, 0.04057013, ..., 0.19695421, 0.04601006,\n",
      "        0.01199553],\n",
      "       [0.75343465, 0.17363223, 0.07293312, ..., 0.09672001, 0.02330925,\n",
      "        0.01372639],\n",
      "       [0.67068268, 0.27760468, 0.05171264, ..., 0.21243904, 0.02813141,\n",
      "        0.01386826],\n",
      "       ...,\n",
      "       [0.29556386, 0.61244115, 0.09199499, ..., 0.25026891, 0.07821   ,\n",
      "        0.02548909],\n",
      "       [0.72630126, 0.20996549, 0.06373325, ..., 0.29385262, 0.06728312,\n",
      "        0.07135182],\n",
      "       [0.28608166, 0.62457949, 0.08933885, ..., 0.22583223, 0.20784676,\n",
      "        0.02799618]])>, <tf.Tensor: shape=(128,), dtype=float32, numpy=\n",
      "array([ 0.,  0.,  0.,  0.,  8.,  8.,  0.,  6.,  5.,  6.,  0.,  0.,  1.,\n",
      "        0.,  6.,  0., 10., 10.,  4.,  9.,  6.,  0.,  4.,  8.,  1.,  0.,\n",
      "        5.,  5.,  5.,  0.,  0., 10.,  1.,  0.,  7.,  7.,  0.,  6., 10.,\n",
      "        6.,  0.,  7.,  7.,  0.,  0.,  1., 10.,  0.,  0.,  0.,  0.,  0.,\n",
      "        7.,  0.,  6.,  6., 10.,  0.,  2.,  5.,  0.,  1.,  1.,  0.,  7.,\n",
      "        5.,  0.,  9.,  5.,  7.,  0.,  7.,  0.,  0.,  0.,  4.,  6.,  7.,\n",
      "       10.,  0.,  0.,  4.,  3.,  2.,  6.,  5.,  0.,  1.,  9.,  0.,  3.,\n",
      "        0.,  0.,  1.,  0.,  0.,  1.,  0.,  0.,  0.,  4.,  6.,  9.,  0.,\n",
      "        5.,  0.,  0.,  5.,  7., 10.,  0.,  0.,  9.,  0.,  6.,  2.,  7.,\n",
      "        1.,  0.,  4.,  7.,  9.,  4.,  9., 10.,  3.,  5.,  0.],\n",
      "      dtype=float32)>)\n"
     ]
    }
   ],
   "source": [
    "for batch in mobile_train_dataset.take(1):\n",
    "    print(batch)"
   ]
  },
  {
   "cell_type": "code",
   "execution_count": 14,
   "id": "4b21f873-2d78-4b66-b6e5-6b180470a293",
   "metadata": {},
   "outputs": [],
   "source": [
    "# def binomial_loss(y_true, y_pred):  # y_true should be the counts, y_pred should be the predicted probabilities\n",
    "#     return -tfp.distributions.Binomial(total_count=10, probs=y_pred).log_prob(y_true)  # important minus sign\n",
    "\n",
    "def dirichlet_multinomial_loss(y_true, y_pred):\n",
    "    # expects y_pred to be [alpha, beta], each from e.g. 1 to 101 if using Lambda layer\n",
    "    votes = tf.concat([y_true, 10-y_true], axis=1)  # need to mirror the \"no\" vote as could in principle be many answers\n",
    "    return -tfp.distributions.DirichletMultinomial(total_count=10, concentration=y_pred).log_prob(votes)"
   ]
  },
  {
   "cell_type": "code",
   "execution_count": 15,
   "id": "611bbcff-cc88-43f1-8b65-1c43a485028d",
   "metadata": {},
   "outputs": [],
   "source": [
    "# batch[1]"
   ]
  },
  {
   "cell_type": "code",
   "execution_count": 16,
   "id": "503ebe1d-1b7e-4765-a0f2-1c5e15c900d8",
   "metadata": {},
   "outputs": [],
   "source": [
    "# binomial_loss(batch[1], tf.constant(0.8))"
   ]
  },
  {
   "cell_type": "code",
   "execution_count": 17,
   "id": "1c34b8f3-c0f8-4f6b-ba9b-ed4556b68c16",
   "metadata": {},
   "outputs": [
    {
     "name": "stdout",
     "output_type": "stream",
     "text": [
      "Epoch 1/40\n"
     ]
    },
    {
     "name": "stderr",
     "output_type": "stream",
     "text": [
      "2021-08-12 11:19:35.934128: I tensorflow/compiler/mlir/mlir_graph_optimization_pass.cc:176] None of the MLIR Optimization Passes are enabled (registered 2)\n"
     ]
    },
    {
     "name": "stdout",
     "output_type": "stream",
     "text": [
      "63/63 - 1s - loss: 3.5742 - val_loss: 2.9616\n",
      "Epoch 2/40\n",
      "63/63 - 0s - loss: 2.8208 - val_loss: 2.0782\n",
      "Epoch 3/40\n",
      "63/63 - 0s - loss: 2.1349 - val_loss: 1.6441\n",
      "Epoch 4/40\n",
      "63/63 - 0s - loss: 1.9630 - val_loss: 1.5736\n",
      "Epoch 5/40\n",
      "63/63 - 0s - loss: 1.9311 - val_loss: 1.5479\n",
      "Epoch 6/40\n",
      "63/63 - 0s - loss: 1.9153 - val_loss: 1.5288\n",
      "Epoch 7/40\n",
      "63/63 - 0s - loss: 1.9050 - val_loss: 1.5167\n",
      "Epoch 8/40\n",
      "63/63 - 0s - loss: 1.8973 - val_loss: 1.5070\n",
      "Epoch 9/40\n",
      "63/63 - 0s - loss: 1.8915 - val_loss: 1.4984\n",
      "Epoch 10/40\n",
      "63/63 - 0s - loss: 1.8870 - val_loss: 1.4932\n",
      "Epoch 11/40\n",
      "63/63 - 0s - loss: 1.8836 - val_loss: 1.4879\n",
      "Epoch 12/40\n",
      "63/63 - 0s - loss: 1.8807 - val_loss: 1.4821\n",
      "Epoch 13/40\n",
      "63/63 - 0s - loss: 1.8781 - val_loss: 1.4782\n",
      "Epoch 14/40\n",
      "63/63 - 0s - loss: 1.8759 - val_loss: 1.4761\n",
      "Epoch 15/40\n",
      "63/63 - 0s - loss: 1.8740 - val_loss: 1.4721\n",
      "Epoch 16/40\n",
      "63/63 - 0s - loss: 1.8722 - val_loss: 1.4700\n",
      "Epoch 17/40\n",
      "63/63 - 0s - loss: 1.8708 - val_loss: 1.4688\n",
      "Epoch 18/40\n",
      "63/63 - 0s - loss: 1.8695 - val_loss: 1.4666\n",
      "Epoch 19/40\n",
      "63/63 - 0s - loss: 1.8682 - val_loss: 1.4647\n",
      "Epoch 20/40\n",
      "63/63 - 0s - loss: 1.8671 - val_loss: 1.4629\n",
      "Epoch 21/40\n",
      "63/63 - 0s - loss: 1.8662 - val_loss: 1.4613\n",
      "Epoch 22/40\n",
      "63/63 - 0s - loss: 1.8652 - val_loss: 1.4601\n",
      "Epoch 23/40\n",
      "63/63 - 0s - loss: 1.8643 - val_loss: 1.4596\n",
      "Epoch 24/40\n",
      "63/63 - 0s - loss: 1.8634 - val_loss: 1.4586\n",
      "Epoch 25/40\n",
      "63/63 - 0s - loss: 1.8626 - val_loss: 1.4569\n",
      "Epoch 26/40\n",
      "63/63 - 0s - loss: 1.8617 - val_loss: 1.4568\n",
      "Epoch 27/40\n",
      "63/63 - 0s - loss: 1.8609 - val_loss: 1.4566\n",
      "Epoch 28/40\n",
      "63/63 - 0s - loss: 1.8601 - val_loss: 1.4566\n",
      "Epoch 29/40\n",
      "63/63 - 0s - loss: 1.8594 - val_loss: 1.4562\n",
      "Epoch 30/40\n",
      "63/63 - 0s - loss: 1.8587 - val_loss: 1.4562\n",
      "Epoch 31/40\n",
      "63/63 - 0s - loss: 1.8580 - val_loss: 1.4550\n",
      "Epoch 32/40\n",
      "63/63 - 0s - loss: 1.8573 - val_loss: 1.4542\n",
      "Epoch 33/40\n",
      "63/63 - 0s - loss: 1.8566 - val_loss: 1.4534\n",
      "Epoch 34/40\n",
      "63/63 - 0s - loss: 1.8561 - val_loss: 1.4527\n",
      "Epoch 35/40\n",
      "63/63 - 0s - loss: 1.8555 - val_loss: 1.4517\n",
      "Epoch 36/40\n",
      "63/63 - 0s - loss: 1.8549 - val_loss: 1.4512\n",
      "Epoch 37/40\n",
      "63/63 - 0s - loss: 1.8544 - val_loss: 1.4509\n",
      "Epoch 38/40\n",
      "63/63 - 0s - loss: 1.8538 - val_loss: 1.4505\n",
      "Epoch 39/40\n",
      "63/63 - 0s - loss: 1.8533 - val_loss: 1.4495\n",
      "Epoch 40/40\n",
      "63/63 - 0s - loss: 1.8527 - val_loss: 1.4498\n"
     ]
    },
    {
     "data": {
      "text/plain": [
       "<tensorflow.python.keras.callbacks.History at 0x7fe862c16970>"
      ]
     },
     "execution_count": 17,
     "metadata": {},
     "output_type": "execute_result"
    }
   ],
   "source": [
    "\n",
    "classifier = tf.keras.models.Sequential([\n",
    "    tf.keras.layers.InputLayer(input_shape=(len(frac_cols))),\n",
    "    tf.keras.layers.Dense(16, activation=tf.nn.relu),\n",
    "    tf.keras.layers.Dense(64, activation=tf.nn.relu),\n",
    "#     tf.keras.layers.Dense(1, activation=tf.nn.sigmoid)  # for binomial loss\n",
    "    tf.keras.layers.Dense(2, activation=tf.nn.sigmoid),  # for Dirichlet-Multinomial loss,\n",
    "    tf.keras.layers.Lambda(lambda x: (x * 100) + 1, output_shape=(2))\n",
    "])\n",
    "\n",
    "classifier.compile(\n",
    "#     loss=binomial_loss,\n",
    "    loss = dirichlet_multinomial_loss,\n",
    "    optimizer=tf.keras.optimizers.Adam(learning_rate=0.001)\n",
    ")\n",
    "\n",
    "# train to estimate p(ring|votes,voted)\n",
    "early_stopping_callback = tf.keras.callbacks.EarlyStopping(patience=10)\n",
    "\n",
    "classifier.fit(mobile_train_dataset, validation_data=mobile_val_dataset, epochs=40, callbacks=[early_stopping_callback], verbose=2)"
   ]
  },
  {
   "cell_type": "code",
   "execution_count": null,
   "id": "a9b3f41e-9972-417d-a71f-7d8d04bc75fa",
   "metadata": {},
   "outputs": [],
   "source": []
  },
  {
   "cell_type": "code",
   "execution_count": 18,
   "id": "4687bd57-cd14-45c4-91a3-939c4c8b8c11",
   "metadata": {},
   "outputs": [
    {
     "name": "stdout",
     "output_type": "stream",
     "text": [
      "40/40 [==============================] - 0s 1ms/step - loss: 1.4498\n",
      "1.4498131275177002\n"
     ]
    }
   ],
   "source": [
    "print(classifier.evaluate(mobile_val_dataset))"
   ]
  },
  {
   "cell_type": "code",
   "execution_count": 19,
   "id": "4a8cde2c-447c-47a7-b5eb-35db9c9706cc",
   "metadata": {},
   "outputs": [
    {
     "data": {
      "text/plain": [
       "<tf.Tensor: shape=(128,), dtype=float32, numpy=\n",
       "array([ 0.,  0.,  0.,  0.,  8.,  8.,  0.,  6.,  5.,  6.,  0.,  0.,  1.,\n",
       "        0.,  6.,  0., 10., 10.,  4.,  9.,  6.,  0.,  4.,  8.,  1.,  0.,\n",
       "        5.,  5.,  5.,  0.,  0., 10.,  1.,  0.,  7.,  7.,  0.,  6., 10.,\n",
       "        6.,  0.,  7.,  7.,  0.,  0.,  1., 10.,  0.,  0.,  0.,  0.,  0.,\n",
       "        7.,  0.,  6.,  6., 10.,  0.,  2.,  5.,  0.,  1.,  1.,  0.,  7.,\n",
       "        5.,  0.,  9.,  5.,  7.,  0.,  7.,  0.,  0.,  0.,  4.,  6.,  7.,\n",
       "       10.,  0.,  0.,  4.,  3.,  2.,  6.,  5.,  0.,  1.,  9.,  0.,  3.,\n",
       "        0.,  0.,  1.,  0.,  0.,  1.,  0.,  0.,  0.,  4.,  6.,  9.,  0.,\n",
       "        5.,  0.,  0.,  5.,  7., 10.,  0.,  0.,  9.,  0.,  6.,  2.,  7.,\n",
       "        1.,  0.,  4.,  7.,  9.,  4.,  9., 10.,  3.,  5.,  0.],\n",
       "      dtype=float32)>"
      ]
     },
     "execution_count": 19,
     "metadata": {},
     "output_type": "execute_result"
    }
   ],
   "source": [
    "batch[1]"
   ]
  },
  {
   "cell_type": "code",
   "execution_count": 20,
   "id": "29365108-d2c3-482d-9771-3a2d65a669cb",
   "metadata": {},
   "outputs": [
    {
     "data": {
      "text/plain": [
       "array([[ 1.0658929,  3.5772662],\n",
       "       [ 1.3635943,  3.0101876],\n",
       "       [ 1.0937492,  2.98451  ],\n",
       "       [ 1.0018427, 13.103471 ],\n",
       "       [ 1.1130611,  1.8840322],\n",
       "       [ 1.015378 ,  3.0323098],\n",
       "       [ 1.0322491, 10.618849 ],\n",
       "       [ 2.1261315,  1.5645335],\n",
       "       [ 1.83884  ,  1.652039 ],\n",
       "       [ 2.1430383,  2.692572 ]], dtype=float32)"
      ]
     },
     "execution_count": 20,
     "metadata": {},
     "output_type": "execute_result"
    }
   ],
   "source": [
    "example_preds = classifier.predict(batch[0][:batch_size])[:10]\n",
    "example_preds"
   ]
  },
  {
   "cell_type": "code",
   "execution_count": 21,
   "id": "0523d93f-5b7d-4108-93f1-45e3e0825d2a",
   "metadata": {},
   "outputs": [],
   "source": [
    "def viz_multinomial(concentrations):\n",
    "    x_votes = np.arange(10)\n",
    "    votes = np.stack([x_votes, 10-x_votes], axis=1)\n",
    "    for n, concentration in enumerate(concentrations):\n",
    "        plt.plot(x_votes, tfp.distributions.DirichletMultinomial(total_count=10, concentration=concentration).prob(votes))\n",
    "    #     plt.axvline(batch[1][n])"
   ]
  },
  {
   "cell_type": "code",
   "execution_count": 22,
   "id": "a28afcc8-c6de-415c-b0d2-3ed8b07d1b1f",
   "metadata": {},
   "outputs": [
    {
     "data": {
      "image/png": "[encoded data removed]",
      "text/plain": [
       "<Figure size 432x288 with 1 Axes>"
      ]
     },
     "metadata": {
      "needs_background": "light"
     },
     "output_type": "display_data"
    }
   ],
   "source": [
    "viz_multinomial(example_preds)"
   ]
  },
  {
   "cell_type": "code",
   "execution_count": null,
   "id": "b74cd8d5-4bd1-4b60-a34e-ef5ef89b2a41",
   "metadata": {},
   "outputs": [],
   "source": []
  },
  {
   "cell_type": "code",
   "execution_count": 23,
   "id": "22cad19f-211a-4301-8b21-276586f8b744",
   "metadata": {},
   "outputs": [],
   "source": [
    "# and now calibrate to estimate p(ring)"
   ]
  },
  {
   "cell_type": "code",
   "execution_count": 24,
   "id": "24006a83-1748-4742-b4ae-ca20e25cbd92",
   "metadata": {},
   "outputs": [],
   "source": [
    "# unlabelled_df = vote_df.sample(10000)  # to be calibrated\n",
    "all_preds = classifier.predict(vote_df[frac_cols])"
   ]
  },
  {
   "cell_type": "code",
   "execution_count": null,
   "id": "0985ea0e-96c1-404d-a2d9-d77e9f79fd85",
   "metadata": {},
   "outputs": [],
   "source": []
  },
  {
   "cell_type": "code",
   "execution_count": 25,
   "id": "befeb90c-4b07-4eeb-bc14-49661a15c721",
   "metadata": {},
   "outputs": [],
   "source": [
    "\n",
    "random_expert_labels = vote_df.sample(1000)  # for estimating ring rate in random sample\n",
    "expert_labelled_rings = random_expert_labels.query('is_ring')\n",
    "random_expert_ring_preds = classifier.predict(expert_labelled_rings[frac_cols])\n",
    "\n",
    "\n",
    "expert_labelled_not_rings = random_expert_labels[~random_expert_labels['is_ring']]\n",
    "random_expert_not_ring_preds = classifier.predict(expert_labelled_not_rings[frac_cols])\n"
   ]
  },
  {
   "cell_type": "code",
   "execution_count": 26,
   "id": "6ddb8542-0fea-4014-8b26-05d554157b1f",
   "metadata": {},
   "outputs": [
    {
     "data": {
      "text/plain": [
       "array([ 2.8739433,  1.6351471,  2.871811 ,  3.307217 ,  2.2466445,\n",
       "        1.3427432,  2.3423264,  1.5622075,  1.7421166,  3.7375503,\n",
       "        1.9978681,  2.628828 ,  1.9478211,  3.8415697,  2.3179839,\n",
       "        2.6566322,  1.7541761,  1.4382863,  1.5091608,  1.7504508,\n",
       "        6.8351336,  1.5562067,  3.4690032,  1.8605733,  2.9019828,\n",
       "        1.9563357,  2.0801017,  1.4318609,  2.01081  ,  1.8436024,\n",
       "        1.687468 ,  2.4204488, 10.8400545,  2.0601833,  1.5497143,\n",
       "        2.1135297,  1.9459229,  1.8103714,  1.9429247,  1.6564349,\n",
       "        4.019549 ,  1.6376117,  1.6541014,  1.8153274,  1.6372406,\n",
       "        1.8548975,  1.9919927,  8.252371 ,  1.4657865,  1.9195075,\n",
       "        3.7796223,  2.6980484,  2.2327237,  2.290691 ,  2.5881271,\n",
       "        2.8631556,  1.6924226,  1.804074 ,  1.383313 ,  1.3777728,\n",
       "        2.410009 ,  2.0297894,  1.7704154,  1.8209898,  2.464334 ],\n",
       "      dtype=float32)"
      ]
     },
     "execution_count": 26,
     "metadata": {},
     "output_type": "execute_result"
    }
   ],
   "source": [
    "random_expert_ring_preds.mean(axis=1)"
   ]
  },
  {
   "cell_type": "code",
   "execution_count": 27,
   "id": "2f568eaf-c773-4796-9cba-e6abf00c7f50",
   "metadata": {},
   "outputs": [],
   "source": [
    "def concentrations_to_mode_prob(concentrations):\n",
    "    return (concentrations[:, 0]-1)/(concentrations[:, 1]+concentrations[:, 0]-2)"
   ]
  },
  {
   "cell_type": "code",
   "execution_count": 28,
   "id": "fce7c8b5-92b8-4434-b441-860a6a6762d9",
   "metadata": {},
   "outputs": [],
   "source": [
    "def concentrations_to_mean_prob(concentrations):\n",
    "#     https://en.wikipedia.org/wiki/Beta_distribution\n",
    "    return 1/(1+(concentrations[:, 1]/concentrations[:, 0]))"
   ]
  },
  {
   "cell_type": "code",
   "execution_count": 29,
   "id": "40573c39-5946-4858-acfe-65851a901060",
   "metadata": {},
   "outputs": [
    {
     "data": {
      "text/plain": [
       "<matplotlib.legend.Legend at 0x7fe8644151c0>"
      ]
     },
     "execution_count": 29,
     "metadata": {},
     "output_type": "execute_result"
    },
    {
     "data": {
      "image/png": "[encoded data removed]",
      "text/plain": [
       "<Figure size 432x288 with 1 Axes>"
      ]
     },
     "metadata": {
      "needs_background": "light"
     },
     "output_type": "display_data"
    }
   ],
   "source": [
    "# _, viz_bins = np.histogram(np.linspace(0, 1), bins=30)\n",
    "# # plt.hist(random_preds, density=True, alpha=.5, label='All', bins=viz_bins)\n",
    "# plt.hist(random_expert_ring_preds, density=True, alpha=.5, label='Rings', bins=viz_bins)\n",
    "# plt.hist(random_expert_not_ring_preds, density=True, alpha=.5, label='Not Rings', bins=viz_bins)\n",
    "# # should be same as they are all random\n",
    "# plt.xlabel('Model f_w(x)')\n",
    "# plt.legend()\n",
    "\n",
    "_, viz_bins = np.histogram(np.linspace(0, 1), bins=30)\n",
    "# plt.hist(random_preds, density=True, alpha=.5, label='All', bins=viz_bins)\n",
    "plt.hist(concentrations_to_mean_prob(random_expert_ring_preds), density=True, alpha=.5, label='Rings', bins=viz_bins)\n",
    "plt.hist(concentrations_to_mean_prob(random_expert_not_ring_preds), density=True, alpha=.5, label='Not Rings', bins=viz_bins)\n",
    "# should be same as they are all random\n",
    "plt.xlabel('Model f_w(x)')\n",
    "plt.legend()"
   ]
  },
  {
   "cell_type": "code",
   "execution_count": null,
   "id": "13e1a8f1-aa83-49d9-8502-7984057d378a",
   "metadata": {},
   "outputs": [],
   "source": []
  },
  {
   "cell_type": "code",
   "execution_count": 30,
   "id": "e6a1904f-717c-433d-89e7-00e4786290a5",
   "metadata": {},
   "outputs": [],
   "source": [
    "def get_percentile_bins(x, num_bins=10):\n",
    "    percentiles_to_check = [n * (100/num_bins) for n in range(0, num_bins+1)]\n",
    "\n",
    "    # 11 percentiles, forming 10 bins\n",
    "    percentiles = np.percentile(x, percentiles_to_check)  # percentiles of all predictions\n",
    "    percentiles[-1] = percentiles[-1] + 1e-8  # deals with the awkwards == max case\n",
    "    \n",
    "    bins = np.array([(low_p, high_p) for (low_p, high_p) in zip(percentiles[:-1], percentiles[1:])])\n",
    "    bin_centers = np.array([low_p + ((high_p - low_p)/2) for (low_p, high_p) in zip(percentiles[:-1], percentiles[1:])])\n",
    "    return percentiles, bins, bin_centers"
   ]
  },
  {
   "cell_type": "code",
   "execution_count": 31,
   "id": "59f66784-411c-4b81-af19-2b113931c3ef",
   "metadata": {},
   "outputs": [],
   "source": [
    "def get_percentile_histogram(x, percentiles, normalize=True):\n",
    "    # digitize gives index such that x is between bins[i-1] < x < bins[i]\n",
    "    # values outside the range snap to the closest bin (i.e. 0 or len(bins))\n",
    "    bin_of_each_x = np.digitize(x, percentiles)\n",
    "    x_per_bin_counter = Counter(bin_of_each_x)\n",
    "#     rings_per_bin_counter  # will have indices from 1 to 11 (as x == min bin gives 1, not 0)\n",
    "    assert x_per_bin_counter[len(percentiles)+1] == 0\n",
    "    \n",
    "    num_bins = len(percentiles)-1\n",
    "    x_per_bin = np.zeros(num_bins)  # 10 \n",
    "    for bin_index in range(num_bins): # 0 to 10\n",
    "        x_per_bin[bin_index] = x_per_bin_counter[bin_index+1]  # indexed via 1 to 11\n",
    "        \n",
    "    assert x_per_bin.sum() == len(x)\n",
    "\n",
    "    if normalize:\n",
    "        return x_per_bin / len(x)\n",
    "    else:\n",
    "        return x_per_bin  # counts of values from percentile[i] to percentile[i+1]. Will be one less then len(percentiles)"
   ]
  },
  {
   "cell_type": "code",
   "execution_count": 32,
   "id": "a54adfea-34a9-45eb-b5cc-6aaab9ad342b",
   "metadata": {},
   "outputs": [],
   "source": [
    "# or, can draw a (continuous) value from DM and use that as the score"
   ]
  },
  {
   "cell_type": "code",
   "execution_count": 33,
   "id": "5a8dfdda-d5e7-4f4a-8545-86acb67ea310",
   "metadata": {},
   "outputs": [],
   "source": [
    "def preds_to_sampled_vote(concentrations, num_samples=100):\n",
    "#     WHY WHY WHY is concentration0 beta and concentration1 alpha...\n",
    "    beta = tfp.distributions.Beta(concentration1=concentrations[:,0], concentration0=concentrations[:, 1])\n",
    "    return beta.sample(100).numpy().flatten()"
   ]
  },
  {
   "cell_type": "code",
   "execution_count": 34,
   "id": "32ca993c-fea4-447e-8681-915608b26ff8",
   "metadata": {},
   "outputs": [],
   "source": [
    "def preds_to_mean_prob(concentrations, num_samples=100):\n",
    "#     WHY WHY WHY is concentration0 beta and concentration1 alpha...\n",
    "    beta = tfp.distributions.Beta(concentration1=concentrations[:,0], concentration0=concentrations[:, 1])\n",
    "    return beta.mean()"
   ]
  },
  {
   "cell_type": "code",
   "execution_count": 35,
   "id": "902b46e8-ce45-4830-b641-d9211a1657d0",
   "metadata": {},
   "outputs": [],
   "source": [
    "# def get_ring_rates_with_sampling(all_preds, random_expert_ring_preds, random_expert_not_ring_preds):\n",
    "#     all_outputs = \n",
    "#     random_expert_ring_outputs = tfp.distributions.Beta(total_count=10, concentrations=all_preds).sample()\n",
    "#     random_expert_not_ring_outputs = tfp.distributions.Beta(total_count=10, concentrations=all_preds).sample()\n",
    "    \n",
    "#     percentiles, _, bin_centers = get_percentile_bins(all_outputs, num_bins=10)\n",
    "    \n",
    "#     ring_rates = get_percentile_histogram(random_expert_ring_outputs.squeeze(), percentiles, normalize=True)\n",
    "#     not_ring_rates = get_percentile_histogram(random_expert_not_ring_outputs.squeeze(), percentiles, normalize=True)\n",
    "    \n",
    "#     return percentiles, ring_rates, not_ring_rates\n",
    "    "
   ]
  },
  {
   "cell_type": "code",
   "execution_count": 122,
   "id": "42fc8807-d024-4a45-9186-42c0b302eb19",
   "metadata": {},
   "outputs": [],
   "source": [
    "def get_percentile_ring_rates(all_preds, random_expert_ring_preds, random_expert_not_ring_preds, pred_to_output_func):\n",
    "#     better for score of single predicted p, which won't cover whole domain\n",
    "    \n",
    "    all_outputs = pred_to_output_func(all_preds)\n",
    "    random_expert_ring_outputs = pred_to_output_func(random_expert_ring_preds)\n",
    "    random_expert_not_ring_outputs = pred_to_output_func(random_expert_not_ring_preds)\n",
    "    \n",
    "    percentiles, _, bin_centers = get_percentile_bins(all_outputs, num_bins=10)\n",
    "\n",
    "    ring_rates = get_percentile_histogram(random_expert_ring_outputs.squeeze(), percentiles, normalize=True)\n",
    "    not_ring_rates = get_percentile_histogram(random_expert_not_ring_outputs.squeeze(), percentiles, normalize=True)\n",
    "    return percentiles, bin_centers, ring_rates, not_ring_rates"
   ]
  },
  {
   "cell_type": "code",
   "execution_count": 123,
   "id": "3a2a9368-9c61-4b2d-af67-aea0285a25bd",
   "metadata": {},
   "outputs": [],
   "source": [
    "# all_preds not needed\n",
    "def get_fixed_bin_ring_rates(random_expert_ring_preds, random_expert_not_ring_preds, pred_to_output_func=preds_to_sampled_vote):\n",
    "#     better for sampled outputs of p, 0-1 domain enforced\n",
    "    random_expert_ring_outputs = pred_to_output_func(random_expert_ring_preds)\n",
    "    random_expert_not_ring_outputs = pred_to_output_func(random_expert_not_ring_preds)\n",
    "    \n",
    "    _, bin_edges = np.histogram(np.linspace(0., 1.), bins=30)\n",
    "#     _ = plt.hist(random_expert_ring_outputs, alpha=.5, density=True, bins=bin_edges)\n",
    "#     _ = plt.hist(random_expert_not_ring_outputs, alpha=.5, density=True, bins=bin_edges)\n",
    "\n",
    "    ring_counts, _ = np.histogram(random_expert_ring_outputs, bins=bin_edges)\n",
    "    ring_rates = ring_counts / len(random_expert_ring_outputs)\n",
    "    \n",
    "    not_ring_counts, _ = np.histogram(random_expert_not_ring_outputs, bins=bin_edges)\n",
    "    not_ring_rates = not_ring_counts / len(random_expert_not_ring_outputs)\n",
    "    \n",
    "    assert np.allclose(ring_rates.sum(), 1)\n",
    "    assert np.allclose(not_ring_rates.sum(), 1)\n",
    "    \n",
    "    bin_centers = (bin_edges + (bin_edges[1] - bin_edges[0])/2)[:-1]\n",
    "\n",
    "#     print(len(ring_rates), len(not_ring_rates))\n",
    "    return bin_edges, bin_centers, ring_rates, not_ring_rates"
   ]
  },
  {
   "cell_type": "code",
   "execution_count": null,
   "id": "d1d4d704-08f4-492c-8da4-e3189d36d2eb",
   "metadata": {},
   "outputs": [],
   "source": []
  },
  {
   "cell_type": "code",
   "execution_count": 174,
   "id": "906839a9-9f3b-412a-9961-8f1696891706",
   "metadata": {},
   "outputs": [],
   "source": [
    "# bin_edges, bin_centers, ring_rates, not_ring_rates = get_fixed_bin_ring_rates(random_expert_ring_preds, random_expert_not_ring_preds, pred_to_output_func)\n",
    "bin_edges, bin_centers, ring_rates, not_ring_rates = get_percentile_ring_rates(all_preds, random_expert_ring_preds, random_expert_not_ring_preds, pred_to_output_func)"
   ]
  },
  {
   "cell_type": "code",
   "execution_count": 175,
   "id": "d5ef06f8-4292-41b9-8b16-8174fa6a56aa",
   "metadata": {},
   "outputs": [
    {
     "data": {
      "text/plain": [
       "<matplotlib.legend.Legend at 0x7fe834449d60>"
      ]
     },
     "execution_count": 175,
     "metadata": {},
     "output_type": "execute_result"
    },
    {
     "data": {
      "image/png": "[encoded data removed]",
      "text/plain": [
       "<Figure size 432x288 with 1 Axes>"
      ]
     },
     "metadata": {
      "needs_background": "light"
     },
     "output_type": "display_data"
    }
   ],
   "source": [
    "plt.scatter(bin_centers, ring_rates, label='Ring')\n",
    "plt.scatter(bin_centers, not_ring_rates, label='Not Ring')\n",
    "plt.legend()"
   ]
  },
  {
   "cell_type": "code",
   "execution_count": 176,
   "id": "6b394c13-ff27-4a16-b2eb-7f8275867db7",
   "metadata": {},
   "outputs": [
    {
     "data": {
      "text/plain": [
       "array([0.01892308, 0.02138462, 0.02353846, 0.02369231, 0.03415385,\n",
       "       0.03923077, 0.05338462, 0.08661538, 0.16323077, 0.53584615])"
      ]
     },
     "execution_count": 176,
     "metadata": {},
     "output_type": "execute_result"
    }
   ],
   "source": [
    "ring_rates"
   ]
  },
  {
   "cell_type": "code",
   "execution_count": 177,
   "id": "0774cffd-ace3-41e0-a6f5-faa6ff7d27e2",
   "metadata": {},
   "outputs": [
    {
     "data": {
      "text/plain": [
       "array([0.10521925, 0.10433155, 0.10346524, 0.10358289, 0.10100535,\n",
       "       0.10255615, 0.10287701, 0.1008984 , 0.09872727, 0.0773369 ])"
      ]
     },
     "execution_count": 177,
     "metadata": {},
     "output_type": "execute_result"
    }
   ],
   "source": [
    "not_ring_rates"
   ]
  },
  {
   "cell_type": "code",
   "execution_count": 191,
   "id": "9ea6e0f1-430b-477f-b1e2-48dd1a51966c",
   "metadata": {},
   "outputs": [],
   "source": [
    "def empirical_prob_from_histogram(values_to_query, rates, bin_edges):\n",
    "    bin_edges = bin_edges.copy()\n",
    "    bin_edges[-1]= bin_edges[-1]+1e-8  # if values_to_query includes exactly the max bin edge\n",
    "    # rates from 0 to 10, corresponding to frequencies between each (0-11) bin edge \n",
    "    assert all(values_to_query <= bin_edges.max())  # no rate above the highest bin edge, bins must cover whole range\n",
    "    bin_indices = np.digitize(values_to_query, bin_edges)  # should be 10 indices\n",
    "#     print(bin_indices.min(), bin_indices.max())\n",
    "    return np.array([rates[bin_index-1] for bin_index in bin_indices])\n"
   ]
  },
  {
   "cell_type": "code",
   "execution_count": 178,
   "id": "6da21914-6e0a-484a-95f6-022460493f80",
   "metadata": {},
   "outputs": [
    {
     "data": {
      "text/plain": [
       "0.053334965217185316"
      ]
     },
     "execution_count": 178,
     "metadata": {},
     "output_type": "execute_result"
    }
   ],
   "source": [
    "p_ring = vote_df['is_ring'].mean()\n",
    "p_ring"
   ]
  },
  {
   "cell_type": "code",
   "execution_count": 192,
   "id": "e86a566c-64ce-4dd2-9a9f-457318edf9e5",
   "metadata": {},
   "outputs": [],
   "source": [
    "def scale_probabity_to_random_sample(scores, ring_rates, not_ring_rates, p_ring, bin_edges):\n",
    "    p_score_given_ring = empirical_prob_from_histogram(scores, ring_rates, bin_edges)\n",
    "    p_score_given_not_ring = empirical_prob_from_histogram(scores, not_ring_rates, bin_edges)\n",
    "    return scale_probability_by_bayes(p_score_given_ring, p_score_given_not_ring, p_ring)\n",
    "    \n",
    "def scale_probability_by_bayes(p_score_given_ring, p_score_given_not_ring, p_ring):\n",
    "    return p_score_given_ring * p_ring / (p_score_given_ring * p_ring + p_score_given_not_ring * (1-p_ring))\n"
   ]
  },
  {
   "cell_type": "code",
   "execution_count": 206,
   "id": "78454374-f62e-46e6-adb5-d81f011cc8c3",
   "metadata": {},
   "outputs": [],
   "source": [
    "p_ring_given_output = scale_probabity_to_random_sample(concentrations_to_mean_prob(all_preds), ring_rates, not_ring_rates, p_ring, bin_edges)"
   ]
  },
  {
   "cell_type": "code",
   "execution_count": 207,
   "id": "e92965cd-0691-495e-b222-0d6ddd765a9d",
   "metadata": {},
   "outputs": [],
   "source": [
    "# single_prob_per_galaxy = tfp.distributions.Beta(concentration1=all_preds[:, 0], concentration0=all_preds[:, 1]).sample().numpy()"
   ]
  },
  {
   "cell_type": "code",
   "execution_count": 208,
   "id": "60d17959-8378-4f02-abac-c9e62269a301",
   "metadata": {},
   "outputs": [
    {
     "data": {
      "text/plain": [
       "array([0.89861214, 0.5158321 , 0.00705004, ..., 0.06068999, 0.17402121,\n",
       "       0.0410161 ], dtype=float32)"
      ]
     },
     "execution_count": 208,
     "metadata": {},
     "output_type": "execute_result"
    }
   ],
   "source": [
    "single_prob_per_galaxy"
   ]
  },
  {
   "cell_type": "code",
   "execution_count": 209,
   "id": "c3eb5b20-7994-4ca0-a54e-cdce09995415",
   "metadata": {},
   "outputs": [
    {
     "data": {
      "text/plain": [
       "(5.590377e-07, 0.99950135)"
      ]
     },
     "execution_count": 209,
     "metadata": {},
     "output_type": "execute_result"
    }
   ],
   "source": [
    "single_prob_per_galaxy.min(), single_prob_per_galaxy.max()"
   ]
  },
  {
   "cell_type": "code",
   "execution_count": 210,
   "id": "fc574564-81da-4002-9a75-fa3444e46a4f",
   "metadata": {},
   "outputs": [
    {
     "data": {
      "text/plain": [
       "11"
      ]
     },
     "execution_count": 210,
     "metadata": {},
     "output_type": "execute_result"
    }
   ],
   "source": [
    "len(bin_edges)"
   ]
  },
  {
   "cell_type": "code",
   "execution_count": 211,
   "id": "33b35f63-dcbe-496a-9c5e-81e22f7edb04",
   "metadata": {},
   "outputs": [],
   "source": [
    "p_ring_given_output = scale_probabity_to_random_sample(\n",
    "    scores=single_prob_per_galaxy,\n",
    "    ring_rates=ring_rates,\n",
    "    not_ring_rates=not_ring_rates,\n",
    "    p_ring=p_ring,\n",
    "    bin_edges=bin_edges\n",
    ")"
   ]
  },
  {
   "cell_type": "code",
   "execution_count": 212,
   "id": "9262460f-1857-4d3f-8827-88be09af84b1",
   "metadata": {},
   "outputs": [
    {
     "data": {
      "image/png": "[encoded data removed]",
      "text/plain": [
       "<Figure size 432x288 with 1 Axes>"
      ]
     },
     "metadata": {
      "needs_background": "light"
     },
     "output_type": "display_data"
    }
   ],
   "source": [
    "_ = plt.hist(p_ring_given_output, bins=30)"
   ]
  },
  {
   "cell_type": "code",
   "execution_count": 213,
   "id": "0dec324a-edd7-4dfe-ab10-ed28e4734793",
   "metadata": {},
   "outputs": [],
   "source": [
    "# pd.value_counts(p_ring_given_output)"
   ]
  },
  {
   "cell_type": "code",
   "execution_count": 214,
   "id": "6a06e675-5077-4a92-a367-fb8592f1f866",
   "metadata": {},
   "outputs": [],
   "source": [
    "vote_df['p_ring_given_output'] = p_ring_given_output"
   ]
  },
  {
   "cell_type": "code",
   "execution_count": 215,
   "id": "0fd66142-fb7a-4c00-acca-d772c1e81a48",
   "metadata": {},
   "outputs": [
    {
     "data": {
      "text/plain": [
       "<matplotlib.legend.Legend at 0x7fe8355e2550>"
      ]
     },
     "execution_count": 215,
     "metadata": {},
     "output_type": "execute_result"
    },
    {
     "data": {
      "image/png": "[encoded data removed]",
      "text/plain": [
       "<Figure size 432x288 with 1 Axes>"
      ]
     },
     "metadata": {
      "needs_background": "light"
     },
     "output_type": "display_data"
    }
   ],
   "source": [
    "_, viz_bins = np.histogram(np.linspace(0, 1), bins=30)\n",
    "# plt.hist(vote_df, density=True, alpha=.5, label='All', bins=viz_bins)\n",
    "plt.hist(vote_df.query('is_ring')['p_ring_given_output'], density=True, alpha=.5, label='Rings', bins=viz_bins)\n",
    "plt.hist(vote_df[~vote_df['is_ring']]['p_ring_given_output'], density=True, alpha=.5, label='Not Rings', bins=viz_bins)\n",
    "# should be same as they are all random\n",
    "plt.xlabel('p_ring_given_output')\n",
    "plt.legend()"
   ]
  },
  {
   "cell_type": "code",
   "execution_count": 216,
   "id": "05549fda-87d2-481f-bf9f-ccab617a1c61",
   "metadata": {},
   "outputs": [
    {
     "data": {
      "text/plain": [
       "<matplotlib.legend.Legend at 0x7fe8354f1c70>"
      ]
     },
     "execution_count": 216,
     "metadata": {},
     "output_type": "execute_result"
    },
    {
     "data": {
      "image/png": "[encoded data removed]",
      "text/plain": [
       "<Figure size 432x288 with 1 Axes>"
      ]
     },
     "metadata": {
      "needs_background": "light"
     },
     "output_type": "display_data"
    }
   ],
   "source": [
    "_, viz_bins = np.histogram(np.linspace(0, 1), bins=30)\n",
    "# plt.hist(vote_df, density=True, alpha=.5, label='All', bins=viz_bins)\n",
    "plt.hist(vote_df.query('is_ring')['p_ring_given_output'], alpha=.5, label='Rings', bins=viz_bins)\n",
    "plt.hist(vote_df[~vote_df['is_ring']]['p_ring_given_output'], alpha=.5, label='Not Rings', bins=viz_bins)\n",
    "# should be same as they are all random\n",
    "plt.xlabel('p_ring_given_output')\n",
    "plt.legend()"
   ]
  },
  {
   "cell_type": "code",
   "execution_count": 217,
   "id": "3db40cac-3088-4979-bfc0-d7225270ca03",
   "metadata": {},
   "outputs": [
    {
     "data": {
      "text/plain": [
       "0.25735499580855054"
      ]
     },
     "execution_count": 217,
     "metadata": {},
     "output_type": "execute_result"
    }
   ],
   "source": [
    "likely_ring = vote_df['p_ring_given_output'] > 0.2\n",
    "\n",
    "vote_df[likely_ring]['is_ring'].mean()  # actual odds that predicted ring is ring"
   ]
  },
  {
   "cell_type": "code",
   "execution_count": 218,
   "id": "5723c671-0bd1-4292-99bf-13df23f3f0a4",
   "metadata": {},
   "outputs": [
    {
     "data": {
      "text/plain": [
       "0.2807635548447077"
      ]
     },
     "execution_count": 218,
     "metadata": {},
     "output_type": "execute_result"
    }
   ],
   "source": [
    "vote_df[likely_ring]['p_ring_given_output'].mean()  # expected odds that predicted ring is ring"
   ]
  },
  {
   "cell_type": "code",
   "execution_count": null,
   "id": "bb693585-b9d0-40fd-a354-240ba2d61f6a",
   "metadata": {},
   "outputs": [],
   "source": []
  },
  {
   "cell_type": "code",
   "execution_count": null,
   "id": "c5e4ead2-4d2d-4700-b5ff-c70145f6da4c",
   "metadata": {},
   "outputs": [],
   "source": []
  },
  {
   "cell_type": "code",
   "execution_count": null,
   "id": "b2056266-e119-462f-8c90-dd031babb355",
   "metadata": {},
   "outputs": [],
   "source": []
  },
  {
   "cell_type": "code",
   "execution_count": null,
   "id": "0283d1d2-0b68-4bad-8628-b85229c634db",
   "metadata": {},
   "outputs": [],
   "source": []
  },
  {
   "cell_type": "code",
   "execution_count": 158,
   "id": "5d1d3735-742a-4e25-9ed3-9129aa919f3d",
   "metadata": {},
   "outputs": [],
   "source": [
    "# can use the same scaling to adjust the whole curve?"
   ]
  },
  {
   "cell_type": "code",
   "execution_count": 159,
   "id": "82029d4c-691b-445f-bfd0-d8634b5607d8",
   "metadata": {},
   "outputs": [],
   "source": [
    "example_preds = all_preds[:10]"
   ]
  },
  {
   "cell_type": "code",
   "execution_count": 172,
   "id": "24a4ebd2-4f22-42d1-b4af-e1890e29bcd5",
   "metadata": {},
   "outputs": [],
   "source": [
    "def compare_samples_with_calibration(example_pred):\n",
    "    raw_samples = tfp.distributions.Beta(concentration1=example_pred[0], concentration0=example_pred[1]).sample(50000).numpy()\n",
    "    p_ring_given_output = scale_probabity_to_random_sample(\n",
    "        raw_samples,\n",
    "        ring_rates,\n",
    "        not_ring_rates,\n",
    "        p_ring,\n",
    "        bin_edges\n",
    "    )\n",
    "    plt.hist(raw_samples, bins=20, range=(0, 1), alpha=.5, label='Uncalibrated')\n",
    "    plt.hist(p_ring_given_output, bins=20, range=(0, 1), alpha=.5, label='Calibrated')\n",
    "    plt.legend()"
   ]
  },
  {
   "cell_type": "code",
   "execution_count": 173,
   "id": "f632a25b-9eae-47ec-be92-597af7a985b5",
   "metadata": {},
   "outputs": [
    {
     "data": {
      "image/png": "[encoded data removed]",
      "text/plain": [
       "<Figure size 432x288 with 1 Axes>"
      ]
     },
     "metadata": {
      "needs_background": "light"
     },
     "output_type": "display_data"
    },
    {
     "data": {
      "image/png": "[encoded data removed]",
      "text/plain": [
       "<Figure size 432x288 with 1 Axes>"
      ]
     },
     "metadata": {
      "needs_background": "light"
     },
     "output_type": "display_data"
    },
    {
     "data": {
      "image/png": "[encoded data removed]",
      "text/plain": [
       "<Figure size 432x288 with 1 Axes>"
      ]
     },
     "metadata": {
      "needs_background": "light"
     },
     "output_type": "display_data"
    },
    {
     "data": {
      "image/png": "[encoded data removed]",
      "text/plain": [
       "<Figure size 432x288 with 1 Axes>"
      ]
     },
     "metadata": {
      "needs_background": "light"
     },
     "output_type": "display_data"
    },
    {
     "data": {
      "image/png": "[encoded data removed]",
      "text/plain": [
       "<Figure size 432x288 with 1 Axes>"
      ]
     },
     "metadata": {
      "needs_background": "light"
     },
     "output_type": "display_data"
    }
   ],
   "source": [
    "for n in range(5):\n",
    "    plt.figure()\n",
    "    compare_samples_with_calibration(example_preds[n])"
   ]
  },
  {
   "cell_type": "code",
   "execution_count": 167,
   "id": "bdfbf0db-0086-490d-af79-3169093a7c02",
   "metadata": {},
   "outputs": [
    {
     "ename": "AssertionError",
     "evalue": "",
     "output_type": "error",
     "traceback": [
      "\u001b[0;31m---------------------------------------------------------------------------\u001b[0m",
      "\u001b[0;31mAssertionError\u001b[0m                            Traceback (most recent call last)",
      "\u001b[0;32m/var/folders/2q/fk_d086d491d4s0_77hjfgzw0000gp/T/ipykernel_7107/2103537015.py\u001b[0m in \u001b[0;36m<module>\u001b[0;34m\u001b[0m\n\u001b[0;32m----> 1\u001b[0;31m \u001b[0;32massert\u001b[0m \u001b[0;32mFalse\u001b[0m\u001b[0;34m\u001b[0m\u001b[0;34m\u001b[0m\u001b[0m\n\u001b[0m",
      "\u001b[0;31mAssertionError\u001b[0m: "
     ]
    }
   ],
   "source": [
    "assert False"
   ]
  },
  {
   "cell_type": "code",
   "execution_count": null,
   "id": "9fb39ff8-426c-4c95-bbef-8dfbbe293bc6",
   "metadata": {},
   "outputs": [],
   "source": []
  },
  {
   "cell_type": "code",
   "execution_count": null,
   "id": "fb681112-27ae-419b-a0b7-976202748982",
   "metadata": {},
   "outputs": [],
   "source": []
  },
  {
   "cell_type": "code",
   "execution_count": null,
   "id": "72ebabe7-1253-4532-b21e-610149d8396b",
   "metadata": {},
   "outputs": [],
   "source": []
  },
  {
   "cell_type": "code",
   "execution_count": null,
   "id": "c51f0250-d4b2-4663-a6cb-9919c9de078e",
   "metadata": {},
   "outputs": [],
   "source": [
    "def estimate_ring_votes(galaxy):\n",
    "    if galaxy['is_ring']:\n",
    "        p = galaxy['rare-features_ring_fraction']\n",
    "    else:\n",
    "        p = 0.03\n",
    "    return 10 * p"
   ]
  },
  {
   "cell_type": "code",
   "execution_count": null,
   "id": "95de746c-cfc4-4a8a-a5b9-76925359b70f",
   "metadata": {},
   "outputs": [],
   "source": [
    "# vote_df['fake_ring_votes'] = vote_df.apply(estimate_ring_votes, axis=1)"
   ]
  },
  {
   "cell_type": "code",
   "execution_count": null,
   "id": "65f08cfc-74fa-49e1-a2a4-d44559eb65fd",
   "metadata": {},
   "outputs": [],
   "source": [
    "\n",
    "for n, concentration in enumerate(all_preds[:10]):\n",
    "    plt.plot(x_votes, tfp.distributions.DirichletMultinomial(total_count=10, concentration=concentration).prob(votes))\n",
    "    plt.axvline(estimate_ring_votes(vote_df.iloc[n]), alpha=.2) # probably badly calibrated"
   ]
  },
  {
   "cell_type": "code",
   "execution_count": null,
   "id": "e48c512e-ebf6-4a24-9d9d-560d1d02d016",
   "metadata": {},
   "outputs": [],
   "source": [
    "for n, concentration in enumerate(all_preds[:10]):\n",
    "    uncalibrated_probs = tfp.distributions.DirichletMultinomial(total_count=10, concentration=concentration).prob(votes)\n",
    "    calibrated_probs = scale_probabity_to_random_sample(uncalibrated_probs, ring_rates, not_ring_rates, p_ring)\n",
    "    plt.plot(x_votes, calibrated_probs)\n",
    "    plt.axvline(estimate_ring_votes(vote_df.iloc[n]), alpha=.2)"
   ]
  },
  {
   "cell_type": "code",
   "execution_count": null,
   "id": "87c0b96d-0172-471d-8a70-c0b35ecef3b4",
   "metadata": {},
   "outputs": [],
   "source": []
  },
  {
   "cell_type": "code",
   "execution_count": null,
   "id": "67981b3a-5900-482a-90cb-7275b61b326f",
   "metadata": {},
   "outputs": [],
   "source": []
  },
  {
   "cell_type": "code",
   "execution_count": null,
   "id": "83d72674-cc30-49a1-bf5c-b8d171475217",
   "metadata": {},
   "outputs": [],
   "source": []
  },
  {
   "cell_type": "code",
   "execution_count": null,
   "id": "c2ed5547-28df-45c7-8f43-5959a88b7e48",
   "metadata": {},
   "outputs": [],
   "source": [
    "tfp.distributions.Beta(concentration1=example_preds[:1, 0], concentration0=example_preds[:1, 1]).sample(10).numpy()"
   ]
  },
  {
   "cell_type": "code",
   "execution_count": null,
   "id": "8b8b9f05-85bf-4fb0-93f5-f982e703a09d",
   "metadata": {},
   "outputs": [],
   "source": [
    "uncalibrated_probs"
   ]
  },
  {
   "cell_type": "code",
   "execution_count": null,
   "id": "16e64b08-56cf-4159-aade-a3b1a2d04791",
   "metadata": {},
   "outputs": [],
   "source": [
    "calibrated_probs"
   ]
  },
  {
   "cell_type": "code",
   "execution_count": null,
   "id": "2ce4324b-1c7f-4b2c-a8d3-67645e67a4f5",
   "metadata": {},
   "outputs": [],
   "source": [
    "# another method:\n",
    "# simply adjust p_ring_given_output until empirically calibrated i.e. it actually is a ring as much as it says should be a ring"
   ]
  },
  {
   "cell_type": "code",
   "execution_count": null,
   "id": "6959888e-f663-4cce-a1a7-c990e1ff27e4",
   "metadata": {},
   "outputs": [],
   "source": [
    "# with platt scaling - fit logistic regression to output score to predict is_ring"
   ]
  },
  {
   "cell_type": "code",
   "execution_count": null,
   "id": "41571370-f923-44ab-85b6-e4e4b20f7252",
   "metadata": {},
   "outputs": [],
   "source": []
  },
  {
   "cell_type": "code",
   "execution_count": null,
   "id": "7eac28a3-f3fb-4bda-99ac-0855bb521c2a",
   "metadata": {},
   "outputs": [],
   "source": []
  },
  {
   "cell_type": "code",
   "execution_count": null,
   "id": "930a5aef-cabc-4a6e-be30-c3dc1577968b",
   "metadata": {},
   "outputs": [],
   "source": [
    "# Test twice? i.e. then have volunteers verify"
   ]
  },
  {
   "cell_type": "code",
   "execution_count": null,
   "id": "cce8950e-29f4-44eb-9e32-7039cceff85b",
   "metadata": {},
   "outputs": [],
   "source": []
  }
 ],
 "metadata": {
  "kernelspec": {
   "display_name": "Python 3 (ipykernel)",
   "language": "python",
   "name": "python3"
  },
  "language_info": {
   "codemirror_mode": {
    "name": "ipython",
    "version": 3
   },
   "file_extension": ".py",
   "mimetype": "text/x-python",
   "name": "python",
   "nbconvert_exporter": "python",
   "pygments_lexer": "ipython3",
   "version": "3.8.10"
  }
 },
 "nbformat": 4,
 "nbformat_minor": 5
}
