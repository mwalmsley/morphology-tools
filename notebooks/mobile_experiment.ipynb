{
 "cells": [
  {
   "cell_type": "code",
   "execution_count": 3,
   "id": "c818efde-7361-4a30-9df4-448255945b32",
   "metadata": {},
   "outputs": [],
   "source": [
    "from collections import Counter\n",
    "\n",
    "import numpy as np\n",
    "import pandas as pd\n",
    "import tensorflow as tf\n",
    "import scipy\n",
    "from sklearn.model_selection import train_test_split\n",
    "import tensorflow_probability as tfp\n",
    "import matplotlib.pyplot as plt\n",
    "import seaborn as sns\n",
    "sns.set_context('notebook')"
   ]
  },
  {
   "cell_type": "code",
   "execution_count": 4,
   "id": "1490547e-a358-4252-a72d-e8d014f0c510",
   "metadata": {},
   "outputs": [],
   "source": [
    "\n",
    "\n",
    "def select_for_gz_mobile(df, num_galaxies=1000):\n",
    "    assert len(df) > num_galaxies\n",
    "    df_sorted = df.sort_values('rare-features_ring_fraction', ascending=False)\n",
    "    return df_sorted[:num_galaxies], df_sorted[num_galaxies:]\n",
    "\n",
    "\n",
    "def get_fake_mobile_votes(gz_ring_vote_fractions):\n",
    "    return scipy.stats.binom(n=10, p=gz_ring_vote_fractions).rvs(len(gz_ring_vote_fractions))\n"
   ]
  },
  {
   "cell_type": "code",
   "execution_count": 5,
   "id": "e0cdd5cf-5fef-4dd3-b5d0-55853ea4e09f",
   "metadata": {},
   "outputs": [],
   "source": [
    "frac_cols = ['smooth-or-featured_smooth_fraction',\n",
    " 'smooth-or-featured_featured-or-disk_fraction',\n",
    " 'smooth-or-featured_artifact_fraction',\n",
    " 'disk-edge-on_yes_fraction',\n",
    " 'disk-edge-on_no_fraction',\n",
    " 'has-spiral-arms_yes_fraction',\n",
    " 'has-spiral-arms_no_fraction',\n",
    " 'bar_strong_fraction',\n",
    " 'bar_weak_fraction',\n",
    " 'bar_no_fraction',\n",
    " 'bulge-size_dominant_fraction',\n",
    " 'bulge-size_large_fraction',\n",
    " 'bulge-size_moderate_fraction',\n",
    " 'bulge-size_small_fraction',\n",
    " 'bulge-size_none_fraction',\n",
    " 'how-rounded_round_fraction',\n",
    " 'how-rounded_in-between_fraction',\n",
    " 'how-rounded_cigar-shaped_fraction',\n",
    " 'edge-on-bulge_boxy_fraction',\n",
    " 'edge-on-bulge_none_fraction',\n",
    " 'edge-on-bulge_rounded_fraction',\n",
    " 'spiral-winding_tight_fraction',\n",
    " 'spiral-winding_medium_fraction',\n",
    " 'spiral-winding_loose_fraction',\n",
    " 'spiral-arm-count_1_fraction',\n",
    " 'spiral-arm-count_2_fraction',\n",
    " 'spiral-arm-count_3_fraction',\n",
    " 'spiral-arm-count_4_fraction',\n",
    " 'spiral-arm-count_more-than-4_fraction',\n",
    " 'spiral-arm-count_cant-tell_fraction',\n",
    " 'merging_none_fraction',\n",
    " 'merging_minor-disturbance_fraction',\n",
    " 'merging_major-disturbance_fraction',\n",
    " 'merging_merger_fraction']"
   ]
  },
  {
   "cell_type": "code",
   "execution_count": 6,
   "id": "1f9a5613-aabd-43b0-a1c9-bd7205a271fd",
   "metadata": {},
   "outputs": [],
   "source": [
    "decals_df = pd.read_parquet(\n",
    "    '/Users/walml/repos/zoobot_private/gz_decals_auto_posteriors.parquet',\n",
    "    columns=frac_cols + ['iauname'])"
   ]
  },
  {
   "cell_type": "code",
   "execution_count": 7,
   "id": "3784f6ec-e297-4725-8d99-1bc7291c152f",
   "metadata": {},
   "outputs": [],
   "source": [
    "# use vote fractions for now? but selected to fairly high fractions\n",
    "\n",
    "rare_df = pd.read_parquet('/Users/walml/repos/zoobot/data/rare_features_dr5_with_ml_morph.parquet')\n",
    "del rare_df['smooth-or-featured_featured-or-disk_fraction']\n",
    "del rare_df['disk-edge-on_no_fraction']\n",
    "del rare_df['has-spiral-arms_no_fraction']\n",
    "rare_df['is_ring'] = rare_df['rare-features_ring_fraction'] > 0.25   # TODO fraction. What the experts say, close enough for now\n"
   ]
  },
  {
   "cell_type": "code",
   "execution_count": 8,
   "id": "dc24622d-df37-499f-89c1-30f36e3b9b72",
   "metadata": {},
   "outputs": [
    {
     "data": {
      "text/plain": [
       "array(['iauname', 'rare-features_value', 'rare-features_total',\n",
       "       'rare-features_nothing', 'rare-features_ring',\n",
       "       'rare-features_irregular', 'rare-features_something-else',\n",
       "       'rare-features_overlapping', 'rare-features_dust-lane',\n",
       "       'rare-features_lens-or-arc', 'rare-features_nothing_fraction',\n",
       "       'rare-features_ring_fraction', 'rare-features_irregular_fraction',\n",
       "       'rare-features_something-else_fraction',\n",
       "       'rare-features_overlapping_fraction',\n",
       "       'rare-features_dust-lane_fraction',\n",
       "       'rare-features_lens-or-arc_fraction', 'png_loc', 'tag_count',\n",
       "       'local_png_loc', 'ring', 'is_ring'], dtype=object)"
      ]
     },
     "execution_count": 8,
     "metadata": {},
     "output_type": "execute_result"
    }
   ],
   "source": [
    "rare_df.columns.values"
   ]
  },
  {
   "cell_type": "code",
   "execution_count": 9,
   "id": "fea7b1e0-544a-4ecb-bcb2-adba25f86152",
   "metadata": {},
   "outputs": [],
   "source": [
    "vote_df = pd.merge(decals_df, rare_df, on='iauname', how='inner')"
   ]
  },
  {
   "cell_type": "code",
   "execution_count": 10,
   "id": "5d52613a-6209-44a4-83ef-7c3e262bb5bd",
   "metadata": {},
   "outputs": [],
   "source": [
    "mobile_df, not_mobile_df = select_for_gz_mobile(vote_df, num_galaxies=5000)\n"
   ]
  },
  {
   "cell_type": "code",
   "execution_count": 19,
   "id": "38cc5b34-815b-4b2e-9647-b36b68e5c229",
   "metadata": {},
   "outputs": [],
   "source": [
    "\n",
    "mobile_df['ring_votes'] = get_fake_mobile_votes(mobile_df['rare-features_ring_fraction'].values)\n",
    "not_mobile_df['ring_votes'] = get_fake_mobile_votes(np.ones(len(not_mobile_df))*0.03)  # assume base rate - TODO could be better\n",
    "\n",
    "mobile_train_df, mobile_val_df = train_test_split(mobile_df, test_size=0.2)\n",
    "not_mobile_train_df, not_mobile_val_df = train_test_split(not_mobile_df, test_size=0.2)\n",
    "\n",
    "train_df = pd.concat([mobile_train_df, not_mobile_train_df[:len(mobile_train_df)]])  # equal size\n",
    "val_df = pd.concat([mobile_val_df, not_mobile_val_df])\n",
    "\n",
    "train_df = train_df.sample(len(train_df))\n",
    "val_df = val_df.sample(len(val_df))"
   ]
  },
  {
   "cell_type": "code",
   "execution_count": 20,
   "id": "b451d1fb-0377-4390-8bac-6b9066f4f1d4",
   "metadata": {},
   "outputs": [],
   "source": [
    "# frac_cols = [col for col in decals_df.columns.values if col.endswith('_fraction')]\n",
    "# frac_cols\n",
    "batch_size = 128"
   ]
  },
  {
   "cell_type": "code",
   "execution_count": 21,
   "id": "a6684d45-4d2a-455e-92ad-dfa178aece7c",
   "metadata": {},
   "outputs": [],
   "source": [
    "\n",
    "mobile_train_dataset = tf.data.Dataset.from_tensor_slices((train_df[frac_cols], train_df['ring_votes'].astype(np.float32))).batch(batch_size)\n",
    "mobile_val_dataset = tf.data.Dataset.from_tensor_slices((val_df[frac_cols], val_df['ring_votes'].astype(np.float32))).batch(batch_size)"
   ]
  },
  {
   "cell_type": "code",
   "execution_count": 22,
   "id": "0b34915e-b0a8-4278-9f18-b8e70ebd0cf8",
   "metadata": {},
   "outputs": [
    {
     "name": "stdout",
     "output_type": "stream",
     "text": [
      "(<tf.Tensor: shape=(128, 34), dtype=float64, numpy=\n",
      "array([[0.56028828, 0.37219291, 0.06751881, ..., 0.24426385, 0.10285023,\n",
      "        0.03425086],\n",
      "       [0.17021288, 0.75516562, 0.0746215 , ..., 0.24316628, 0.15945587,\n",
      "        0.02175208],\n",
      "       [0.50081177, 0.41135543, 0.0878328 , ..., 0.23982605, 0.0981075 ,\n",
      "        0.01663103],\n",
      "       ...,\n",
      "       [0.772685  , 0.17002872, 0.05728629, ..., 0.12770133, 0.02966305,\n",
      "        0.08355363],\n",
      "       [0.3426666 , 0.62445896, 0.03287444, ..., 0.11898538, 0.02859783,\n",
      "        0.02488586],\n",
      "       [0.48446435, 0.46274378, 0.05279187, ..., 0.1846251 , 0.05215543,\n",
      "        0.0518026 ]])>, <tf.Tensor: shape=(128,), dtype=float32, numpy=\n",
      "array([ 0.,  7.,  5.,  0.,  6.,  7.,  0.,  6.,  0.,  0.,  0.,  7.,  5.,\n",
      "        0.,  3.,  1.,  6.,  0.,  6.,  0.,  0., 10.,  6.,  0.,  2.,  0.,\n",
      "        0.,  0.,  4.,  0.,  2.,  6.,  8.,  0.,  5.,  6.,  7.,  6.,  5.,\n",
      "        0.,  0.,  5.,  0.,  0.,  0.,  7., 10.,  3.,  0., 10.,  0.,  0.,\n",
      "        0.,  0.,  5.,  0.,  1.,  1.,  7.,  0.,  7.,  5.,  0.,  6., 10.,\n",
      "        7.,  8.,  0., 10.,  8.,  4.,  6.,  8.,  2.,  0.,  8.,  3.,  6.,\n",
      "        7.,  4.,  0.,  1.,  7.,  7.,  0.,  1.,  1.,  5.,  0.,  6.,  1.,\n",
      "        6.,  7.,  0.,  0.,  9.,  0.,  7.,  7.,  5.,  0.,  4.,  0.,  1.,\n",
      "        7.,  1.,  0.,  1.,  0.,  0.,  5.,  6.,  1., 10.,  4.,  1.,  6.,\n",
      "        0.,  1.,  0.,  4.,  0.,  7.,  1.,  0.,  0.,  7.,  4.],\n",
      "      dtype=float32)>)\n"
     ]
    }
   ],
   "source": [
    "for batch in mobile_train_dataset.take(1):\n",
    "    print(batch)"
   ]
  },
  {
   "cell_type": "code",
   "execution_count": 23,
   "id": "4b21f873-2d78-4b66-b6e5-6b180470a293",
   "metadata": {},
   "outputs": [],
   "source": [
    "def binomial_loss(y_true, y_pred):  # y_true should be the counts, y_pred should be the predicted probabilities\n",
    "    return -tfp.distributions.Binomial(total_count=10, probs=y_pred).log_prob(y_true)  # important minus sign"
   ]
  },
  {
   "cell_type": "code",
   "execution_count": 24,
   "id": "611bbcff-cc88-43f1-8b65-1c43a485028d",
   "metadata": {},
   "outputs": [],
   "source": [
    "# batch[1]"
   ]
  },
  {
   "cell_type": "code",
   "execution_count": 25,
   "id": "503ebe1d-1b7e-4765-a0f2-1c5e15c900d8",
   "metadata": {},
   "outputs": [],
   "source": [
    "# binomial_loss(batch[1], tf.constant(0.8))"
   ]
  },
  {
   "cell_type": "code",
   "execution_count": 26,
   "id": "1c34b8f3-c0f8-4f6b-ba9b-ed4556b68c16",
   "metadata": {},
   "outputs": [
    {
     "name": "stdout",
     "output_type": "stream",
     "text": [
      "Epoch 1/40\n",
      "63/63 - 1s - loss: 3.7039 - val_loss: 2.9683\n",
      "Epoch 2/40\n",
      "63/63 - 0s - loss: 2.9845 - val_loss: 2.1960\n",
      "Epoch 3/40\n",
      "63/63 - 0s - loss: 2.6430 - val_loss: 1.8749\n",
      "Epoch 4/40\n",
      "63/63 - 0s - loss: 2.5377 - val_loss: 1.7705\n",
      "Epoch 5/40\n",
      "63/63 - 0s - loss: 2.4940 - val_loss: 1.7197\n",
      "Epoch 6/40\n",
      "63/63 - 0s - loss: 2.4707 - val_loss: 1.7041\n",
      "Epoch 7/40\n",
      "63/63 - 0s - loss: 2.4545 - val_loss: 1.6812\n",
      "Epoch 8/40\n",
      "63/63 - 0s - loss: 2.4422 - val_loss: 1.6716\n",
      "Epoch 9/40\n",
      "63/63 - 0s - loss: 2.4316 - val_loss: 1.6661\n",
      "Epoch 10/40\n",
      "63/63 - 0s - loss: 2.4234 - val_loss: 1.6596\n",
      "Epoch 11/40\n",
      "63/63 - 0s - loss: 2.4162 - val_loss: 1.6557\n",
      "Epoch 12/40\n",
      "63/63 - 0s - loss: 2.4103 - val_loss: 1.6432\n",
      "Epoch 13/40\n",
      "63/63 - 0s - loss: 2.4055 - val_loss: 1.6429\n",
      "Epoch 14/40\n",
      "63/63 - 0s - loss: 2.4010 - val_loss: 1.6409\n",
      "Epoch 15/40\n",
      "63/63 - 0s - loss: 2.3971 - val_loss: 1.6370\n",
      "Epoch 16/40\n",
      "63/63 - 0s - loss: 2.3938 - val_loss: 1.6347\n",
      "Epoch 17/40\n",
      "63/63 - 0s - loss: 2.3906 - val_loss: 1.6318\n",
      "Epoch 18/40\n",
      "63/63 - 0s - loss: 2.3878 - val_loss: 1.6239\n",
      "Epoch 19/40\n",
      "63/63 - 0s - loss: 2.3851 - val_loss: 1.6176\n",
      "Epoch 20/40\n",
      "63/63 - 0s - loss: 2.3828 - val_loss: 1.6123\n",
      "Epoch 21/40\n",
      "63/63 - 0s - loss: 2.3807 - val_loss: 1.6115\n",
      "Epoch 22/40\n",
      "63/63 - 0s - loss: 2.3786 - val_loss: 1.6056\n",
      "Epoch 23/40\n",
      "63/63 - 0s - loss: 2.3766 - val_loss: 1.6029\n",
      "Epoch 24/40\n",
      "63/63 - 0s - loss: 2.3750 - val_loss: 1.6012\n",
      "Epoch 25/40\n",
      "63/63 - 0s - loss: 2.3731 - val_loss: 1.5991\n",
      "Epoch 26/40\n",
      "63/63 - 0s - loss: 2.3715 - val_loss: 1.5980\n",
      "Epoch 27/40\n",
      "63/63 - 0s - loss: 2.3699 - val_loss: 1.5955\n",
      "Epoch 28/40\n",
      "63/63 - 0s - loss: 2.3685 - val_loss: 1.5979\n",
      "Epoch 29/40\n",
      "63/63 - 0s - loss: 2.3670 - val_loss: 1.5964\n",
      "Epoch 30/40\n",
      "63/63 - 0s - loss: 2.3655 - val_loss: 1.5925\n",
      "Epoch 31/40\n",
      "63/63 - 0s - loss: 2.3644 - val_loss: 1.5903\n",
      "Epoch 32/40\n",
      "63/63 - 0s - loss: 2.3631 - val_loss: 1.5894\n",
      "Epoch 33/40\n",
      "63/63 - 0s - loss: 2.3619 - val_loss: 1.5854\n",
      "Epoch 34/40\n",
      "63/63 - 0s - loss: 2.3607 - val_loss: 1.5840\n",
      "Epoch 35/40\n",
      "63/63 - 0s - loss: 2.3595 - val_loss: 1.5810\n",
      "Epoch 36/40\n",
      "63/63 - 0s - loss: 2.3585 - val_loss: 1.5823\n",
      "Epoch 37/40\n",
      "63/63 - 0s - loss: 2.3576 - val_loss: 1.5772\n",
      "Epoch 38/40\n",
      "63/63 - 0s - loss: 2.3566 - val_loss: 1.5776\n",
      "Epoch 39/40\n",
      "63/63 - 0s - loss: 2.3557 - val_loss: 1.5773\n",
      "Epoch 40/40\n",
      "63/63 - 0s - loss: 2.3545 - val_loss: 1.5785\n"
     ]
    },
    {
     "data": {
      "text/plain": [
       "<tensorflow.python.keras.callbacks.History at 0x7ff10da07b20>"
      ]
     },
     "execution_count": 26,
     "metadata": {},
     "output_type": "execute_result"
    }
   ],
   "source": [
    "\n",
    "classifier = tf.keras.models.Sequential([\n",
    "    tf.keras.layers.InputLayer(input_shape=(len(frac_cols))),\n",
    "    tf.keras.layers.Dense(16, activation=tf.nn.relu),\n",
    "#     tf.keras.layers.Dropout(0.5),\n",
    "    tf.keras.layers.Dense(64, activation=tf.nn.relu),\n",
    "#     tf.keras.layers.Dropout(0.5),\n",
    "    tf.keras.layers.Dense(1, activation=tf.nn.sigmoid)\n",
    "])\n",
    "\n",
    "classifier.compile(\n",
    "    loss=binomial_loss,\n",
    "    optimizer=tf.keras.optimizers.Adam(learning_rate=0.001)\n",
    ")\n",
    "\n",
    "# train to estimate p(ring|votes,voted)\n",
    "early_stopping_callback = tf.keras.callbacks.EarlyStopping(patience=10)\n",
    "\n",
    "classifier.fit(mobile_train_dataset, validation_data=mobile_val_dataset, epochs=40, callbacks=[early_stopping_callback], verbose=2)"
   ]
  },
  {
   "cell_type": "code",
   "execution_count": null,
   "id": "a9b3f41e-9972-417d-a71f-7d8d04bc75fa",
   "metadata": {},
   "outputs": [],
   "source": []
  },
  {
   "cell_type": "code",
   "execution_count": 27,
   "id": "4687bd57-cd14-45c4-91a3-939c4c8b8c11",
   "metadata": {},
   "outputs": [
    {
     "name": "stdout",
     "output_type": "stream",
     "text": [
      "396/396 [==============================] - 0s 897us/step - loss: 1.5785\n",
      "1.5784577131271362\n"
     ]
    }
   ],
   "source": [
    "print(classifier.evaluate(mobile_val_dataset))"
   ]
  },
  {
   "cell_type": "code",
   "execution_count": 28,
   "id": "29365108-d2c3-482d-9771-3a2d65a669cb",
   "metadata": {},
   "outputs": [
    {
     "data": {
      "text/plain": [
       "array([[0.25034952],\n",
       "       [0.6025207 ],\n",
       "       [0.24415159],\n",
       "       [0.47363058],\n",
       "       [0.6755096 ],\n",
       "       [0.17657828],\n",
       "       [0.152919  ],\n",
       "       [0.6883707 ],\n",
       "       [0.11243579],\n",
       "       [0.09108627]], dtype=float32)"
      ]
     },
     "execution_count": 28,
     "metadata": {},
     "output_type": "execute_result"
    }
   ],
   "source": [
    "classifier.predict(batch[0][:batch_size])[:10]"
   ]
  },
  {
   "cell_type": "code",
   "execution_count": 29,
   "id": "22cad19f-211a-4301-8b21-276586f8b744",
   "metadata": {},
   "outputs": [],
   "source": [
    "# and now calibrate to estimate p(ring)"
   ]
  },
  {
   "cell_type": "code",
   "execution_count": 30,
   "id": "24006a83-1748-4742-b4ae-ca20e25cbd92",
   "metadata": {},
   "outputs": [],
   "source": [
    "# unlabelled_df = vote_df.sample(10000)  # to be calibrated\n",
    "random_preds = classifier.predict(vote_df[frac_cols])"
   ]
  },
  {
   "cell_type": "code",
   "execution_count": 72,
   "id": "befeb90c-4b07-4eeb-bc14-49661a15c721",
   "metadata": {},
   "outputs": [],
   "source": [
    "expert_labels = vote_df.sample(1000)  # for estimating ring rate in random sample\n",
    "\n",
    "expert_labelled_rings = expert_labels.query('is_ring')\n",
    "random_expert_ring_preds = classifier.predict(expert_labelled_rings[frac_cols])\n",
    "\n",
    "expert_labelled_not_rings = expert_labels[~expert_labels['is_ring']]\n",
    "random_expert_not_ring_preds = classifier.predict(expert_labelled_not_rings[frac_cols])\n"
   ]
  },
  {
   "cell_type": "code",
   "execution_count": 73,
   "id": "40573c39-5946-4858-acfe-65851a901060",
   "metadata": {},
   "outputs": [
    {
     "data": {
      "text/plain": [
       "<matplotlib.legend.Legend at 0x7ff0ed885670>"
      ]
     },
     "execution_count": 73,
     "metadata": {},
     "output_type": "execute_result"
    },
    {
     "data": {
      "image/png": "[encoded data removed]",
      "text/plain": [
       "<Figure size 432x288 with 1 Axes>"
      ]
     },
     "metadata": {
      "needs_background": "light"
     },
     "output_type": "display_data"
    }
   ],
   "source": [
    "_, viz_bins = np.histogram(np.linspace(0, 1), bins=30)\n",
    "plt.hist(random_preds, density=True, alpha=.5, label='All', bins=viz_bins)\n",
    "plt.hist(random_expert_ring_preds, density=True, alpha=.5, label='Rings', bins=viz_bins)\n",
    "plt.hist(random_expert_not_ring_preds, density=True, alpha=.5, label='Not Rings', bins=viz_bins)\n",
    "# should be same as they are all random\n",
    "plt.xlabel('Model f_w(x)')\n",
    "plt.legend()"
   ]
  },
  {
   "cell_type": "code",
   "execution_count": null,
   "id": "0985ea0e-96c1-404d-a2d9-d77e9f79fd85",
   "metadata": {},
   "outputs": [],
   "source": []
  },
  {
   "cell_type": "code",
   "execution_count": null,
   "id": "3e645b76-f02b-4fd3-abcc-896b41c85e1b",
   "metadata": {},
   "outputs": [],
   "source": []
  },
  {
   "cell_type": "code",
   "execution_count": 74,
   "id": "6da21914-6e0a-484a-95f6-022460493f80",
   "metadata": {},
   "outputs": [
    {
     "data": {
      "text/plain": [
       "0.053334965217185316"
      ]
     },
     "execution_count": 74,
     "metadata": {},
     "output_type": "execute_result"
    }
   ],
   "source": [
    "p_ring = vote_df['is_ring'].mean()\n",
    "p_ring"
   ]
  },
  {
   "cell_type": "code",
   "execution_count": 83,
   "id": "671c3025-908c-426b-9c0b-9fa80a8f5953",
   "metadata": {},
   "outputs": [
    {
     "data": {
      "text/plain": [
       "[0.0, 20.0, 40.0, 60.0, 80.0, 100.0]"
      ]
     },
     "execution_count": 83,
     "metadata": {},
     "output_type": "execute_result"
    }
   ],
   "source": [
    "# _, bins = np.histogram(np.linspace(0., 1.), bins=10)  # uniform bins aren't great for very peaky classifier\n",
    "num_bins = 5\n",
    "percentiles = [n * (100/num_bins) for n in range(0, num_bins+1)]\n",
    "percentiles\n",
    "# 11 percentiles, forming 10 bins"
   ]
  },
  {
   "cell_type": "code",
   "execution_count": 84,
   "id": "ba1c82bf-f47c-40e0-ae75-6267ff641975",
   "metadata": {},
   "outputs": [
    {
     "data": {
      "text/plain": [
       "array([4.71472740e-04, 5.47260344e-02, 8.06896687e-02, 1.20601445e-01,\n",
       "       2.00559080e-01, 7.88390994e-01])"
      ]
     },
     "execution_count": 84,
     "metadata": {},
     "output_type": "execute_result"
    }
   ],
   "source": [
    "percentile_values = np.percentile(random_preds, percentiles)  # percentiles of all predictions\n",
    "percentile_values"
   ]
  },
  {
   "cell_type": "code",
   "execution_count": 85,
   "id": "1380b727-16f0-4a8c-92fa-878a279db9eb",
   "metadata": {},
   "outputs": [],
   "source": [
    "# # bins = [(low_p, high_p) for (low_p, high_p) in zip(percentiles[:-1], percentiles[1:])]\n",
    "# \n",
    "# bins"
   ]
  },
  {
   "cell_type": "code",
   "execution_count": 86,
   "id": "1982661d-a1ca-4737-892a-4293e165284e",
   "metadata": {},
   "outputs": [
    {
     "data": {
      "text/plain": [
       "array([0.02759875, 0.06770785, 0.10064556, 0.16058026, 0.49447504])"
      ]
     },
     "execution_count": 86,
     "metadata": {},
     "output_type": "execute_result"
    }
   ],
   "source": [
    "# center_of_imaginary_right_bin = percentile_values[-1] + (1. - percentile_values[-1])/2\n",
    "# bins = np.concatenate([percentile_values, [center_of_imaginary_right_bin]]) \n",
    "# bins\n",
    "\n",
    "bins = np.array([(low_p, high_p) for (low_p, high_p) in zip(percentile_values[:-1], percentile_values[1:])])\n",
    "bin_centers = np.array([low_p + ((high_p - low_p)/2) for (low_p, high_p) in zip(percentile_values[:-1], percentile_values[1:])])\n",
    "bin_centers"
   ]
  },
  {
   "cell_type": "code",
   "execution_count": 87,
   "id": "f8713e09-e9b1-419e-8a0a-3f1c800f4d2e",
   "metadata": {},
   "outputs": [],
   "source": [
    "assert (random_expert_ring_preds <= percentile_values.max()).all()  # else counter will put the maximal values outside the rightmost bin, at index 11 "
   ]
  },
  {
   "cell_type": "code",
   "execution_count": 88,
   "id": "59f66784-411c-4b81-af19-2b113931c3ef",
   "metadata": {},
   "outputs": [],
   "source": [
    "def get_percentile_histogram(x, percentiles):\n",
    "    # digitize gives index such that x is between bins[i-1] < x < bins[i]\n",
    "    # values outside the range snap to the closest bin (i.e. 0 or len(bins))\n",
    "    bin_of_each_x = np.digitize(x, percentiles)\n",
    "    x_per_bin_counter = Counter(bin_of_each_x)\n",
    "#     rings_per_bin_counter  # will have indices from 1 to 11 (as x == min bin gives 1, not 0)\n",
    "    assert x_per_bin_counter[len(percentiles)+1] == 0\n",
    "    \n",
    "    x_per_bin = np.zeros(len(bins))  # 10 \n",
    "    for bin_index in range(len(bins)): # 0 to 10\n",
    "        x_per_bin[bin_index] = x_per_bin_counter[bin_index+1]  # indexed via 1 to 11\n",
    "    return x_per_bin  # counts of values from percentile[i] to percentile[i+1]. Will be one less then len(percentiles)"
   ]
  },
  {
   "cell_type": "code",
   "execution_count": 89,
   "id": "0cb1a34f-4fb4-447a-87f5-5ac604c549bc",
   "metadata": {},
   "outputs": [
    {
     "data": {
      "text/plain": [
       "array([ 5.,  5.,  3.,  9., 47.])"
      ]
     },
     "execution_count": 89,
     "metadata": {},
     "output_type": "execute_result"
    }
   ],
   "source": [
    "rings_per_bin = get_percentile_histogram(random_expert_ring_preds.squeeze(), percentile_values)\n",
    "rings_per_bin"
   ]
  },
  {
   "cell_type": "code",
   "execution_count": 90,
   "id": "10419a96-a71a-4c14-a742-aea1c47ffa84",
   "metadata": {},
   "outputs": [
    {
     "data": {
      "text/plain": [
       "<matplotlib.collections.PathCollection at 0x7ff0e2a854c0>"
      ]
     },
     "execution_count": 90,
     "metadata": {},
     "output_type": "execute_result"
    },
    {
     "data": {
      "image/png": "[encoded data removed]",
      "text/plain": [
       "<Figure size 432x288 with 1 Axes>"
      ]
     },
     "metadata": {
      "needs_background": "light"
     },
     "output_type": "display_data"
    }
   ],
   "source": [
    "plt.scatter(bin_centers, rings_per_bin)"
   ]
  },
  {
   "cell_type": "code",
   "execution_count": 91,
   "id": "0531409d-7731-4a45-8882-94727bea492a",
   "metadata": {},
   "outputs": [],
   "source": [
    "assert len(random_expert_ring_preds) == rings_per_bin.sum()"
   ]
  },
  {
   "cell_type": "code",
   "execution_count": 92,
   "id": "52a438ad-4319-418c-921b-5309ab265df4",
   "metadata": {},
   "outputs": [
    {
     "data": {
      "text/plain": [
       "array([ 5.,  5.,  3.,  9., 47.])"
      ]
     },
     "execution_count": 92,
     "metadata": {},
     "output_type": "execute_result"
    }
   ],
   "source": [
    "rings_per_bin"
   ]
  },
  {
   "cell_type": "code",
   "execution_count": 93,
   "id": "19a13532-fb69-491c-bf86-44ce6cc0b9a7",
   "metadata": {},
   "outputs": [
    {
     "data": {
      "text/plain": [
       "array([0.07246377, 0.07246377, 0.04347826, 0.13043478, 0.68115942])"
      ]
     },
     "execution_count": 93,
     "metadata": {},
     "output_type": "execute_result"
    }
   ],
   "source": [
    "ring_rates = rings_per_bin / len(expert_labelled_rings)\n",
    "ring_rates"
   ]
  },
  {
   "cell_type": "code",
   "execution_count": 94,
   "id": "9ea6e0f1-430b-477f-b1e2-48dd1a51966c",
   "metadata": {},
   "outputs": [],
   "source": [
    "\n",
    "\n",
    "def empirical_prob_from_histogram(values_to_query, rates, bin_edges):\n",
    "    bin_edges = bin_edges.copy()\n",
    "    bin_edges[-1]= bin_edges[-1]+1e-8  # if values_to_query includes exactly the max bin edge\n",
    "    # rates from 0 to 10, corresponding to frequencies between each (0-11) bin edge \n",
    "    assert all(values_to_query <= bin_edges.max())  # no rate above the highest bin edge, bins must cover whole range\n",
    "    bin_indices = np.digitize(values_to_query, bin_edges)  # should be 10 indices\n",
    "#     print(bin_indices.min(), bin_indices.max())\n",
    "    return np.array([rates[bin_index-1] for bin_index in bin_indices])\n"
   ]
  },
  {
   "cell_type": "code",
   "execution_count": 95,
   "id": "2b8e2f74-cb22-4067-9d2c-71283723cc71",
   "metadata": {},
   "outputs": [],
   "source": [
    "p_output_given_ring = empirical_prob_from_histogram(random_preds.squeeze(), ring_rates, percentile_values)"
   ]
  },
  {
   "cell_type": "code",
   "execution_count": 96,
   "id": "412af334-5d66-4881-acb6-af02564a1a01",
   "metadata": {},
   "outputs": [
    {
     "data": {
      "text/plain": [
       "array([0.68115942, 0.04347826, 0.07246377, ..., 0.04347826, 0.04347826,\n",
       "       0.07246377])"
      ]
     },
     "execution_count": 96,
     "metadata": {},
     "output_type": "execute_result"
    }
   ],
   "source": [
    "p_output_given_ring"
   ]
  },
  {
   "cell_type": "code",
   "execution_count": 97,
   "id": "b7425d43-afa2-443f-919d-7d5b8f7a0cfc",
   "metadata": {},
   "outputs": [
    {
     "data": {
      "text/plain": [
       "0.681159     50658\n",
       "0.130435     50657\n",
       "0.072464    101314\n",
       "0.043478     50657\n",
       "dtype: int64"
      ]
     },
     "execution_count": 97,
     "metadata": {},
     "output_type": "execute_result"
    }
   ],
   "source": [
    "pd.value_counts(p_output_given_ring.squeeze()).sort_index(ascending=False)"
   ]
  },
  {
   "cell_type": "code",
   "execution_count": 98,
   "id": "638555b2-4229-4804-a0a7-28838630d6f0",
   "metadata": {},
   "outputs": [
    {
     "data": {
      "image/png": "[encoded data removed]",
      "text/plain": [
       "<Figure size 432x288 with 1 Axes>"
      ]
     },
     "metadata": {
      "needs_background": "light"
     },
     "output_type": "display_data"
    }
   ],
   "source": [
    "_ = plt.hist(p_output_given_ring, bins=20)"
   ]
  },
  {
   "cell_type": "code",
   "execution_count": 99,
   "id": "60f43e53-9092-4ae3-bba5-922f0913aca3",
   "metadata": {},
   "outputs": [],
   "source": [
    "# p(ring|f(x)) = p(f(x)|ring)p(ring)/ [ p(f(x)|ring)p(ring) + p(f(x)|p(~ring))p(~ring)]"
   ]
  },
  {
   "cell_type": "code",
   "execution_count": 100,
   "id": "79ec99cc-e794-44d9-8118-ec1ef3dd010d",
   "metadata": {},
   "outputs": [],
   "source": [
    "p_not_ring = 1 - p_ring"
   ]
  },
  {
   "cell_type": "code",
   "execution_count": 101,
   "id": "18b0535c-093d-41fb-8da3-3167683f4f72",
   "metadata": {},
   "outputs": [
    {
     "data": {
      "text/plain": [
       "array([189., 197., 201., 203., 141.])"
      ]
     },
     "execution_count": 101,
     "metadata": {},
     "output_type": "execute_result"
    }
   ],
   "source": [
    "not_rings_per_bin = get_percentile_histogram(random_expert_not_ring_preds.squeeze(), percentile_values)\n",
    "not_rings_per_bin  # roughly equal, but fewer at the top"
   ]
  },
  {
   "cell_type": "code",
   "execution_count": 102,
   "id": "c0733e1c-ba12-417b-867e-a5163e2a77c7",
   "metadata": {},
   "outputs": [
    {
     "data": {
      "text/plain": [
       "array([0.20300752, 0.21160043, 0.21589689, 0.21804511, 0.15145005])"
      ]
     },
     "execution_count": 102,
     "metadata": {},
     "output_type": "execute_result"
    }
   ],
   "source": [
    "not_ring_rates = not_rings_per_bin / len(random_expert_not_ring_preds)\n",
    "not_ring_rates"
   ]
  },
  {
   "cell_type": "code",
   "execution_count": 103,
   "id": "9a1d55f4-defe-45a3-a0e4-e59af085b106",
   "metadata": {},
   "outputs": [],
   "source": [
    "p_output_given_not_ring = empirical_prob_from_histogram(random_preds.squeeze(), not_ring_rates, percentile_values)"
   ]
  },
  {
   "cell_type": "code",
   "execution_count": 104,
   "id": "6d2cf5a4-ee22-4dbd-b1af-aeb1861ec0dc",
   "metadata": {},
   "outputs": [
    {
     "data": {
      "image/png": "[encoded data removed]",
      "text/plain": [
       "<Figure size 432x288 with 1 Axes>"
      ]
     },
     "metadata": {
      "needs_background": "light"
     },
     "output_type": "display_data"
    }
   ],
   "source": [
    "_ = plt.hist(p_output_given_not_ring, bins=20)"
   ]
  },
  {
   "cell_type": "code",
   "execution_count": 105,
   "id": "e86a566c-64ce-4dd2-9a9f-457318edf9e5",
   "metadata": {},
   "outputs": [],
   "source": [
    "p_ring_given_output = p_output_given_ring * p_ring / (p_output_given_ring * p_ring + p_output_given_not_ring * p_not_ring)"
   ]
  },
  {
   "cell_type": "code",
   "execution_count": 106,
   "id": "9262460f-1857-4d3f-8827-88be09af84b1",
   "metadata": {},
   "outputs": [
    {
     "data": {
      "image/png": "[encoded data removed]",
      "text/plain": [
       "<Figure size 432x288 with 1 Axes>"
      ]
     },
     "metadata": {
      "needs_background": "light"
     },
     "output_type": "display_data"
    }
   ],
   "source": [
    "_ = plt.hist(p_ring_given_output, bins=30)  # can I use this alone? p output given not ring is much easier to calculate, perhaps?"
   ]
  },
  {
   "cell_type": "code",
   "execution_count": 107,
   "id": "0dec324a-edd7-4dfe-ab10-ed28e4734793",
   "metadata": {},
   "outputs": [],
   "source": [
    "# pd.value_counts(p_ring_given_output)"
   ]
  },
  {
   "cell_type": "code",
   "execution_count": 108,
   "id": "6a06e675-5077-4a92-a367-fb8592f1f866",
   "metadata": {},
   "outputs": [],
   "source": [
    "vote_df['p_ring_given_output'] = p_ring_given_output"
   ]
  },
  {
   "cell_type": "code",
   "execution_count": 109,
   "id": "0fd66142-fb7a-4c00-acca-d772c1e81a48",
   "metadata": {},
   "outputs": [
    {
     "data": {
      "text/plain": [
       "<matplotlib.legend.Legend at 0x7ff0e4616190>"
      ]
     },
     "execution_count": 109,
     "metadata": {},
     "output_type": "execute_result"
    },
    {
     "data": {
      "image/png": "[encoded data removed]",
      "text/plain": [
       "<Figure size 432x288 with 1 Axes>"
      ]
     },
     "metadata": {
      "needs_background": "light"
     },
     "output_type": "display_data"
    }
   ],
   "source": [
    "_, viz_bins = np.histogram(np.linspace(0, 1), bins=30)\n",
    "# plt.hist(vote_df, density=True, alpha=.5, label='All', bins=viz_bins)\n",
    "plt.hist(vote_df.query('is_ring')['p_ring_given_output'], density=True, alpha=.5, label='Rings', bins=viz_bins)\n",
    "plt.hist(vote_df[~vote_df['is_ring']]['p_ring_given_output'], density=True, alpha=.5, label='Not Rings', bins=viz_bins)\n",
    "# should be same as they are all random\n",
    "plt.xlabel('p_ring_given_output')\n",
    "plt.legend()"
   ]
  },
  {
   "cell_type": "code",
   "execution_count": 110,
   "id": "05549fda-87d2-481f-bf9f-ccab617a1c61",
   "metadata": {},
   "outputs": [
    {
     "data": {
      "text/plain": [
       "<matplotlib.legend.Legend at 0x7ff0e2b04f40>"
      ]
     },
     "execution_count": 110,
     "metadata": {},
     "output_type": "execute_result"
    },
    {
     "data": {
      "image/png": "[encoded data removed]",
      "text/plain": [
       "<Figure size 432x288 with 1 Axes>"
      ]
     },
     "metadata": {
      "needs_background": "light"
     },
     "output_type": "display_data"
    }
   ],
   "source": [
    "_, viz_bins = np.histogram(np.linspace(0, 1), bins=30)\n",
    "# plt.hist(vote_df, density=True, alpha=.5, label='All', bins=viz_bins)\n",
    "plt.hist(vote_df.query('is_ring')['p_ring_given_output'], alpha=.5, label='Rings', bins=viz_bins)\n",
    "plt.hist(vote_df[~vote_df['is_ring']]['p_ring_given_output'], alpha=.5, label='Not Rings', bins=viz_bins)\n",
    "# should be same as they are all random\n",
    "plt.xlabel('p_ring_given_output')\n",
    "plt.legend()"
   ]
  },
  {
   "cell_type": "code",
   "execution_count": 111,
   "id": "3db40cac-3088-4979-bfc0-d7225270ca03",
   "metadata": {},
   "outputs": [
    {
     "data": {
      "text/plain": [
       "0.20979904457341386"
      ]
     },
     "execution_count": 111,
     "metadata": {},
     "output_type": "execute_result"
    }
   ],
   "source": [
    "likely_ring = vote_df['p_ring_given_output'] > 0.2\n",
    "is_ring = vote_df['is_ring']\n",
    "\n",
    "vote_df[likely_ring]['is_ring'].mean()"
   ]
  },
  {
   "cell_type": "code",
   "execution_count": 112,
   "id": "930a5aef-cabc-4a6e-be30-c3dc1577968b",
   "metadata": {},
   "outputs": [],
   "source": [
    "# Test twice? i.e. then have volunteers verify"
   ]
  },
  {
   "cell_type": "code",
   "execution_count": null,
   "id": "cce8950e-29f4-44eb-9e32-7039cceff85b",
   "metadata": {},
   "outputs": [],
   "source": []
  }
 ],
 "metadata": {
  "kernelspec": {
   "display_name": "Python 3 (ipykernel)",
   "language": "python",
   "name": "python3"
  },
  "language_info": {
   "codemirror_mode": {
    "name": "ipython",
    "version": 3
   },
   "file_extension": ".py",
   "mimetype": "text/x-python",
   "name": "python",
   "nbconvert_exporter": "python",
   "pygments_lexer": "ipython3",
   "version": "3.8.10"
  }
 },
 "nbformat": 4,
 "nbformat_minor": 5
}
