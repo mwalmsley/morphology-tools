{
 "cells": [
  {
   "cell_type": "code",
   "execution_count": 1,
   "id": "32bb3e9c-544f-46e9-8d5d-644054f57048",
   "metadata": {},
   "outputs": [],
   "source": [
    "%load_ext autoreload\n",
    "%autoreload 2"
   ]
  },
  {
   "cell_type": "code",
   "execution_count": 2,
   "id": "c818efde-7361-4a30-9df4-448255945b32",
   "metadata": {},
   "outputs": [],
   "source": [
    "import os\n",
    "from collections import Counter\n",
    "\n",
    "import numpy as np\n",
    "import pandas as pd\n",
    "import tensorflow as tf\n",
    "import scipy\n",
    "from sklearn.model_selection import train_test_split\n",
    "import tensorflow_probability as tfp\n",
    "import matplotlib.pyplot as plt\n",
    "import seaborn as sns\n",
    "sns.set_context('notebook')"
   ]
  },
  {
   "cell_type": "code",
   "execution_count": 3,
   "id": "26c85a31-f879-46fb-9eb9-a32de4f4b2a9",
   "metadata": {},
   "outputs": [],
   "source": [
    "os.chdir('/Users/walml/repos/morphology-tools')"
   ]
  },
  {
   "cell_type": "code",
   "execution_count": 4,
   "id": "1490547e-a358-4252-a72d-e8d014f0c510",
   "metadata": {},
   "outputs": [],
   "source": [
    "from ring import bayesian_sim"
   ]
  },
  {
   "cell_type": "code",
   "execution_count": 5,
   "id": "e0cdd5cf-5fef-4dd3-b5d0-55853ea4e09f",
   "metadata": {},
   "outputs": [],
   "source": [
    "frac_cols = ['smooth-or-featured_smooth_fraction',\n",
    " 'smooth-or-featured_featured-or-disk_fraction',\n",
    " 'smooth-or-featured_artifact_fraction',\n",
    " 'disk-edge-on_yes_fraction',\n",
    " 'disk-edge-on_no_fraction',\n",
    " 'has-spiral-arms_yes_fraction',\n",
    " 'has-spiral-arms_no_fraction',\n",
    " 'bar_strong_fraction',\n",
    " 'bar_weak_fraction',\n",
    " 'bar_no_fraction',\n",
    " 'bulge-size_dominant_fraction',\n",
    " 'bulge-size_large_fraction',\n",
    " 'bulge-size_moderate_fraction',\n",
    " 'bulge-size_small_fraction',\n",
    " 'bulge-size_none_fraction',\n",
    " 'how-rounded_round_fraction',\n",
    " 'how-rounded_in-between_fraction',\n",
    " 'how-rounded_cigar-shaped_fraction',\n",
    " 'edge-on-bulge_boxy_fraction',\n",
    " 'edge-on-bulge_none_fraction',\n",
    " 'edge-on-bulge_rounded_fraction',\n",
    " 'spiral-winding_tight_fraction',\n",
    " 'spiral-winding_medium_fraction',\n",
    " 'spiral-winding_loose_fraction',\n",
    " 'spiral-arm-count_1_fraction',\n",
    " 'spiral-arm-count_2_fraction',\n",
    " 'spiral-arm-count_3_fraction',\n",
    " 'spiral-arm-count_4_fraction',\n",
    " 'spiral-arm-count_more-than-4_fraction',\n",
    " 'spiral-arm-count_cant-tell_fraction',\n",
    " 'merging_none_fraction',\n",
    " 'merging_minor-disturbance_fraction',\n",
    " 'merging_major-disturbance_fraction',\n",
    " 'merging_merger_fraction']"
   ]
  },
  {
   "cell_type": "code",
   "execution_count": 6,
   "id": "1f9a5613-aabd-43b0-a1c9-bd7205a271fd",
   "metadata": {},
   "outputs": [],
   "source": [
    "decals_df = pd.read_parquet(\n",
    "    '/Users/walml/repos/zoobot_private/gz_decals_auto_posteriors.parquet',\n",
    "    columns=frac_cols + ['iauname'])"
   ]
  },
  {
   "cell_type": "code",
   "execution_count": 7,
   "id": "3784f6ec-e297-4725-8d99-1bc7291c152f",
   "metadata": {},
   "outputs": [],
   "source": [
    "# use vote fractions for now? but selected to fairly high fractions\n",
    "\n",
    "rare_df = pd.read_parquet('/Users/walml/repos/zoobot/data/rare_features_dr5_with_ml_morph.parquet')\n",
    "del rare_df['smooth-or-featured_featured-or-disk_fraction']\n",
    "del rare_df['disk-edge-on_no_fraction']\n",
    "del rare_df['has-spiral-arms_no_fraction']\n",
    "rare_df['is_ring'] = rare_df['rare-features_ring_fraction'] > 0.25   # TODO fraction. What the experts say, close enough for now\n"
   ]
  },
  {
   "cell_type": "code",
   "execution_count": 8,
   "id": "fea7b1e0-544a-4ecb-bcb2-adba25f86152",
   "metadata": {},
   "outputs": [],
   "source": [
    "vote_df = pd.merge(decals_df, rare_df, on='iauname', how='inner')"
   ]
  },
  {
   "cell_type": "code",
   "execution_count": 9,
   "id": "5d52613a-6209-44a4-83ef-7c3e262bb5bd",
   "metadata": {},
   "outputs": [],
   "source": [
    "mobile_df, not_mobile_df = bayesian_sim.select_for_gz_mobile(vote_df, num_galaxies=5000)"
   ]
  },
  {
   "cell_type": "code",
   "execution_count": 10,
   "id": "38cc5b34-815b-4b2e-9647-b36b68e5c229",
   "metadata": {},
   "outputs": [],
   "source": [
    "\n",
    "mobile_df['ring_votes'] = bayesian_sim.get_fake_mobile_votes(mobile_df['rare-features_ring_fraction'].values)\n",
    "not_mobile_df['ring_votes'] = bayesian_sim.get_fake_mobile_votes(np.ones(len(not_mobile_df))*0.03)  # assume base rate - TODO could be better\n",
    "\n",
    "mobile_train_df, mobile_val_df = train_test_split(mobile_df, test_size=0.2)\n",
    "not_mobile_train_df, not_mobile_val_df = train_test_split(not_mobile_df, test_size=0.2)\n",
    "\n",
    "train_df = pd.concat([mobile_train_df, not_mobile_train_df[:len(mobile_train_df)]])  # equal size\n",
    "val_df = pd.concat([mobile_val_df, not_mobile_val_df[:len(mobile_train_df)]])\n",
    "\n",
    "train_df = train_df.sample(len(train_df))\n",
    "val_df = val_df.sample(len(val_df))"
   ]
  },
  {
   "cell_type": "code",
   "execution_count": 11,
   "id": "b451d1fb-0377-4390-8bac-6b9066f4f1d4",
   "metadata": {},
   "outputs": [],
   "source": [
    "# frac_cols = [col for col in decals_df.columns.values if col.endswith('_fraction')]\n",
    "# frac_cols\n",
    "batch_size = 128"
   ]
  },
  {
   "cell_type": "code",
   "execution_count": 12,
   "id": "a6684d45-4d2a-455e-92ad-dfa178aece7c",
   "metadata": {},
   "outputs": [
    {
     "name": "stderr",
     "output_type": "stream",
     "text": [
      "2021-08-12 11:47:01.862466: I tensorflow/core/platform/cpu_feature_guard.cc:142] This TensorFlow binary is optimized with oneAPI Deep Neural Network Library (oneDNN) to use the following CPU instructions in performance-critical operations:  AVX2 FMA\n",
      "To enable them in other operations, rebuild TensorFlow with the appropriate compiler flags.\n"
     ]
    }
   ],
   "source": [
    "mobile_train_dataset = tf.data.Dataset.from_tensor_slices((train_df[frac_cols], train_df['ring_votes'].astype(np.float32))).batch(batch_size)\n",
    "mobile_val_dataset = tf.data.Dataset.from_tensor_slices((val_df[frac_cols], val_df['ring_votes'].astype(np.float32))).batch(batch_size)"
   ]
  },
  {
   "cell_type": "code",
   "execution_count": 13,
   "id": "0b34915e-b0a8-4278-9f18-b8e70ebd0cf8",
   "metadata": {},
   "outputs": [
    {
     "name": "stdout",
     "output_type": "stream",
     "text": [
      "(<tf.Tensor: shape=(128, 34), dtype=float64, numpy=\n",
      "array([[0.45793054, 0.48571591, 0.05635356, ..., 0.13401011, 0.02466206,\n",
      "        0.0185065 ],\n",
      "       [0.37188254, 0.55803002, 0.07008743, ..., 0.25720237, 0.06220682,\n",
      "        0.01774617],\n",
      "       [0.76758494, 0.16813281, 0.06428225, ..., 0.0730881 , 0.01397686,\n",
      "        0.01114534],\n",
      "       ...,\n",
      "       [0.5245844 , 0.4295314 , 0.0458842 , ..., 0.29476561, 0.08962928,\n",
      "        0.01975586],\n",
      "       [0.46677423, 0.47865836, 0.05456741, ..., 0.09126338, 0.01733638,\n",
      "        0.01442712],\n",
      "       [0.82613647, 0.09218362, 0.08167992, ..., 0.09123327, 0.01581552,\n",
      "        0.01184361]])>, <tf.Tensor: shape=(128,), dtype=float32, numpy=\n",
      "array([ 8.,  0.,  0.,  0.,  8.,  7.,  1.,  7.,  5.,  2.,  5.,  0.,  1.,\n",
      "        0.,  1.,  7.,  1.,  5.,  0.,  0.,  4.,  1.,  7., 10.,  3.,  0.,\n",
      "        2.,  9.,  0.,  7.,  0.,  0.,  2.,  0.,  5.,  0.,  3.,  7.,  1.,\n",
      "        1.,  1.,  7.,  1.,  5., 10.,  5., 10.,  0.,  4.,  4.,  6.,  0.,\n",
      "        0.,  0.,  0.,  0.,  0.,  8.,  0.,  1.,  1.,  0.,  1.,  6.,  7.,\n",
      "        6.,  4.,  0.,  0.,  0., 10.,  1.,  4.,  6.,  0.,  7.,  0.,  5.,\n",
      "        0.,  6.,  0.,  7., 10.,  0.,  8.,  0.,  2.,  0.,  5.,  0., 10.,\n",
      "        0.,  0.,  3.,  4.,  0.,  7.,  1.,  0.,  0.,  1.,  7.,  0.,  0.,\n",
      "        6.,  0., 10.,  5.,  1.,  6.,  0.,  4.,  0.,  0.,  0.,  1.,  0.,\n",
      "        5.,  0.,  0.,  7.,  4.,  8.,  2.,  5.,  4.,  0.,  0.],\n",
      "      dtype=float32)>)\n"
     ]
    }
   ],
   "source": [
    "for batch in mobile_train_dataset.take(1):\n",
    "    print(batch)"
   ]
  },
  {
   "cell_type": "code",
   "execution_count": null,
   "id": "4b21f873-2d78-4b66-b6e5-6b180470a293",
   "metadata": {},
   "outputs": [],
   "source": []
  },
  {
   "cell_type": "code",
   "execution_count": 14,
   "id": "611bbcff-cc88-43f1-8b65-1c43a485028d",
   "metadata": {},
   "outputs": [],
   "source": [
    "# batch[1]"
   ]
  },
  {
   "cell_type": "code",
   "execution_count": 15,
   "id": "503ebe1d-1b7e-4765-a0f2-1c5e15c900d8",
   "metadata": {},
   "outputs": [],
   "source": [
    "# binomial_loss(batch[1], tf.constant(0.8))"
   ]
  },
  {
   "cell_type": "code",
   "execution_count": 17,
   "id": "1c34b8f3-c0f8-4f6b-ba9b-ed4556b68c16",
   "metadata": {},
   "outputs": [
    {
     "name": "stdout",
     "output_type": "stream",
     "text": [
      "Epoch 1/40\n"
     ]
    },
    {
     "name": "stderr",
     "output_type": "stream",
     "text": [
      "2021-08-12 11:47:12.670442: I tensorflow/compiler/mlir/mlir_graph_optimization_pass.cc:176] None of the MLIR Optimization Passes are enabled (registered 2)\n"
     ]
    },
    {
     "name": "stdout",
     "output_type": "stream",
     "text": [
      "63/63 - 1s - loss: 3.7732 - val_loss: 2.8839\n",
      "Epoch 2/40\n",
      "63/63 - 0s - loss: 2.9607 - val_loss: 2.1718\n",
      "Epoch 3/40\n",
      "63/63 - 0s - loss: 2.3018 - val_loss: 1.7272\n",
      "Epoch 4/40\n",
      "63/63 - 0s - loss: 1.9973 - val_loss: 1.5865\n",
      "Epoch 5/40\n",
      "63/63 - 0s - loss: 1.9472 - val_loss: 1.5294\n",
      "Epoch 6/40\n",
      "63/63 - 0s - loss: 1.9188 - val_loss: 1.4970\n",
      "Epoch 7/40\n",
      "63/63 - 0s - loss: 1.9008 - val_loss: 1.4784\n",
      "Epoch 8/40\n",
      "63/63 - 0s - loss: 1.8890 - val_loss: 1.4656\n",
      "Epoch 9/40\n",
      "63/63 - 0s - loss: 1.8811 - val_loss: 1.4558\n",
      "Epoch 10/40\n",
      "63/63 - 0s - loss: 1.8755 - val_loss: 1.4492\n",
      "Epoch 11/40\n",
      "63/63 - 0s - loss: 1.8715 - val_loss: 1.4434\n",
      "Epoch 12/40\n",
      "63/63 - 0s - loss: 1.8684 - val_loss: 1.4391\n",
      "Epoch 13/40\n",
      "63/63 - 0s - loss: 1.8657 - val_loss: 1.4355\n",
      "Epoch 14/40\n",
      "63/63 - 0s - loss: 1.8636 - val_loss: 1.4332\n",
      "Epoch 15/40\n",
      "63/63 - 0s - loss: 1.8617 - val_loss: 1.4323\n",
      "Epoch 16/40\n",
      "63/63 - 0s - loss: 1.8603 - val_loss: 1.4298\n",
      "Epoch 17/40\n",
      "63/63 - 0s - loss: 1.8589 - val_loss: 1.4289\n",
      "Epoch 18/40\n",
      "63/63 - 0s - loss: 1.8576 - val_loss: 1.4280\n",
      "Epoch 19/40\n",
      "63/63 - 0s - loss: 1.8562 - val_loss: 1.4264\n",
      "Epoch 20/40\n",
      "63/63 - 0s - loss: 1.8551 - val_loss: 1.4254\n",
      "Epoch 21/40\n",
      "63/63 - 0s - loss: 1.8540 - val_loss: 1.4242\n",
      "Epoch 22/40\n",
      "63/63 - 0s - loss: 1.8530 - val_loss: 1.4236\n",
      "Epoch 23/40\n",
      "63/63 - 0s - loss: 1.8520 - val_loss: 1.4230\n",
      "Epoch 24/40\n",
      "63/63 - 0s - loss: 1.8514 - val_loss: 1.4209\n",
      "Epoch 25/40\n",
      "63/63 - 0s - loss: 1.8504 - val_loss: 1.4213\n",
      "Epoch 26/40\n",
      "63/63 - 0s - loss: 1.8496 - val_loss: 1.4206\n",
      "Epoch 27/40\n",
      "63/63 - 0s - loss: 1.8488 - val_loss: 1.4207\n",
      "Epoch 28/40\n",
      "63/63 - 0s - loss: 1.8484 - val_loss: 1.4199\n",
      "Epoch 29/40\n",
      "63/63 - 0s - loss: 1.8476 - val_loss: 1.4191\n",
      "Epoch 30/40\n",
      "63/63 - 0s - loss: 1.8468 - val_loss: 1.4185\n",
      "Epoch 31/40\n",
      "63/63 - 0s - loss: 1.8463 - val_loss: 1.4188\n",
      "Epoch 32/40\n",
      "63/63 - 0s - loss: 1.8455 - val_loss: 1.4186\n",
      "Epoch 33/40\n",
      "63/63 - 0s - loss: 1.8450 - val_loss: 1.4187\n",
      "Epoch 34/40\n",
      "63/63 - 0s - loss: 1.8445 - val_loss: 1.4182\n",
      "Epoch 35/40\n",
      "63/63 - 0s - loss: 1.8439 - val_loss: 1.4175\n",
      "Epoch 36/40\n",
      "63/63 - 0s - loss: 1.8434 - val_loss: 1.4166\n",
      "Epoch 37/40\n",
      "63/63 - 0s - loss: 1.8428 - val_loss: 1.4165\n",
      "Epoch 38/40\n",
      "63/63 - 0s - loss: 1.8423 - val_loss: 1.4167\n",
      "Epoch 39/40\n",
      "63/63 - 0s - loss: 1.8418 - val_loss: 1.4160\n",
      "Epoch 40/40\n",
      "63/63 - 0s - loss: 1.8412 - val_loss: 1.4159\n"
     ]
    },
    {
     "data": {
      "text/plain": [
       "<tensorflow.python.keras.callbacks.History at 0x7ffd6368e4f0>"
      ]
     },
     "execution_count": 17,
     "metadata": {},
     "output_type": "execute_result"
    }
   ],
   "source": [
    "\n",
    "classifier = tf.keras.models.Sequential([\n",
    "    tf.keras.layers.InputLayer(input_shape=(len(frac_cols))),\n",
    "    tf.keras.layers.Dense(16, activation=tf.nn.relu),\n",
    "    tf.keras.layers.Dense(64, activation=tf.nn.relu),\n",
    "#     tf.keras.layers.Dense(1, activation=tf.nn.sigmoid)  # for binomial loss\n",
    "    tf.keras.layers.Dense(2, activation=tf.nn.sigmoid),  # for Dirichlet-Multinomial loss,\n",
    "    tf.keras.layers.Lambda(lambda x: (x * 100) + 1, output_shape=(2))\n",
    "])\n",
    "\n",
    "classifier.compile(\n",
    "#     loss=bayesian_sim.binomial_loss,\n",
    "    loss = bayesian_sim.dirichlet_multinomial_loss,\n",
    "    optimizer=tf.keras.optimizers.Adam(learning_rate=0.001)\n",
    ")\n",
    "\n",
    "# train to estimate p(ring|votes,voted)\n",
    "early_stopping_callback = tf.keras.callbacks.EarlyStopping(patience=10)\n",
    "\n",
    "classifier.fit(mobile_train_dataset, validation_data=mobile_val_dataset, epochs=40, callbacks=[early_stopping_callback], verbose=2)"
   ]
  },
  {
   "cell_type": "code",
   "execution_count": null,
   "id": "a9b3f41e-9972-417d-a71f-7d8d04bc75fa",
   "metadata": {},
   "outputs": [],
   "source": []
  },
  {
   "cell_type": "code",
   "execution_count": 18,
   "id": "4687bd57-cd14-45c4-91a3-939c4c8b8c11",
   "metadata": {},
   "outputs": [
    {
     "name": "stdout",
     "output_type": "stream",
     "text": [
      "40/40 [==============================] - 0s 915us/step - loss: 1.4159\n",
      "1.4158855676651\n"
     ]
    }
   ],
   "source": [
    "print(classifier.evaluate(mobile_val_dataset))"
   ]
  },
  {
   "cell_type": "code",
   "execution_count": 19,
   "id": "4a8cde2c-447c-47a7-b5eb-35db9c9706cc",
   "metadata": {},
   "outputs": [
    {
     "data": {
      "text/plain": [
       "<tf.Tensor: shape=(128,), dtype=float32, numpy=\n",
       "array([ 8.,  0.,  0.,  0.,  8.,  7.,  1.,  7.,  5.,  2.,  5.,  0.,  1.,\n",
       "        0.,  1.,  7.,  1.,  5.,  0.,  0.,  4.,  1.,  7., 10.,  3.,  0.,\n",
       "        2.,  9.,  0.,  7.,  0.,  0.,  2.,  0.,  5.,  0.,  3.,  7.,  1.,\n",
       "        1.,  1.,  7.,  1.,  5., 10.,  5., 10.,  0.,  4.,  4.,  6.,  0.,\n",
       "        0.,  0.,  0.,  0.,  0.,  8.,  0.,  1.,  1.,  0.,  1.,  6.,  7.,\n",
       "        6.,  4.,  0.,  0.,  0., 10.,  1.,  4.,  6.,  0.,  7.,  0.,  5.,\n",
       "        0.,  6.,  0.,  7., 10.,  0.,  8.,  0.,  2.,  0.,  5.,  0., 10.,\n",
       "        0.,  0.,  3.,  4.,  0.,  7.,  1.,  0.,  0.,  1.,  7.,  0.,  0.,\n",
       "        6.,  0., 10.,  5.,  1.,  6.,  0.,  4.,  0.,  0.,  0.,  1.,  0.,\n",
       "        5.,  0.,  0.,  7.,  4.,  8.,  2.,  5.,  4.,  0.,  0.],\n",
       "      dtype=float32)>"
      ]
     },
     "execution_count": 19,
     "metadata": {},
     "output_type": "execute_result"
    }
   ],
   "source": [
    "batch[1]"
   ]
  },
  {
   "cell_type": "code",
   "execution_count": 20,
   "id": "29365108-d2c3-482d-9771-3a2d65a669cb",
   "metadata": {},
   "outputs": [
    {
     "data": {
      "text/plain": [
       "array([[ 5.0393443,  2.113397 ],\n",
       "       [ 1.0448376,  1.9373456],\n",
       "       [ 1.2664655,  3.7510047],\n",
       "       [ 1.3015816,  1.7397771],\n",
       "       [ 4.271347 ,  2.3017952],\n",
       "       [ 1.8939892,  1.6112427],\n",
       "       [ 1.0063146, 19.947235 ],\n",
       "       [ 5.7286453,  2.201284 ],\n",
       "       [ 3.8640926,  1.7512629],\n",
       "       [ 1.09211  ,  4.2417417]], dtype=float32)"
      ]
     },
     "execution_count": 20,
     "metadata": {},
     "output_type": "execute_result"
    }
   ],
   "source": [
    "example_preds = classifier.predict(batch[0][:batch_size])[:10]\n",
    "example_preds"
   ]
  },
  {
   "cell_type": "code",
   "execution_count": 21,
   "id": "0523d93f-5b7d-4108-93f1-45e3e0825d2a",
   "metadata": {},
   "outputs": [],
   "source": [
    "def viz_multinomial(concentrations):\n",
    "    x_votes = np.arange(10)\n",
    "    votes = np.stack([x_votes, 10-x_votes], axis=1)\n",
    "    for n, concentration in enumerate(concentrations):\n",
    "        plt.plot(x_votes, tfp.distributions.DirichletMultinomial(total_count=10, concentration=concentration).prob(votes))\n",
    "    #     plt.axvline(batch[1][n])"
   ]
  },
  {
   "cell_type": "code",
   "execution_count": 22,
   "id": "a28afcc8-c6de-415c-b0d2-3ed8b07d1b1f",
   "metadata": {},
   "outputs": [
    {
     "data": {
      "image/png": "[encoded data removed]",
      "text/plain": [
       "<Figure size 432x288 with 1 Axes>"
      ]
     },
     "metadata": {
      "needs_background": "light"
     },
     "output_type": "display_data"
    }
   ],
   "source": [
    "viz_multinomial(example_preds)"
   ]
  },
  {
   "cell_type": "code",
   "execution_count": null,
   "id": "b74cd8d5-4bd1-4b60-a34e-ef5ef89b2a41",
   "metadata": {},
   "outputs": [],
   "source": []
  },
  {
   "cell_type": "code",
   "execution_count": 23,
   "id": "22cad19f-211a-4301-8b21-276586f8b744",
   "metadata": {},
   "outputs": [],
   "source": [
    "# and now calibrate to estimate p(ring)"
   ]
  },
  {
   "cell_type": "code",
   "execution_count": 24,
   "id": "24006a83-1748-4742-b4ae-ca20e25cbd92",
   "metadata": {},
   "outputs": [],
   "source": [
    "# unlabelled_df = vote_df.sample(10000)  # to be calibrated\n",
    "all_preds = classifier.predict(vote_df[frac_cols])"
   ]
  },
  {
   "cell_type": "code",
   "execution_count": null,
   "id": "0985ea0e-96c1-404d-a2d9-d77e9f79fd85",
   "metadata": {},
   "outputs": [],
   "source": []
  },
  {
   "cell_type": "code",
   "execution_count": 25,
   "id": "befeb90c-4b07-4eeb-bc14-49661a15c721",
   "metadata": {},
   "outputs": [],
   "source": [
    "\n",
    "random_expert_labels = vote_df.sample(1000)  # for estimating ring rate in random sample\n",
    "expert_labelled_rings = random_expert_labels.query('is_ring')\n",
    "random_expert_ring_preds = classifier.predict(expert_labelled_rings[frac_cols])\n",
    "\n",
    "\n",
    "expert_labelled_not_rings = random_expert_labels[~random_expert_labels['is_ring']]\n",
    "random_expert_not_ring_preds = classifier.predict(expert_labelled_not_rings[frac_cols])\n"
   ]
  },
  {
   "cell_type": "code",
   "execution_count": 26,
   "id": "6ddb8542-0fea-4014-8b26-05d554157b1f",
   "metadata": {},
   "outputs": [
    {
     "data": {
      "text/plain": [
       "array([1.8784503, 2.1559649, 1.9136931, 1.7771566, 2.8446627, 1.7724404,\n",
       "       1.8204445, 4.131996 , 1.547509 , 1.6178781, 1.706315 , 1.5066901,\n",
       "       2.17203  , 1.5753577, 2.8270552, 1.8842812, 2.171504 , 2.0805845,\n",
       "       1.6941304, 1.8641064, 2.7792609, 3.3243353, 2.7796783, 2.2305348,\n",
       "       1.5685866, 1.4927709, 3.303958 , 2.074113 , 1.5716205, 2.9758284,\n",
       "       1.9729445, 1.5047486, 2.479566 , 5.240752 , 1.8962467, 9.431783 ,\n",
       "       1.6838753, 2.948194 , 2.7220154, 6.0075355, 6.569892 , 1.6802291,\n",
       "       2.671128 , 1.9043038, 3.1276698, 1.8945718, 1.5033181, 1.9711967,\n",
       "       7.3464956, 2.2572856], dtype=float32)"
      ]
     },
     "execution_count": 26,
     "metadata": {},
     "output_type": "execute_result"
    }
   ],
   "source": [
    "random_expert_ring_preds.mean(axis=1)"
   ]
  },
  {
   "cell_type": "code",
   "execution_count": null,
   "id": "2f568eaf-c773-4796-9cba-e6abf00c7f50",
   "metadata": {},
   "outputs": [],
   "source": []
  },
  {
   "cell_type": "code",
   "execution_count": null,
   "id": "fce7c8b5-92b8-4434-b441-860a6a6762d9",
   "metadata": {},
   "outputs": [],
   "source": []
  },
  {
   "cell_type": "code",
   "execution_count": 51,
   "id": "40573c39-5946-4858-acfe-65851a901060",
   "metadata": {},
   "outputs": [
    {
     "data": {
      "text/plain": [
       "<matplotlib.legend.Legend at 0x7ffd57917a00>"
      ]
     },
     "execution_count": 51,
     "metadata": {},
     "output_type": "execute_result"
    },
    {
     "data": {
      "image/png": "[encoded data removed]",
      "text/plain": [
       "<Figure size 432x288 with 1 Axes>"
      ]
     },
     "metadata": {
      "needs_background": "light"
     },
     "output_type": "display_data"
    }
   ],
   "source": [
    "_, viz_bins = np.histogram(np.linspace(0, 1), bins=30)\n",
    "# plt.hist(random_preds, density=True, alpha=.5, label='All', bins=viz_bins)\n",
    "plt.hist(bayesian_sim.concentrations_to_mean_prob(random_expert_ring_preds), density=True, alpha=.5, label='Rings', bins=viz_bins)\n",
    "plt.hist(bayesian_sim.concentrations_to_mean_prob(random_expert_not_ring_preds), density=True, alpha=.5, label='Not Rings', bins=viz_bins)\n",
    "# should be same as they are all random\n",
    "plt.xlabel('Model f_w(x)')\n",
    "plt.legend()"
   ]
  },
  {
   "cell_type": "code",
   "execution_count": null,
   "id": "d1d4d704-08f4-492c-8da4-e3189d36d2eb",
   "metadata": {},
   "outputs": [],
   "source": []
  },
  {
   "cell_type": "code",
   "execution_count": 137,
   "id": "906839a9-9f3b-412a-9961-8f1696891706",
   "metadata": {},
   "outputs": [],
   "source": [
    "\n",
    "# pred_to_score_func = bayesian_sim.preds_to_sampled_vote\n",
    "pred_to_score_func = lambda x: bayesian_sim.preds_to_sampled_vote(x, num_samples=1)\n",
    "pred_to_score_func_many = lambda x: bayesian_sim.preds_to_sampled_vote(x, num_samples=10000)\n",
    "bin_edges, bin_centers, ring_rates, not_ring_rates = bayesian_sim.get_fixed_bin_ring_rates(\n",
    "    random_expert_ring_preds, random_expert_not_ring_preds, pred_to_score_func_1000\n",
    ")\n",
    "\n",
    "# pred_to_score_func = bayesian_sim.concentrations_to_mean_prob\n",
    "# bin_edges, bin_centers, ring_rates, not_ring_rates = bayesian_sim.get_percentile_ring_rates(\n",
    "#     all_preds, random_expert_ring_preds, random_expert_not_ring_preds, pred_to_score_func\n",
    "# )"
   ]
  },
  {
   "cell_type": "code",
   "execution_count": 138,
   "id": "6b394c13-ff27-4a16-b2eb-7f8275867db7",
   "metadata": {},
   "outputs": [
    {
     "data": {
      "text/plain": [
       "array([0.06524, 0.0539 , 0.04854, 0.04376, 0.03964, 0.03772, 0.036  ,\n",
       "       0.03446, 0.03456, 0.03506, 0.03392, 0.03624, 0.03378, 0.03402,\n",
       "       0.03426, 0.03426, 0.03338, 0.0347 , 0.0325 , 0.0339 , 0.03232,\n",
       "       0.03308, 0.0297 , 0.02876, 0.02604, 0.02386, 0.0215 , 0.01726,\n",
       "       0.01216, 0.00548])"
      ]
     },
     "execution_count": 138,
     "metadata": {},
     "output_type": "execute_result"
    }
   ],
   "source": [
    "ring_rates"
   ]
  },
  {
   "cell_type": "code",
   "execution_count": 139,
   "id": "0774cffd-ace3-41e0-a6f5-faa6ff7d27e2",
   "metadata": {},
   "outputs": [
    {
     "data": {
      "text/plain": [
       "array([2.95218947e-01, 1.82234737e-01, 1.20786316e-01, 8.49852632e-02,\n",
       "       6.14547368e-02, 4.67284211e-02, 3.62473684e-02, 2.88136842e-02,\n",
       "       2.33305263e-02, 1.91715789e-02, 1.59178947e-02, 1.33684211e-02,\n",
       "       1.14210526e-02, 9.55894737e-03, 8.31473684e-03, 7.15684211e-03,\n",
       "       6.08736842e-03, 5.24947368e-03, 4.47157895e-03, 3.88000000e-03,\n",
       "       3.23684211e-03, 2.79263158e-03, 2.35473684e-03, 1.99578947e-03,\n",
       "       1.63473684e-03, 1.27052632e-03, 9.84210526e-04, 7.27368421e-04,\n",
       "       4.52631579e-04, 1.52631579e-04])"
      ]
     },
     "execution_count": 139,
     "metadata": {},
     "output_type": "execute_result"
    }
   ],
   "source": [
    "not_ring_rates"
   ]
  },
  {
   "cell_type": "code",
   "execution_count": 140,
   "id": "d5ef06f8-4292-41b9-8b16-8174fa6a56aa",
   "metadata": {},
   "outputs": [
    {
     "data": {
      "text/plain": [
       "<matplotlib.legend.Legend at 0x7ffcc2da48e0>"
      ]
     },
     "execution_count": 140,
     "metadata": {},
     "output_type": "execute_result"
    },
    {
     "data": {
      "image/png": "[encoded data removed]",
      "text/plain": [
       "<Figure size 432x288 with 1 Axes>"
      ]
     },
     "metadata": {
      "needs_background": "light"
     },
     "output_type": "display_data"
    }
   ],
   "source": [
    "plt.scatter(bin_centers, ring_rates, label='Ring')\n",
    "plt.scatter(bin_centers, not_ring_rates, label='Not Ring')\n",
    "plt.legend()"
   ]
  },
  {
   "cell_type": "code",
   "execution_count": 141,
   "id": "9ea6e0f1-430b-477f-b1e2-48dd1a51966c",
   "metadata": {},
   "outputs": [],
   "source": [
    "def get_ring_rate_funcs(bin_centers, ring_rates, not_ring_rates):\n",
    "#     TODO could be smoothed\n",
    "    ring_rate_func = scipy.interpolate.interp1d(bin_centers, ring_rates, kind='linear', fill_value=(ring_rates[0], ring_rates[-1]), bounds_error=False)\n",
    "    not_ring_rate_func = scipy.interpolate.interp1d(bin_centers, not_ring_rates, kind='linear', fill_value=(not_ring_rates[0], not_ring_rates[-1]), bounds_error=False)\n",
    "    return ring_rate_func, not_ring_rate_func"
   ]
  },
  {
   "cell_type": "code",
   "execution_count": 142,
   "id": "e02774c0-07ab-4016-b7b3-ac21730a644c",
   "metadata": {},
   "outputs": [],
   "source": [
    "ring_rate_func, not_ring_rate_func = get_ring_rate_funcs(bin_centers, ring_rates, not_ring_rates)"
   ]
  },
  {
   "cell_type": "code",
   "execution_count": 165,
   "id": "057881ad-e4a7-46e8-bc9c-b930ae7df733",
   "metadata": {},
   "outputs": [
    {
     "data": {
      "text/plain": [
       "Text(0, 0.5, '$p_{\\\\sim random}$(class|score)')"
      ]
     },
     "execution_count": 165,
     "metadata": {},
     "output_type": "execute_result"
    },
    {
     "data": {
      "image/png": "[encoded data removed]",
      "text/plain": [
       "<Figure size 432x288 with 1 Axes>"
      ]
     },
     "metadata": {
      "needs_background": "light"
     },
     "output_type": "display_data"
    }
   ],
   "source": [
    "x = np.linspace(0, 1., num=100)\n",
    "plt.plot(x, ring_rate_func(x), label='Ring')\n",
    "plt.plot(x, not_ring_rate_func(x), label='Not Ring')\n",
    "plt.legend()\n",
    "plt.xlabel('Score')\n",
    "plt.ylabel(r'$p_{\\sim random}$(class|score)')"
   ]
  },
  {
   "cell_type": "code",
   "execution_count": null,
   "id": "61cfe551-8f7a-4952-8d5a-55911dbc4e69",
   "metadata": {},
   "outputs": [],
   "source": []
  },
  {
   "cell_type": "code",
   "execution_count": 144,
   "id": "6da21914-6e0a-484a-95f6-022460493f80",
   "metadata": {},
   "outputs": [],
   "source": [
    "p_ring = vote_df['is_ring'].mean()"
   ]
  },
  {
   "cell_type": "code",
   "execution_count": 145,
   "id": "78454374-f62e-46e6-adb5-d81f011cc8c3",
   "metadata": {},
   "outputs": [],
   "source": [
    "# warning, score func is always concentrations_to_mean_prob\n",
    "p_ring_given_output = bayesian_sim.scale_probabity_to_random_sample_via_hists(\n",
    "    pred_to_score_func(all_preds), ring_rates, not_ring_rates, p_ring, bin_edges\n",
    ")"
   ]
  },
  {
   "cell_type": "code",
   "execution_count": 146,
   "id": "9262460f-1857-4d3f-8827-88be09af84b1",
   "metadata": {},
   "outputs": [
    {
     "data": {
      "image/png": "[encoded data removed]",
      "text/plain": [
       "<Figure size 432x288 with 1 Axes>"
      ]
     },
     "metadata": {
      "needs_background": "light"
     },
     "output_type": "display_data"
    }
   ],
   "source": [
    "_ = plt.hist(p_ring_given_output, bins=30)"
   ]
  },
  {
   "cell_type": "code",
   "execution_count": 147,
   "id": "0ee8e2d1-ffca-40db-9d0c-d98b56d9c614",
   "metadata": {},
   "outputs": [
    {
     "data": {
      "image/png": "[encoded data removed]",
      "text/plain": [
       "<Figure size 432x288 with 1 Axes>"
      ]
     },
     "metadata": {
      "needs_background": "light"
     },
     "output_type": "display_data"
    }
   ],
   "source": [
    "_ = plt.hist(p_ring_given_output, bins=100)"
   ]
  },
  {
   "cell_type": "code",
   "execution_count": 148,
   "id": "0dec324a-edd7-4dfe-ab10-ed28e4734793",
   "metadata": {},
   "outputs": [
    {
     "data": {
      "text/plain": [
       "0.012297    73432\n",
       "0.016391    45068\n",
       "0.022140    29725\n",
       "0.028192    20893\n",
       "0.035066    15227\n",
       "0.043500    11592\n",
       "0.052990     8972\n",
       "0.063127     7157\n",
       "0.077029     5887\n",
       "0.093408     4966\n",
       "0.107188     4039\n",
       "0.132494     3446\n",
       "0.142835     3050\n",
       "0.167022     2721\n",
       "0.188406     2311\n",
       "0.212413     2023\n",
       "0.236022     1849\n",
       "0.271358     1608\n",
       "0.290521     1416\n",
       "0.329870     1346\n",
       "0.360023     1196\n",
       "0.400254     1033\n",
       "0.415412      933\n",
       "0.448086      829\n",
       "0.472976      753\n",
       "0.514101      585\n",
       "0.551718      531\n",
       "0.572084      388\n",
       "0.602161      210\n",
       "0.669180      100\n",
       "dtype: int64"
      ]
     },
     "execution_count": 148,
     "metadata": {},
     "output_type": "execute_result"
    }
   ],
   "source": [
    "pd.value_counts(p_ring_given_output)  # binned so very much not a nice smooth function, tho it kinda looks that way"
   ]
  },
  {
   "cell_type": "code",
   "execution_count": 149,
   "id": "5feb0886-d0ae-40c6-860a-842e67d4bada",
   "metadata": {},
   "outputs": [],
   "source": [
    "p_ring_given_output = bayesian_sim.scale_probabity_to_random_sample_via_func(\n",
    "    pred_to_score_func(all_preds), ring_rate_func, not_ring_rate_func, p_ring\n",
    ")"
   ]
  },
  {
   "cell_type": "code",
   "execution_count": 150,
   "id": "de7db019-d0bf-40e1-98cc-9bf7078d9ef9",
   "metadata": {},
   "outputs": [
    {
     "data": {
      "image/png": "[encoded data removed]",
      "text/plain": [
       "<Figure size 432x288 with 1 Axes>"
      ]
     },
     "metadata": {
      "needs_background": "light"
     },
     "output_type": "display_data"
    }
   ],
   "source": [
    "_ = plt.hist(p_ring_given_output, bins=100)"
   ]
  },
  {
   "cell_type": "code",
   "execution_count": null,
   "id": "6b243e5d-d6d6-48ca-89db-ee1b1380aefa",
   "metadata": {},
   "outputs": [],
   "source": []
  },
  {
   "cell_type": "code",
   "execution_count": 151,
   "id": "6a06e675-5077-4a92-a367-fb8592f1f866",
   "metadata": {},
   "outputs": [],
   "source": [
    "vote_df['p_ring_given_output'] = p_ring_given_output"
   ]
  },
  {
   "cell_type": "code",
   "execution_count": 152,
   "id": "0fd66142-fb7a-4c00-acca-d772c1e81a48",
   "metadata": {},
   "outputs": [
    {
     "data": {
      "text/plain": [
       "<matplotlib.legend.Legend at 0x7ffcc24868e0>"
      ]
     },
     "execution_count": 152,
     "metadata": {},
     "output_type": "execute_result"
    },
    {
     "data": {
      "image/png": "[encoded data removed]",
      "text/plain": [
       "<Figure size 432x288 with 1 Axes>"
      ]
     },
     "metadata": {
      "needs_background": "light"
     },
     "output_type": "display_data"
    }
   ],
   "source": [
    "_, viz_bins = np.histogram(np.linspace(0, 1), bins=30)\n",
    "# plt.hist(vote_df, density=True, alpha=.5, label='All', bins=viz_bins)\n",
    "plt.hist(vote_df.query('is_ring')['p_ring_given_output'], density=True, alpha=.5, label='Rings', bins=viz_bins)\n",
    "plt.hist(vote_df[~vote_df['is_ring']]['p_ring_given_output'], density=True, alpha=.5, label='Not Rings', bins=viz_bins)\n",
    "# should be same as they are all random\n",
    "plt.xlabel('p_ring_given_output')\n",
    "plt.legend()"
   ]
  },
  {
   "cell_type": "code",
   "execution_count": 153,
   "id": "05549fda-87d2-481f-bf9f-ccab617a1c61",
   "metadata": {},
   "outputs": [
    {
     "data": {
      "text/plain": [
       "<matplotlib.legend.Legend at 0x7ffcc2486400>"
      ]
     },
     "execution_count": 153,
     "metadata": {},
     "output_type": "execute_result"
    },
    {
     "data": {
      "image/png": "[encoded data removed]",
      "text/plain": [
       "<Figure size 432x288 with 1 Axes>"
      ]
     },
     "metadata": {
      "needs_background": "light"
     },
     "output_type": "display_data"
    }
   ],
   "source": [
    "_, viz_bins = np.histogram(np.linspace(0, 1), bins=30)\n",
    "# plt.hist(vote_df, density=True, alpha=.5, label='All', bins=viz_bins)\n",
    "plt.hist(vote_df.query('is_ring')['p_ring_given_output'], alpha=.5, label='Rings', bins=viz_bins)\n",
    "plt.hist(vote_df[~vote_df['is_ring']]['p_ring_given_output'], alpha=.5, label='Not Rings', bins=viz_bins)\n",
    "# should be same as they are all random\n",
    "plt.xlabel('p_ring_given_output')\n",
    "plt.legend()"
   ]
  },
  {
   "cell_type": "code",
   "execution_count": 154,
   "id": "3db40cac-3088-4979-bfc0-d7225270ca03",
   "metadata": {},
   "outputs": [
    {
     "data": {
      "text/plain": [
       "0.3504625565534472"
      ]
     },
     "execution_count": 154,
     "metadata": {},
     "output_type": "execute_result"
    }
   ],
   "source": [
    "likely_ring = vote_df['p_ring_given_output'] > 0.2\n",
    "\n",
    "vote_df[likely_ring]['is_ring'].mean()  # actual odds that predicted ring is ring"
   ]
  },
  {
   "cell_type": "code",
   "execution_count": 155,
   "id": "5723c671-0bd1-4292-99bf-13df23f3f0a4",
   "metadata": {},
   "outputs": [
    {
     "data": {
      "text/plain": [
       "0.3466413990740283"
      ]
     },
     "execution_count": 155,
     "metadata": {},
     "output_type": "execute_result"
    }
   ],
   "source": [
    "vote_df[likely_ring]['p_ring_given_output'].mean()  # expected odds that predicted ring is ring"
   ]
  },
  {
   "cell_type": "code",
   "execution_count": null,
   "id": "bb693585-b9d0-40fd-a354-240ba2d61f6a",
   "metadata": {},
   "outputs": [],
   "source": []
  },
  {
   "cell_type": "code",
   "execution_count": null,
   "id": "c5e4ead2-4d2d-4700-b5ff-c70145f6da4c",
   "metadata": {},
   "outputs": [],
   "source": []
  },
  {
   "cell_type": "code",
   "execution_count": null,
   "id": "b2056266-e119-462f-8c90-dd031babb355",
   "metadata": {},
   "outputs": [],
   "source": []
  },
  {
   "cell_type": "code",
   "execution_count": null,
   "id": "0283d1d2-0b68-4bad-8628-b85229c634db",
   "metadata": {},
   "outputs": [],
   "source": []
  },
  {
   "cell_type": "code",
   "execution_count": 156,
   "id": "5d1d3735-742a-4e25-9ed3-9129aa919f3d",
   "metadata": {},
   "outputs": [],
   "source": [
    "# can use the same scaling to adjust the whole curve?"
   ]
  },
  {
   "cell_type": "code",
   "execution_count": 157,
   "id": "82029d4c-691b-445f-bfd0-d8634b5607d8",
   "metadata": {},
   "outputs": [],
   "source": [
    "example_preds = all_preds[:10]"
   ]
  },
  {
   "cell_type": "code",
   "execution_count": 158,
   "id": "24a4ebd2-4f22-42d1-b4af-e1890e29bcd5",
   "metadata": {},
   "outputs": [],
   "source": [
    "def compare_samples_with_calibration(example_pred):\n",
    "    raw_samples = tfp.distributions.Beta(concentration1=example_pred[0], concentration0=example_pred[1]).sample(50000).numpy()\n",
    "    p_ring_given_output = bayesian_sim.scale_probabity_to_random_sample_via_func(\n",
    "        raw_samples,\n",
    "        ring_rate_func,\n",
    "        not_ring_rate_func,\n",
    "        p_ring,\n",
    "    )\n",
    "    \n",
    "    num_bins = 50\n",
    "    plt.hist(raw_samples, bins=num_bins, range=(0, 1), alpha=.5, label='Uncalibrated')\n",
    "    plt.hist(p_ring_given_output, bins=num_bins, range=(0, 1), alpha=.5, label='Calibrated')\n",
    "    plt.legend()"
   ]
  },
  {
   "cell_type": "code",
   "execution_count": 159,
   "id": "f632a25b-9eae-47ec-be92-597af7a985b5",
   "metadata": {},
   "outputs": [
    {
     "data": {
      "image/png": "[encoded data removed]",
      "text/plain": [
       "<Figure size 432x288 with 1 Axes>"
      ]
     },
     "metadata": {
      "needs_background": "light"
     },
     "output_type": "display_data"
    },
    {
     "data": {
      "image/png": "[encoded data removed]",
      "text/plain": [
       "<Figure size 432x288 with 1 Axes>"
      ]
     },
     "metadata": {
      "needs_background": "light"
     },
     "output_type": "display_data"
    },
    {
     "data": {
      "image/png": "[encoded data removed]",
      "text/plain": [
       "<Figure size 432x288 with 1 Axes>"
      ]
     },
     "metadata": {
      "needs_background": "light"
     },
     "output_type": "display_data"
    },
    {
     "data": {
      "image/png": "[encoded data removed]",
      "text/plain": [
       "<Figure size 432x288 with 1 Axes>"
      ]
     },
     "metadata": {
      "needs_background": "light"
     },
     "output_type": "display_data"
    },
    {
     "data": {
      "image/png": "[encoded data removed]",
      "text/plain": [
       "<Figure size 432x288 with 1 Axes>"
      ]
     },
     "metadata": {
      "needs_background": "light"
     },
     "output_type": "display_data"
    }
   ],
   "source": [
    "for n in range(5):\n",
    "    plt.figure()\n",
    "    compare_samples_with_calibration(example_preds[n])"
   ]
  },
  {
   "cell_type": "code",
   "execution_count": 160,
   "id": "bdfbf0db-0086-490d-af79-3169093a7c02",
   "metadata": {},
   "outputs": [
    {
     "ename": "AssertionError",
     "evalue": "",
     "output_type": "error",
     "traceback": [
      "\u001b[0;31m---------------------------------------------------------------------------\u001b[0m",
      "\u001b[0;31mAssertionError\u001b[0m                            Traceback (most recent call last)",
      "\u001b[0;32m/var/folders/2q/fk_d086d491d4s0_77hjfgzw0000gp/T/ipykernel_10578/2103537015.py\u001b[0m in \u001b[0;36m<module>\u001b[0;34m\u001b[0m\n\u001b[0;32m----> 1\u001b[0;31m \u001b[0;32massert\u001b[0m \u001b[0;32mFalse\u001b[0m\u001b[0;34m\u001b[0m\u001b[0;34m\u001b[0m\u001b[0m\n\u001b[0m",
      "\u001b[0;31mAssertionError\u001b[0m: "
     ]
    }
   ],
   "source": [
    "assert False"
   ]
  },
  {
   "cell_type": "code",
   "execution_count": null,
   "id": "9fb39ff8-426c-4c95-bbef-8dfbbe293bc6",
   "metadata": {},
   "outputs": [],
   "source": []
  },
  {
   "cell_type": "code",
   "execution_count": null,
   "id": "fb681112-27ae-419b-a0b7-976202748982",
   "metadata": {},
   "outputs": [],
   "source": []
  },
  {
   "cell_type": "code",
   "execution_count": null,
   "id": "72ebabe7-1253-4532-b21e-610149d8396b",
   "metadata": {},
   "outputs": [],
   "source": []
  },
  {
   "cell_type": "code",
   "execution_count": null,
   "id": "c51f0250-d4b2-4663-a6cb-9919c9de078e",
   "metadata": {},
   "outputs": [],
   "source": [
    "def estimate_ring_votes(galaxy):\n",
    "    if galaxy['is_ring']:\n",
    "        p = galaxy['rare-features_ring_fraction']\n",
    "    else:\n",
    "        p = 0.03\n",
    "    return 10 * p"
   ]
  },
  {
   "cell_type": "code",
   "execution_count": null,
   "id": "95de746c-cfc4-4a8a-a5b9-76925359b70f",
   "metadata": {},
   "outputs": [],
   "source": [
    "# vote_df['fake_ring_votes'] = vote_df.apply(estimate_ring_votes, axis=1)"
   ]
  },
  {
   "cell_type": "code",
   "execution_count": null,
   "id": "65f08cfc-74fa-49e1-a2a4-d44559eb65fd",
   "metadata": {},
   "outputs": [],
   "source": [
    "\n",
    "for n, concentration in enumerate(all_preds[:10]):\n",
    "    plt.plot(x_votes, tfp.distributions.DirichletMultinomial(total_count=10, concentration=concentration).prob(votes))\n",
    "    plt.axvline(estimate_ring_votes(vote_df.iloc[n]), alpha=.2) # probably badly calibrated"
   ]
  },
  {
   "cell_type": "code",
   "execution_count": null,
   "id": "e48c512e-ebf6-4a24-9d9d-560d1d02d016",
   "metadata": {},
   "outputs": [],
   "source": [
    "for n, concentration in enumerate(all_preds[:10]):\n",
    "    uncalibrated_probs = tfp.distributions.DirichletMultinomial(total_count=10, concentration=concentration).prob(votes)\n",
    "    calibrated_probs = scale_probabity_to_random_sample(uncalibrated_probs, ring_rates, not_ring_rates, p_ring)\n",
    "    plt.plot(x_votes, calibrated_probs)\n",
    "    plt.axvline(estimate_ring_votes(vote_df.iloc[n]), alpha=.2)"
   ]
  },
  {
   "cell_type": "code",
   "execution_count": null,
   "id": "87c0b96d-0172-471d-8a70-c0b35ecef3b4",
   "metadata": {},
   "outputs": [],
   "source": []
  },
  {
   "cell_type": "code",
   "execution_count": null,
   "id": "67981b3a-5900-482a-90cb-7275b61b326f",
   "metadata": {},
   "outputs": [],
   "source": []
  },
  {
   "cell_type": "code",
   "execution_count": null,
   "id": "83d72674-cc30-49a1-bf5c-b8d171475217",
   "metadata": {},
   "outputs": [],
   "source": []
  },
  {
   "cell_type": "code",
   "execution_count": null,
   "id": "c2ed5547-28df-45c7-8f43-5959a88b7e48",
   "metadata": {},
   "outputs": [],
   "source": [
    "tfp.distributions.Beta(concentration1=example_preds[:1, 0], concentration0=example_preds[:1, 1]).sample(10).numpy()"
   ]
  },
  {
   "cell_type": "code",
   "execution_count": null,
   "id": "8b8b9f05-85bf-4fb0-93f5-f982e703a09d",
   "metadata": {},
   "outputs": [],
   "source": [
    "uncalibrated_probs"
   ]
  },
  {
   "cell_type": "code",
   "execution_count": null,
   "id": "16e64b08-56cf-4159-aade-a3b1a2d04791",
   "metadata": {},
   "outputs": [],
   "source": [
    "calibrated_probs"
   ]
  },
  {
   "cell_type": "code",
   "execution_count": null,
   "id": "2ce4324b-1c7f-4b2c-a8d3-67645e67a4f5",
   "metadata": {},
   "outputs": [],
   "source": [
    "# another method:\n",
    "# simply adjust p_ring_given_output until empirically calibrated i.e. it actually is a ring as much as it says should be a ring"
   ]
  },
  {
   "cell_type": "code",
   "execution_count": null,
   "id": "6959888e-f663-4cce-a1a7-c990e1ff27e4",
   "metadata": {},
   "outputs": [],
   "source": [
    "# with platt scaling - fit logistic regression to output score to predict is_ring"
   ]
  },
  {
   "cell_type": "code",
   "execution_count": null,
   "id": "41571370-f923-44ab-85b6-e4e4b20f7252",
   "metadata": {},
   "outputs": [],
   "source": []
  },
  {
   "cell_type": "code",
   "execution_count": null,
   "id": "7eac28a3-f3fb-4bda-99ac-0855bb521c2a",
   "metadata": {},
   "outputs": [],
   "source": []
  },
  {
   "cell_type": "code",
   "execution_count": null,
   "id": "930a5aef-cabc-4a6e-be30-c3dc1577968b",
   "metadata": {},
   "outputs": [],
   "source": [
    "# Test twice? i.e. then have volunteers verify"
   ]
  },
  {
   "cell_type": "code",
   "execution_count": null,
   "id": "cce8950e-29f4-44eb-9e32-7039cceff85b",
   "metadata": {},
   "outputs": [],
   "source": []
  }
 ],
 "metadata": {
  "kernelspec": {
   "display_name": "Python 3 (ipykernel)",
   "language": "python",
   "name": "python3"
  },
  "language_info": {
   "codemirror_mode": {
    "name": "ipython",
    "version": 3
   },
   "file_extension": ".py",
   "mimetype": "text/x-python",
   "name": "python",
   "nbconvert_exporter": "python",
   "pygments_lexer": "ipython3",
   "version": "3.8.10"
  }
 },
 "nbformat": 4,
 "nbformat_minor": 5
}
