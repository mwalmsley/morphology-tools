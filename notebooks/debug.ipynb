{
 "cells": [
  {
   "cell_type": "code",
   "execution_count": 20,
   "metadata": {},
   "outputs": [],
   "source": [
    "import pandas as pd\n",
    "import numpy as np\n",
    "import matplotlib.pyplot as plt\n",
    "import seaborn as sns\n",
    "sns.set_context('notebook')"
   ]
  },
  {
   "cell_type": "code",
   "execution_count": 21,
   "metadata": {},
   "outputs": [],
   "source": [
    "df_loch = pd.read_csv('/home/walml/repos/morphology-tools/temp_replication_updated_b03996c_old_distances_repeat5_gp9.csv')"
   ]
  },
  {
   "cell_type": "code",
   "execution_count": 28,
   "metadata": {},
   "outputs": [],
   "source": [
    "# df_scratch = pd.read_csv('/home/walml/repos/morphology-tools/temp_score_df.csv')\n",
    "df_scratch = pd.read_csv('/home/walml/repos/morphology-tools/temp_active_df.csv')\n",
    "del df_scratch['all_scores']  # before rescaling from 0 to 5"
   ]
  },
  {
   "cell_type": "code",
   "execution_count": 29,
   "metadata": {},
   "outputs": [
    {
     "data": {
      "text/plain": [
       "(60715, 60715)"
      ]
     },
     "execution_count": 29,
     "metadata": {},
     "output_type": "execute_result"
    }
   ],
   "source": [
    "len(df_loch), len(df_scratch)"
   ]
  },
  {
   "cell_type": "code",
   "execution_count": 30,
   "metadata": {},
   "outputs": [
    {
     "data": {
      "text/html": [
       "<div>\n",
       "<style scoped>\n",
       "    .dataframe tbody tr th:only-of-type {\n",
       "        vertical-align: middle;\n",
       "    }\n",
       "\n",
       "    .dataframe tbody tr th {\n",
       "        vertical-align: top;\n",
       "    }\n",
       "\n",
       "    .dataframe thead th {\n",
       "        text-align: right;\n",
       "    }\n",
       "</style>\n",
       "<table border=\"1\" class=\"dataframe\">\n",
       "  <thead>\n",
       "    <tr style=\"text-align: right;\">\n",
       "      <th></th>\n",
       "      <th>objid</th>\n",
       "      <th>active_score_loch</th>\n",
       "      <th>score_loch</th>\n",
       "      <th>human_label</th>\n",
       "      <th>is_anomaly</th>\n",
       "    </tr>\n",
       "  </thead>\n",
       "  <tbody>\n",
       "    <tr>\n",
       "      <th>0</th>\n",
       "      <td>991603</td>\n",
       "      <td>0.273164</td>\n",
       "      <td>0.277290</td>\n",
       "      <td>NaN</td>\n",
       "      <td>False</td>\n",
       "    </tr>\n",
       "    <tr>\n",
       "      <th>1</th>\n",
       "      <td>246741</td>\n",
       "      <td>0.217615</td>\n",
       "      <td>0.220367</td>\n",
       "      <td>NaN</td>\n",
       "      <td>False</td>\n",
       "    </tr>\n",
       "    <tr>\n",
       "      <th>2</th>\n",
       "      <td>749571</td>\n",
       "      <td>0.606745</td>\n",
       "      <td>0.612946</td>\n",
       "      <td>NaN</td>\n",
       "      <td>False</td>\n",
       "    </tr>\n",
       "    <tr>\n",
       "      <th>3</th>\n",
       "      <td>114682</td>\n",
       "      <td>0.901409</td>\n",
       "      <td>0.938501</td>\n",
       "      <td>NaN</td>\n",
       "      <td>False</td>\n",
       "    </tr>\n",
       "    <tr>\n",
       "      <th>4</th>\n",
       "      <td>498756</td>\n",
       "      <td>0.628456</td>\n",
       "      <td>0.640274</td>\n",
       "      <td>NaN</td>\n",
       "      <td>False</td>\n",
       "    </tr>\n",
       "    <tr>\n",
       "      <th>...</th>\n",
       "      <td>...</td>\n",
       "      <td>...</td>\n",
       "      <td>...</td>\n",
       "      <td>...</td>\n",
       "      <td>...</td>\n",
       "    </tr>\n",
       "    <tr>\n",
       "      <th>60710</th>\n",
       "      <td>332331</td>\n",
       "      <td>2.458123</td>\n",
       "      <td>2.531313</td>\n",
       "      <td>NaN</td>\n",
       "      <td>False</td>\n",
       "    </tr>\n",
       "    <tr>\n",
       "      <th>60711</th>\n",
       "      <td>288481</td>\n",
       "      <td>0.177591</td>\n",
       "      <td>0.179946</td>\n",
       "      <td>NaN</td>\n",
       "      <td>False</td>\n",
       "    </tr>\n",
       "    <tr>\n",
       "      <th>60712</th>\n",
       "      <td>579346</td>\n",
       "      <td>0.225535</td>\n",
       "      <td>0.227766</td>\n",
       "      <td>NaN</td>\n",
       "      <td>False</td>\n",
       "    </tr>\n",
       "    <tr>\n",
       "      <th>60713</th>\n",
       "      <td>123382</td>\n",
       "      <td>0.223022</td>\n",
       "      <td>0.227297</td>\n",
       "      <td>NaN</td>\n",
       "      <td>False</td>\n",
       "    </tr>\n",
       "    <tr>\n",
       "      <th>60714</th>\n",
       "      <td>966171</td>\n",
       "      <td>0.210596</td>\n",
       "      <td>0.213645</td>\n",
       "      <td>NaN</td>\n",
       "      <td>False</td>\n",
       "    </tr>\n",
       "  </tbody>\n",
       "</table>\n",
       "<p>60715 rows × 5 columns</p>\n",
       "</div>"
      ],
      "text/plain": [
       "        objid  active_score_loch  score_loch  human_label  is_anomaly\n",
       "0      991603           0.273164    0.277290          NaN       False\n",
       "1      246741           0.217615    0.220367          NaN       False\n",
       "2      749571           0.606745    0.612946          NaN       False\n",
       "3      114682           0.901409    0.938501          NaN       False\n",
       "4      498756           0.628456    0.640274          NaN       False\n",
       "...       ...                ...         ...          ...         ...\n",
       "60710  332331           2.458123    2.531313          NaN       False\n",
       "60711  288481           0.177591    0.179946          NaN       False\n",
       "60712  579346           0.225535    0.227766          NaN       False\n",
       "60713  123382           0.223022    0.227297          NaN       False\n",
       "60714  966171           0.210596    0.213645          NaN       False\n",
       "\n",
       "[60715 rows x 5 columns]"
      ]
     },
     "execution_count": 30,
     "metadata": {},
     "output_type": "execute_result"
    }
   ],
   "source": [
    "df_loch"
   ]
  },
  {
   "cell_type": "code",
   "execution_count": 31,
   "metadata": {},
   "outputs": [],
   "source": [
    "df_loch = df_loch.rename(columns={'Unnamed: 0': 'objid'})\n",
    "df_loch = df_loch.rename(columns={\n",
    "    'score': 'score_loch',\n",
    "    'trained_score': 'active_score_loch'})"
   ]
  },
  {
   "cell_type": "code",
   "execution_count": 32,
   "metadata": {},
   "outputs": [],
   "source": [
    "\n",
    "df_scratch\n",
    "df_scratch = df_scratch.rename(columns={\n",
    "    'rescaled_scores': 'score_scratch',\n",
    "    'joint_preds': 'active_score_scratch',\n",
    "    \n",
    "})"
   ]
  },
  {
   "cell_type": "code",
   "execution_count": 33,
   "metadata": {},
   "outputs": [
    {
     "data": {
      "text/html": [
       "<div>\n",
       "<style scoped>\n",
       "    .dataframe tbody tr th:only-of-type {\n",
       "        vertical-align: middle;\n",
       "    }\n",
       "\n",
       "    .dataframe tbody tr th {\n",
       "        vertical-align: top;\n",
       "    }\n",
       "\n",
       "    .dataframe thead th {\n",
       "        text-align: right;\n",
       "    }\n",
       "</style>\n",
       "<table border=\"1\" class=\"dataframe\">\n",
       "  <thead>\n",
       "    <tr style=\"text-align: right;\">\n",
       "      <th></th>\n",
       "      <th>objid</th>\n",
       "      <th>active_score_loch</th>\n",
       "      <th>score_loch</th>\n",
       "      <th>human_label</th>\n",
       "      <th>is_anomaly</th>\n",
       "      <th>score_scratch</th>\n",
       "      <th>active_score_scratch</th>\n",
       "      <th>labels</th>\n",
       "      <th>active_weighted_sorted_labels</th>\n",
       "    </tr>\n",
       "  </thead>\n",
       "  <tbody>\n",
       "    <tr>\n",
       "      <th>0</th>\n",
       "      <td>991603</td>\n",
       "      <td>0.273164</td>\n",
       "      <td>0.277290</td>\n",
       "      <td>NaN</td>\n",
       "      <td>False</td>\n",
       "      <td>0.220710</td>\n",
       "      <td>0.217656</td>\n",
       "      <td>False</td>\n",
       "      <td>False</td>\n",
       "    </tr>\n",
       "    <tr>\n",
       "      <th>1</th>\n",
       "      <td>246741</td>\n",
       "      <td>0.217615</td>\n",
       "      <td>0.220367</td>\n",
       "      <td>NaN</td>\n",
       "      <td>False</td>\n",
       "      <td>0.113645</td>\n",
       "      <td>0.112405</td>\n",
       "      <td>False</td>\n",
       "      <td>False</td>\n",
       "    </tr>\n",
       "    <tr>\n",
       "      <th>2</th>\n",
       "      <td>749571</td>\n",
       "      <td>0.606745</td>\n",
       "      <td>0.612946</td>\n",
       "      <td>NaN</td>\n",
       "      <td>False</td>\n",
       "      <td>0.677337</td>\n",
       "      <td>0.671073</td>\n",
       "      <td>False</td>\n",
       "      <td>False</td>\n",
       "    </tr>\n",
       "    <tr>\n",
       "      <th>3</th>\n",
       "      <td>114682</td>\n",
       "      <td>0.901409</td>\n",
       "      <td>0.938501</td>\n",
       "      <td>NaN</td>\n",
       "      <td>False</td>\n",
       "      <td>1.032201</td>\n",
       "      <td>0.993064</td>\n",
       "      <td>False</td>\n",
       "      <td>False</td>\n",
       "    </tr>\n",
       "    <tr>\n",
       "      <th>4</th>\n",
       "      <td>498756</td>\n",
       "      <td>0.628456</td>\n",
       "      <td>0.640274</td>\n",
       "      <td>NaN</td>\n",
       "      <td>False</td>\n",
       "      <td>0.613352</td>\n",
       "      <td>0.608307</td>\n",
       "      <td>False</td>\n",
       "      <td>False</td>\n",
       "    </tr>\n",
       "    <tr>\n",
       "      <th>...</th>\n",
       "      <td>...</td>\n",
       "      <td>...</td>\n",
       "      <td>...</td>\n",
       "      <td>...</td>\n",
       "      <td>...</td>\n",
       "      <td>...</td>\n",
       "      <td>...</td>\n",
       "      <td>...</td>\n",
       "      <td>...</td>\n",
       "    </tr>\n",
       "    <tr>\n",
       "      <th>60710</th>\n",
       "      <td>332331</td>\n",
       "      <td>2.458123</td>\n",
       "      <td>2.531313</td>\n",
       "      <td>NaN</td>\n",
       "      <td>False</td>\n",
       "      <td>2.528379</td>\n",
       "      <td>2.452351</td>\n",
       "      <td>False</td>\n",
       "      <td>False</td>\n",
       "    </tr>\n",
       "    <tr>\n",
       "      <th>60711</th>\n",
       "      <td>288481</td>\n",
       "      <td>0.177591</td>\n",
       "      <td>0.179946</td>\n",
       "      <td>NaN</td>\n",
       "      <td>False</td>\n",
       "      <td>0.263746</td>\n",
       "      <td>0.259953</td>\n",
       "      <td>False</td>\n",
       "      <td>False</td>\n",
       "    </tr>\n",
       "    <tr>\n",
       "      <th>60712</th>\n",
       "      <td>579346</td>\n",
       "      <td>0.225535</td>\n",
       "      <td>0.227766</td>\n",
       "      <td>NaN</td>\n",
       "      <td>False</td>\n",
       "      <td>0.149699</td>\n",
       "      <td>0.148349</td>\n",
       "      <td>False</td>\n",
       "      <td>False</td>\n",
       "    </tr>\n",
       "    <tr>\n",
       "      <th>60713</th>\n",
       "      <td>123382</td>\n",
       "      <td>0.223022</td>\n",
       "      <td>0.227297</td>\n",
       "      <td>NaN</td>\n",
       "      <td>False</td>\n",
       "      <td>0.289678</td>\n",
       "      <td>0.282895</td>\n",
       "      <td>False</td>\n",
       "      <td>False</td>\n",
       "    </tr>\n",
       "    <tr>\n",
       "      <th>60714</th>\n",
       "      <td>966171</td>\n",
       "      <td>0.210596</td>\n",
       "      <td>0.213645</td>\n",
       "      <td>NaN</td>\n",
       "      <td>False</td>\n",
       "      <td>0.175259</td>\n",
       "      <td>0.173163</td>\n",
       "      <td>False</td>\n",
       "      <td>False</td>\n",
       "    </tr>\n",
       "  </tbody>\n",
       "</table>\n",
       "<p>60715 rows × 9 columns</p>\n",
       "</div>"
      ],
      "text/plain": [
       "        objid  active_score_loch  score_loch  human_label  is_anomaly  \\\n",
       "0      991603           0.273164    0.277290          NaN       False   \n",
       "1      246741           0.217615    0.220367          NaN       False   \n",
       "2      749571           0.606745    0.612946          NaN       False   \n",
       "3      114682           0.901409    0.938501          NaN       False   \n",
       "4      498756           0.628456    0.640274          NaN       False   \n",
       "...       ...                ...         ...          ...         ...   \n",
       "60710  332331           2.458123    2.531313          NaN       False   \n",
       "60711  288481           0.177591    0.179946          NaN       False   \n",
       "60712  579346           0.225535    0.227766          NaN       False   \n",
       "60713  123382           0.223022    0.227297          NaN       False   \n",
       "60714  966171           0.210596    0.213645          NaN       False   \n",
       "\n",
       "       score_scratch  active_score_scratch  labels  \\\n",
       "0           0.220710              0.217656   False   \n",
       "1           0.113645              0.112405   False   \n",
       "2           0.677337              0.671073   False   \n",
       "3           1.032201              0.993064   False   \n",
       "4           0.613352              0.608307   False   \n",
       "...              ...                   ...     ...   \n",
       "60710       2.528379              2.452351   False   \n",
       "60711       0.263746              0.259953   False   \n",
       "60712       0.149699              0.148349   False   \n",
       "60713       0.289678              0.282895   False   \n",
       "60714       0.175259              0.173163   False   \n",
       "\n",
       "       active_weighted_sorted_labels  \n",
       "0                              False  \n",
       "1                              False  \n",
       "2                              False  \n",
       "3                              False  \n",
       "4                              False  \n",
       "...                              ...  \n",
       "60710                          False  \n",
       "60711                          False  \n",
       "60712                          False  \n",
       "60713                          False  \n",
       "60714                          False  \n",
       "\n",
       "[60715 rows x 9 columns]"
      ]
     },
     "execution_count": 33,
     "metadata": {},
     "output_type": "execute_result"
    }
   ],
   "source": [
    "df = pd.merge(df_loch, df_scratch, on='objid', how='inner')\n",
    "df"
   ]
  },
  {
   "cell_type": "code",
   "execution_count": 10,
   "metadata": {},
   "outputs": [],
   "source": [
    "assert all(df['is_anomaly'] == df['labels'])"
   ]
  },
  {
   "cell_type": "code",
   "execution_count": null,
   "metadata": {},
   "outputs": [],
   "source": []
  },
  {
   "cell_type": "code",
   "execution_count": 35,
   "metadata": {},
   "outputs": [
    {
     "data": {
      "text/plain": [
       "(50, 20)"
      ]
     },
     "execution_count": 35,
     "metadata": {},
     "output_type": "execute_result"
    }
   ],
   "source": [
    "df.sort_values('score_loch', ascending=False)[:200]['is_anomaly'].sum(), df.sort_values('score_loch', ascending=False)[:50]['is_anomaly'].sum() # lochner without active"
   ]
  },
  {
   "cell_type": "code",
   "execution_count": 37,
   "metadata": {},
   "outputs": [
    {
     "data": {
      "text/plain": [
       "(53, 21)"
      ]
     },
     "execution_count": 37,
     "metadata": {},
     "output_type": "execute_result"
    }
   ],
   "source": [
    "df.sort_values('score_scratch', ascending=False)[:200]['is_anomaly'].sum(), df.sort_values('score_scratch', ascending=False)[:50]['is_anomaly'].sum()  # me without active"
   ]
  },
  {
   "cell_type": "code",
   "execution_count": null,
   "metadata": {},
   "outputs": [],
   "source": []
  },
  {
   "cell_type": "code",
   "execution_count": 34,
   "metadata": {},
   "outputs": [
    {
     "data": {
      "text/plain": [
       "(78, 34)"
      ]
     },
     "execution_count": 34,
     "metadata": {},
     "output_type": "execute_result"
    }
   ],
   "source": [
    "df.sort_values('active_score_loch', ascending=False)[:200]['is_anomaly'].sum(), df.sort_values('active_score_loch', ascending=False)[:50]['is_anomaly'].sum()  # lochner with active"
   ]
  },
  {
   "cell_type": "code",
   "execution_count": 36,
   "metadata": {},
   "outputs": [
    {
     "data": {
      "text/plain": [
       "(76, 35)"
      ]
     },
     "execution_count": 36,
     "metadata": {},
     "output_type": "execute_result"
    }
   ],
   "source": [
    "df.sort_values('active_score_scratch', ascending=False)[:200]['is_anomaly'].sum(), df.sort_values('active_score_scratch', ascending=False)[:50]['is_anomaly'].sum()  # me with active"
   ]
  },
  {
   "cell_type": "code",
   "execution_count": null,
   "metadata": {},
   "outputs": [],
   "source": [
    "# without active is similar but with active, mine is a bit worse - most likely an active learning problem"
   ]
  },
  {
   "cell_type": "code",
   "execution_count": null,
   "metadata": {},
   "outputs": [],
   "source": []
  },
  {
   "cell_type": "code",
   "execution_count": null,
   "metadata": {},
   "outputs": [],
   "source": []
  },
  {
   "cell_type": "code",
   "execution_count": 38,
   "metadata": {},
   "outputs": [
    {
     "data": {
      "text/plain": [
       "Text(0, 0.5, 'user-weighted loch')"
      ]
     },
     "execution_count": 38,
     "metadata": {},
     "output_type": "execute_result"
    },
    {
     "data": {
      "image/png": "[encoded data removed]",
      "text/plain": [
       "<Figure size 432x288 with 1 Axes>"
      ]
     },
     "metadata": {
      "needs_background": "light"
     },
     "output_type": "display_data"
    }
   ],
   "source": [
    "plt.scatter(df['score_scratch'], df['score_loch'], alpha=.01, s=1.)  # score and trained_score are from loch (trained score is user-weighted), score is in fact rescaled\n",
    "plt.xlabel('Rescaled loch')\n",
    "plt.ylabel('user-weighted loch')"
   ]
  },
  {
   "cell_type": "code",
   "execution_count": 39,
   "metadata": {},
   "outputs": [],
   "source": [
    "# plt.scatter(df['score_scratch'], df['all_scores'], alpha=.01, s=1.)  # rescaled and all are from scratch\n",
    "# plt.xlabel('Rescaled mine')\n",
    "# plt.ylabel('raw scores mine')"
   ]
  },
  {
   "cell_type": "code",
   "execution_count": 41,
   "metadata": {},
   "outputs": [],
   "source": [
    "# plt.scatter(df['score_scratch'], df['score_loch'], alpha=.01, s=1.)\n",
    "# # both our reweighted scores agree pretty well (though not exactly)"
   ]
  },
  {
   "cell_type": "code",
   "execution_count": null,
   "metadata": {},
   "outputs": [],
   "source": []
  },
  {
   "cell_type": "code",
   "execution_count": null,
   "metadata": {},
   "outputs": [],
   "source": []
  },
  {
   "cell_type": "code",
   "execution_count": 42,
   "metadata": {},
   "outputs": [
    {
     "data": {
      "text/plain": [
       "Text(0, 0.5, 'scratch trained score')"
      ]
     },
     "execution_count": 42,
     "metadata": {},
     "output_type": "execute_result"
    },
    {
     "data": {
      "image/png": "[encoded data removed]",
      "text/plain": [
       "<Figure size 432x288 with 1 Axes>"
      ]
     },
     "metadata": {
      "needs_background": "light"
     },
     "output_type": "display_data"
    }
   ],
   "source": [
    "plt.scatter(df['active_score_loch'], df['active_score_scratch'], alpha=.01, s=1.)\n",
    "plt.xlabel('Loch trained score')\n",
    "plt.ylabel('scratch trained score')\n",
    "# both our reweighted scores agree pretty well (though not exactly)"
   ]
  },
  {
   "cell_type": "code",
   "execution_count": 43,
   "metadata": {},
   "outputs": [
    {
     "data": {
      "text/plain": [
       "Text(0, 0.5, 'scratch trained score')"
      ]
     },
     "execution_count": 43,
     "metadata": {},
     "output_type": "execute_result"
    },
    {
     "data": {
      "image/png": "[encoded data removed]",
      "text/plain": [
       "<Figure size 432x288 with 1 Axes>"
      ]
     },
     "metadata": {
      "needs_background": "light"
     },
     "output_type": "display_data"
    }
   ],
   "source": [
    "plt.scatter(df.query('is_anomaly')['active_score_loch'], df.query('is_anomaly')['active_score_scratch'], alpha=.3, s=1.)\n",
    "plt.xlabel('Loch trained score')\n",
    "plt.ylabel('scratch trained score')\n",
    "# those with low trained scores will be impossible to find without labelling many galaxies such that the vast bulk are significantly downweighted"
   ]
  },
  {
   "cell_type": "code",
   "execution_count": 44,
   "metadata": {},
   "outputs": [],
   "source": [
    "df['lochner_shift'] = df['active_score_loch'] - df['score_loch']\n",
    "df['scratch_shift'] = df['active_score_scratch'] - df['score_scratch']"
   ]
  },
  {
   "cell_type": "code",
   "execution_count": 45,
   "metadata": {},
   "outputs": [
    {
     "data": {
      "text/plain": [
       "<matplotlib.legend.Legend at 0x7f96e88e5290>"
      ]
     },
     "execution_count": 45,
     "metadata": {},
     "output_type": "execute_result"
    },
    {
     "data": {
      "image/png": "[encoded data removed]",
      "text/plain": [
       "<Figure size 432x288 with 1 Axes>"
      ]
     },
     "metadata": {
      "needs_background": "light"
     },
     "output_type": "display_data"
    }
   ],
   "source": [
    "bins = 40\n",
    "_, bins = np.histogram(np.linspace(-1., 0.), bins=bins)\n",
    "plt.hist(df['lochner_shift'], alpha=.5, bins=bins, label='lochner')\n",
    "plt.hist(df['scratch_shift'], alpha=.5, bins=bins, label='scratch')\n",
    "plt.legend()\n",
    "# mine may be shifting with active learning a little more"
   ]
  },
  {
   "cell_type": "code",
   "execution_count": 46,
   "metadata": {},
   "outputs": [
    {
     "data": {
      "text/plain": [
       "(24, 25)"
      ]
     },
     "execution_count": 46,
     "metadata": {},
     "output_type": "execute_result"
    }
   ],
   "source": [
    "(df['lochner_shift'] < -2).sum(), (df['scratch_shift'] < -2).sum()"
   ]
  },
  {
   "cell_type": "code",
   "execution_count": null,
   "metadata": {},
   "outputs": [],
   "source": []
  }
 ],
 "metadata": {
  "kernelspec": {
   "display_name": "Python 3",
   "language": "python",
   "name": "python3"
  },
  "language_info": {
   "codemirror_mode": {
    "name": "ipython",
    "version": 3
   },
   "file_extension": ".py",
   "mimetype": "text/x-python",
   "name": "python",
   "nbconvert_exporter": "python",
   "pygments_lexer": "ipython3",
   "version": "3.7.6"
  }
 },
 "nbformat": 4,
 "nbformat_minor": 4
}
