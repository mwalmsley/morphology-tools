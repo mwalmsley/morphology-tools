{
 "cells": [
  {
   "cell_type": "code",
   "execution_count": 1,
   "metadata": {},
   "outputs": [],
   "source": [
    "import pandas as pd\n",
    "import numpy as np"
   ]
  },
  {
   "cell_type": "code",
   "execution_count": 2,
   "metadata": {},
   "outputs": [],
   "source": [
    "df = pd.read_parquet('/media/walml/beta1/galaxy_zoo/gz2/subjects/image_master_catalog.parquet')"
   ]
  },
  {
   "cell_type": "code",
   "execution_count": 3,
   "metadata": {},
   "outputs": [
    {
     "data": {
      "text/plain": [
       "dr7objid                                         587732591714893851\n",
       "ra_subject                                               179.042984\n",
       "dec_subject                                               60.522518\n",
       "rastring                                                11:56:10.32\n",
       "decstring                                               +60:31:21.1\n",
       "                                        ...                        \n",
       "stripe82                                                          0\n",
       "stripe82_coadd                                                    0\n",
       "extra_original                                                    0\n",
       "png_loc           /raid/scratch/walml/galaxy_zoo/gz2/png/587732/...\n",
       "png_ready                                                      True\n",
       "Name: 0, Length: 252, dtype: object"
      ]
     },
     "execution_count": 3,
     "metadata": {},
     "output_type": "execute_result"
    }
   ],
   "source": [
    "df.iloc[0]"
   ]
  },
  {
   "cell_type": "code",
   "execution_count": 4,
   "metadata": {},
   "outputs": [],
   "source": [
    "# df.columns.values"
   ]
  },
  {
   "cell_type": "code",
   "execution_count": 10,
   "metadata": {},
   "outputs": [
    {
     "data": {
      "text/plain": [
       "'http://cas.sdss.org/dr7/en/tools/quicklook/quickobj.asp?id=587732591714893851'"
      ]
     },
     "execution_count": 10,
     "metadata": {},
     "output_type": "execute_result"
    }
   ],
   "source": [
    "df['external_ref'][0]"
   ]
  },
  {
   "cell_type": "code",
   "execution_count": 12,
   "metadata": {},
   "outputs": [
    {
     "data": {
      "text/plain": [
       "98671           http://s3.amazonaws.com/zoo2/150254.jpg\n",
       "207395          http://s3.amazonaws.com/zoo2/209462.jpg\n",
       "208045          http://s3.amazonaws.com/zoo2/178512.jpg\n",
       "103615    http://s3.amazonaws.com/zoo2_extra/259825.jpg\n",
       "169674           http://s3.amazonaws.com/zoo2/80792.jpg\n",
       "Name: location, dtype: object"
      ]
     },
     "execution_count": 12,
     "metadata": {},
     "output_type": "execute_result"
    }
   ],
   "source": [
    "df['location'].sample(5)"
   ]
  },
  {
   "cell_type": "code",
   "execution_count": 13,
   "metadata": {},
   "outputs": [
    {
     "data": {
      "text/plain": [
       "0            http://s3.amazonaws.com/zoo2/58957.jpg\n",
       "1           http://s3.amazonaws.com/zoo2/193641.jpg\n",
       "2            http://s3.amazonaws.com/zoo2/55934.jpg\n",
       "3           http://s3.amazonaws.com/zoo2/158501.jpg\n",
       "4           http://s3.amazonaws.com/zoo2/110939.jpg\n",
       "5     http://s3.amazonaws.com/zoo2_extra/249897.jpg\n",
       "6            http://s3.amazonaws.com/zoo2/71801.jpg\n",
       "7            http://s3.amazonaws.com/zoo2/87614.jpg\n",
       "8           http://s3.amazonaws.com/zoo2/113304.jpg\n",
       "9            http://s3.amazonaws.com/zoo2/47197.jpg\n",
       "10          http://s3.amazonaws.com/zoo2/187749.jpg\n",
       "11           http://s3.amazonaws.com/zoo2/24186.jpg\n",
       "12          http://s3.amazonaws.com/zoo2/162781.jpg\n",
       "13          http://s3.amazonaws.com/zoo2/154143.jpg\n",
       "14          http://s3.amazonaws.com/zoo2/185686.jpg\n",
       "15           http://s3.amazonaws.com/zoo2/92842.jpg\n",
       "16          http://s3.amazonaws.com/zoo2/140163.jpg\n",
       "17          http://s3.amazonaws.com/zoo2/170372.jpg\n",
       "18           http://s3.amazonaws.com/zoo2/12450.jpg\n",
       "19          http://s3.amazonaws.com/zoo2/103322.jpg\n",
       "Name: location, dtype: object"
      ]
     },
     "execution_count": 13,
     "metadata": {},
     "output_type": "execute_result"
    }
   ],
   "source": [
    "df['location'][:20]"
   ]
  },
  {
   "cell_type": "code",
   "execution_count": 21,
   "metadata": {},
   "outputs": [
    {
     "data": {
      "text/plain": [
       "97695"
      ]
     },
     "execution_count": 21,
     "metadata": {},
     "output_type": "execute_result"
    }
   ],
   "source": [
    "np.argmax(df['location'] == 'http://s3.amazonaws.com/zoo2/100008.jpg')"
   ]
  },
  {
   "cell_type": "code",
   "execution_count": 22,
   "metadata": {},
   "outputs": [
    {
     "data": {
      "text/plain": [
       "'http://s3.amazonaws.com/zoo2/100008.jpg'"
      ]
     },
     "execution_count": 22,
     "metadata": {},
     "output_type": "execute_result"
    }
   ],
   "source": [
    "df['location'][97695]"
   ]
  },
  {
   "cell_type": "code",
   "execution_count": 23,
   "metadata": {},
   "outputs": [
    {
     "data": {
      "text/plain": [
       "0"
      ]
     },
     "execution_count": 23,
     "metadata": {},
     "output_type": "execute_result"
    }
   ],
   "source": [
    "np.argmax(df['location'] == 'http://s3.amazonaws.com/zoo2/100053.jpg')"
   ]
  },
  {
   "cell_type": "code",
   "execution_count": 28,
   "metadata": {},
   "outputs": [
    {
     "data": {
      "text/plain": [
       "186453    http://s3.amazonaws.com/zoo2/100026.jpg\n",
       "229582    http://s3.amazonaws.com/zoo2/100027.jpg\n",
       "115264    http://s3.amazonaws.com/zoo2/100028.jpg\n",
       "96443     http://s3.amazonaws.com/zoo2/100029.jpg\n",
       "95445      http://s3.amazonaws.com/zoo2/10003.jpg\n",
       "127334    http://s3.amazonaws.com/zoo2/100030.jpg\n",
       "104356    http://s3.amazonaws.com/zoo2/100031.jpg\n",
       "217650    http://s3.amazonaws.com/zoo2/100032.jpg\n",
       "200636    http://s3.amazonaws.com/zoo2/100033.jpg\n",
       "235170    http://s3.amazonaws.com/zoo2/100034.jpg\n",
       "127538    http://s3.amazonaws.com/zoo2/100035.jpg\n",
       "83713     http://s3.amazonaws.com/zoo2/100036.jpg\n",
       "70624     http://s3.amazonaws.com/zoo2/100038.jpg\n",
       "224262    http://s3.amazonaws.com/zoo2/100039.jpg\n",
       "83393      http://s3.amazonaws.com/zoo2/10004.jpg\n",
       "185112    http://s3.amazonaws.com/zoo2/100040.jpg\n",
       "37482     http://s3.amazonaws.com/zoo2/100041.jpg\n",
       "211697    http://s3.amazonaws.com/zoo2/100042.jpg\n",
       "182475    http://s3.amazonaws.com/zoo2/100043.jpg\n",
       "39727     http://s3.amazonaws.com/zoo2/100045.jpg\n",
       "48443     http://s3.amazonaws.com/zoo2/100046.jpg\n",
       "92269     http://s3.amazonaws.com/zoo2/100047.jpg\n",
       "46709     http://s3.amazonaws.com/zoo2/100048.jpg\n",
       "95909     http://s3.amazonaws.com/zoo2/100049.jpg\n",
       "46450      http://s3.amazonaws.com/zoo2/10005.jpg\n",
       "11270     http://s3.amazonaws.com/zoo2/100050.jpg\n",
       "133152    http://s3.amazonaws.com/zoo2/100051.jpg\n",
       "142286    http://s3.amazonaws.com/zoo2/100052.jpg\n",
       "190307    http://s3.amazonaws.com/zoo2/100054.jpg\n",
       "127982    http://s3.amazonaws.com/zoo2/100055.jpg\n",
       "209755    http://s3.amazonaws.com/zoo2/100057.jpg\n",
       "204619    http://s3.amazonaws.com/zoo2/100058.jpg\n",
       "220736    http://s3.amazonaws.com/zoo2/100059.jpg\n",
       "20127      http://s3.amazonaws.com/zoo2/10006.jpg\n",
       "158104    http://s3.amazonaws.com/zoo2/100060.jpg\n",
       "150251    http://s3.amazonaws.com/zoo2/100061.jpg\n",
       "221125    http://s3.amazonaws.com/zoo2/100062.jpg\n",
       "221267    http://s3.amazonaws.com/zoo2/100063.jpg\n",
       "41        http://s3.amazonaws.com/zoo2/100064.jpg\n",
       "219699    http://s3.amazonaws.com/zoo2/100066.jpg\n",
       "222508    http://s3.amazonaws.com/zoo2/100067.jpg\n",
       "232492    http://s3.amazonaws.com/zoo2/100068.jpg\n",
       "152512    http://s3.amazonaws.com/zoo2/100069.jpg\n",
       "232225    http://s3.amazonaws.com/zoo2/100071.jpg\n",
       "233784    http://s3.amazonaws.com/zoo2/100072.jpg\n",
       "38642     http://s3.amazonaws.com/zoo2/100073.jpg\n",
       "83598     http://s3.amazonaws.com/zoo2/100074.jpg\n",
       "214580    http://s3.amazonaws.com/zoo2/100075.jpg\n",
       "124562    http://s3.amazonaws.com/zoo2/100076.jpg\n",
       "183815    http://s3.amazonaws.com/zoo2/100077.jpg\n",
       "Name: location, dtype: object"
      ]
     },
     "execution_count": 28,
     "metadata": {},
     "output_type": "execute_result"
    }
   ],
   "source": [
    "df.sort_values('location')['location'][30:80]"
   ]
  },
  {
   "cell_type": "code",
   "execution_count": 32,
   "metadata": {},
   "outputs": [],
   "source": [
    "import hashlib\n",
    "import glob\n",
    "\n",
    "def md5(fname):\n",
    "    hash_md5 = hashlib.md5()\n",
    "    with open(fname, \"rb\") as f:\n",
    "        for chunk in iter(lambda: f.read(4096), b\"\"):\n",
    "            hash_md5.update(chunk)\n",
    "    return hash_md5.hexdigest()"
   ]
  },
  {
   "cell_type": "code",
   "execution_count": 42,
   "metadata": {},
   "outputs": [
    {
     "data": {
      "text/plain": [
       "'3b68cc06515fff1c94b974ee116c5d35'"
      ]
     },
     "execution_count": 42,
     "metadata": {},
     "output_type": "execute_result"
    }
   ],
   "source": [
    "hash_aws = md5('/media/walml/beta1/misc_downloads/100143.jpeg')\n",
    "# hash_kaggle = md5('/media/walml/beta1/misc_downloads/100143.jpeg')\n",
    "hash_aws"
   ]
  },
  {
   "cell_type": "code",
   "execution_count": 33,
   "metadata": {},
   "outputs": [],
   "source": [
    "kaggle_locs = glob.glob('/home/walml/repos/morphology-tools/anomaly/data/images_training_rev1/*.jpg')"
   ]
  },
  {
   "cell_type": "code",
   "execution_count": 34,
   "metadata": {},
   "outputs": [
    {
     "data": {
      "text/plain": [
       "61578"
      ]
     },
     "execution_count": 34,
     "metadata": {},
     "output_type": "execute_result"
    }
   ],
   "source": [
    "len(kaggle_locs)"
   ]
  },
  {
   "cell_type": "code",
   "execution_count": 36,
   "metadata": {},
   "outputs": [
    {
     "data": {
      "text/plain": [
       "'/home/walml/repos/morphology-tools/anomaly/data/images_training_rev1/991603.jpg'"
      ]
     },
     "execution_count": 36,
     "metadata": {},
     "output_type": "execute_result"
    }
   ],
   "source": [
    "kaggle_locs[0]"
   ]
  },
  {
   "cell_type": "code",
   "execution_count": 39,
   "metadata": {},
   "outputs": [],
   "source": [
    "hashes_kaggle = [md5(loc) for loc in kaggle_locs]  # pretty quick"
   ]
  },
  {
   "cell_type": "code",
   "execution_count": 41,
   "metadata": {},
   "outputs": [
    {
     "data": {
      "text/plain": [
       "['1b403ff3740cfe713f895c91d24c4295',\n",
       " '6dd554f7309f9f9ed6e1d0fd8e9919b2',\n",
       " '2cafccdc1fc7534d0d328045a98eeb13',\n",
       " '94adacf35234e7eafda48236e14fc640',\n",
       " '7235fbfaa85832b0cd26adb3e3ef9d8b',\n",
       " '5a30fb0fb61bdb6502d9adce269bd12b',\n",
       " '800d2f7fa3d373e7c6c36dc9081445bd',\n",
       " '22a455a9485f2361e1045931b1df99fa',\n",
       " '607eb9fc78422a65bd30f630813403db',\n",
       " '1783450262d03a57ee59b0083f7df092']"
      ]
     },
     "execution_count": 41,
     "metadata": {},
     "output_type": "execute_result"
    }
   ],
   "source": [
    "hashes_kaggle[:10]"
   ]
  },
  {
   "cell_type": "code",
   "execution_count": 43,
   "metadata": {},
   "outputs": [
    {
     "data": {
      "text/plain": [
       "False"
      ]
     },
     "execution_count": 43,
     "metadata": {},
     "output_type": "execute_result"
    }
   ],
   "source": [
    "hash_aws in hashes_kaggle"
   ]
  },
  {
   "cell_type": "code",
   "execution_count": 44,
   "metadata": {},
   "outputs": [
    {
     "data": {
      "text/plain": [
       "239695"
      ]
     },
     "execution_count": 44,
     "metadata": {},
     "output_type": "execute_result"
    }
   ],
   "source": [
    "team_locs = glob.glob('/media/walml/beta1/galaxy_zoo/gz2/png/*/*.png')\n",
    "len(team_locs)\n"
   ]
  },
  {
   "cell_type": "code",
   "execution_count": 45,
   "metadata": {},
   "outputs": [],
   "source": [
    "hashes_team = [md5(loc) for loc in team_locs]"
   ]
  },
  {
   "cell_type": "code",
   "execution_count": 46,
   "metadata": {},
   "outputs": [
    {
     "data": {
      "text/plain": [
       "True"
      ]
     },
     "execution_count": 46,
     "metadata": {},
     "output_type": "execute_result"
    }
   ],
   "source": [
    "hash_aws in hashes_team"
   ]
  },
  {
   "cell_type": "code",
   "execution_count": 48,
   "metadata": {},
   "outputs": [
    {
     "data": {
      "text/plain": [
       "99425"
      ]
     },
     "execution_count": 48,
     "metadata": {},
     "output_type": "execute_result"
    }
   ],
   "source": [
    "hashes_team.index(hash_aws)"
   ]
  },
  {
   "cell_type": "code",
   "execution_count": 49,
   "metadata": {},
   "outputs": [
    {
     "data": {
      "text/plain": [
       "'/media/walml/beta1/galaxy_zoo/gz2/png/587736/587736915146703138.png'"
      ]
     },
     "execution_count": 49,
     "metadata": {},
     "output_type": "execute_result"
    }
   ],
   "source": [
    "team_locs[hashes_team.index(hash_aws)]  # this is 100143.jpg from AWS as expected!"
   ]
  },
  {
   "cell_type": "code",
   "execution_count": null,
   "metadata": {},
   "outputs": [],
   "source": []
  },
  {
   "cell_type": "code",
   "execution_count": null,
   "metadata": {},
   "outputs": [],
   "source": []
  },
  {
   "cell_type": "code",
   "execution_count": null,
   "metadata": {},
   "outputs": [],
   "source": []
  },
  {
   "cell_type": "code",
   "execution_count": 50,
   "metadata": {},
   "outputs": [],
   "source": [
    "kaggle_map = pd.read_csv('/home/walml/Downloads/kaggle_gz_allgals_randomgalaxyid.csv')"
   ]
  },
  {
   "cell_type": "code",
   "execution_count": 51,
   "metadata": {},
   "outputs": [
    {
     "data": {
      "text/html": [
       "<div>\n",
       "<style scoped>\n",
       "    .dataframe tbody tr th:only-of-type {\n",
       "        vertical-align: middle;\n",
       "    }\n",
       "\n",
       "    .dataframe tbody tr th {\n",
       "        vertical-align: top;\n",
       "    }\n",
       "\n",
       "    .dataframe thead th {\n",
       "        text-align: right;\n",
       "    }\n",
       "</style>\n",
       "<table border=\"1\" class=\"dataframe\">\n",
       "  <thead>\n",
       "    <tr style=\"text-align: right;\">\n",
       "      <th></th>\n",
       "      <th>GalaxyID</th>\n",
       "      <th>dr7objid</th>\n",
       "      <th>Usage</th>\n",
       "    </tr>\n",
       "  </thead>\n",
       "  <tbody>\n",
       "    <tr>\n",
       "      <th>0</th>\n",
       "      <td>210392</td>\n",
       "      <td>587733608013168910</td>\n",
       "      <td>training</td>\n",
       "    </tr>\n",
       "    <tr>\n",
       "      <th>1</th>\n",
       "      <td>391155</td>\n",
       "      <td>587745404150480989</td>\n",
       "      <td>training</td>\n",
       "    </tr>\n",
       "    <tr>\n",
       "      <th>2</th>\n",
       "      <td>452633</td>\n",
       "      <td>587726100953432374</td>\n",
       "      <td>training</td>\n",
       "    </tr>\n",
       "    <tr>\n",
       "      <th>3</th>\n",
       "      <td>591004</td>\n",
       "      <td>587731186198970494</td>\n",
       "      <td>training</td>\n",
       "    </tr>\n",
       "    <tr>\n",
       "      <th>4</th>\n",
       "      <td>578384</td>\n",
       "      <td>588017978342572164</td>\n",
       "      <td>training</td>\n",
       "    </tr>\n",
       "  </tbody>\n",
       "</table>\n",
       "</div>"
      ],
      "text/plain": [
       "   GalaxyID            dr7objid     Usage\n",
       "0    210392  587733608013168910  training\n",
       "1    391155  587745404150480989  training\n",
       "2    452633  587726100953432374  training\n",
       "3    591004  587731186198970494  training\n",
       "4    578384  588017978342572164  training"
      ]
     },
     "execution_count": 51,
     "metadata": {},
     "output_type": "execute_result"
    }
   ],
   "source": [
    "kaggle_map.head()"
   ]
  },
  {
   "cell_type": "code",
   "execution_count": 52,
   "metadata": {},
   "outputs": [
    {
     "data": {
      "text/html": [
       "<div>\n",
       "<style scoped>\n",
       "    .dataframe tbody tr th:only-of-type {\n",
       "        vertical-align: middle;\n",
       "    }\n",
       "\n",
       "    .dataframe tbody tr th {\n",
       "        vertical-align: top;\n",
       "    }\n",
       "\n",
       "    .dataframe thead th {\n",
       "        text-align: right;\n",
       "    }\n",
       "</style>\n",
       "<table border=\"1\" class=\"dataframe\">\n",
       "  <thead>\n",
       "    <tr style=\"text-align: right;\">\n",
       "      <th></th>\n",
       "      <th>GalaxyID</th>\n",
       "      <th>dr7objid</th>\n",
       "      <th>Usage</th>\n",
       "    </tr>\n",
       "  </thead>\n",
       "  <tbody>\n",
       "    <tr>\n",
       "      <th>51800</th>\n",
       "      <td>100008</td>\n",
       "      <td>587732484346872070</td>\n",
       "      <td>training</td>\n",
       "    </tr>\n",
       "    <tr>\n",
       "      <th>136532</th>\n",
       "      <td>100018</td>\n",
       "      <td>587735742617354500</td>\n",
       "      <td>private</td>\n",
       "    </tr>\n",
       "    <tr>\n",
       "      <th>31742</th>\n",
       "      <td>100023</td>\n",
       "      <td>588017627241906351</td>\n",
       "      <td>training</td>\n",
       "    </tr>\n",
       "    <tr>\n",
       "      <th>118791</th>\n",
       "      <td>100037</td>\n",
       "      <td>587725994650501340</td>\n",
       "      <td>private</td>\n",
       "    </tr>\n",
       "    <tr>\n",
       "      <th>126517</th>\n",
       "      <td>100042</td>\n",
       "      <td>588011098872545303</td>\n",
       "      <td>private</td>\n",
       "    </tr>\n",
       "    <tr>\n",
       "      <th>...</th>\n",
       "      <td>...</td>\n",
       "      <td>...</td>\n",
       "      <td>...</td>\n",
       "    </tr>\n",
       "    <tr>\n",
       "      <th>10915</th>\n",
       "      <td>999967</td>\n",
       "      <td>587738197193261169</td>\n",
       "      <td>training</td>\n",
       "    </tr>\n",
       "    <tr>\n",
       "      <th>126016</th>\n",
       "      <td>999981</td>\n",
       "      <td>587736941983236313</td>\n",
       "      <td>private</td>\n",
       "    </tr>\n",
       "    <tr>\n",
       "      <th>114421</th>\n",
       "      <td>999990</td>\n",
       "      <td>587738617564430509</td>\n",
       "      <td>private</td>\n",
       "    </tr>\n",
       "    <tr>\n",
       "      <th>140484</th>\n",
       "      <td>999994</td>\n",
       "      <td>587739610245103719</td>\n",
       "      <td>private</td>\n",
       "    </tr>\n",
       "    <tr>\n",
       "      <th>130883</th>\n",
       "      <td>999996</td>\n",
       "      <td>587744637492658503</td>\n",
       "      <td>private</td>\n",
       "    </tr>\n",
       "  </tbody>\n",
       "</table>\n",
       "<p>141596 rows × 3 columns</p>\n",
       "</div>"
      ],
      "text/plain": [
       "        GalaxyID            dr7objid     Usage\n",
       "51800     100008  587732484346872070  training\n",
       "136532    100018  587735742617354500   private\n",
       "31742     100023  588017627241906351  training\n",
       "118791    100037  587725994650501340   private\n",
       "126517    100042  588011098872545303   private\n",
       "...          ...                 ...       ...\n",
       "10915     999967  587738197193261169  training\n",
       "126016    999981  587736941983236313   private\n",
       "114421    999990  587738617564430509   private\n",
       "140484    999994  587739610245103719   private\n",
       "130883    999996  587744637492658503   private\n",
       "\n",
       "[141596 rows x 3 columns]"
      ]
     },
     "execution_count": 52,
     "metadata": {},
     "output_type": "execute_result"
    }
   ],
   "source": [
    "kaggle_map.sort_values('GalaxyID')"
   ]
  },
  {
   "cell_type": "code",
   "execution_count": null,
   "metadata": {},
   "outputs": [],
   "source": []
  },
  {
   "cell_type": "code",
   "execution_count": null,
   "metadata": {},
   "outputs": [],
   "source": []
  },
  {
   "cell_type": "code",
   "execution_count": 5,
   "metadata": {},
   "outputs": [],
   "source": [
    "forest = pd.read_csv('/home/walml/repos/morphology-tools/temp_latest_forest_df.csv')\n",
    "forest['GalaxyID'] = forest['objid']\n",
    "del forest['objid']"
   ]
  },
  {
   "cell_type": "code",
   "execution_count": 6,
   "metadata": {},
   "outputs": [],
   "source": [
    "cnn = pd.read_csv('/home/walml/repos/morphology-tools/temp_latest_cnn_df.csv')"
   ]
  },
  {
   "cell_type": "code",
   "execution_count": 7,
   "metadata": {},
   "outputs": [
    {
     "data": {
      "text/html": [
       "<div>\n",
       "<style scoped>\n",
       "    .dataframe tbody tr th:only-of-type {\n",
       "        vertical-align: middle;\n",
       "    }\n",
       "\n",
       "    .dataframe tbody tr th {\n",
       "        vertical-align: top;\n",
       "    }\n",
       "\n",
       "    .dataframe thead th {\n",
       "        text-align: right;\n",
       "    }\n",
       "</style>\n",
       "<table border=\"1\" class=\"dataframe\">\n",
       "  <thead>\n",
       "    <tr style=\"text-align: right;\">\n",
       "      <th></th>\n",
       "      <th>GalaxyID</th>\n",
       "      <th>t06_odd_a14_yes_fraction</th>\n",
       "    </tr>\n",
       "  </thead>\n",
       "  <tbody>\n",
       "    <tr>\n",
       "      <th>0</th>\n",
       "      <td>100008</td>\n",
       "      <td>0.054453</td>\n",
       "    </tr>\n",
       "    <tr>\n",
       "      <th>1</th>\n",
       "      <td>100023</td>\n",
       "      <td>0.189149</td>\n",
       "    </tr>\n",
       "    <tr>\n",
       "      <th>2</th>\n",
       "      <td>100053</td>\n",
       "      <td>0.000000</td>\n",
       "    </tr>\n",
       "    <tr>\n",
       "      <th>3</th>\n",
       "      <td>100078</td>\n",
       "      <td>0.320398</td>\n",
       "    </tr>\n",
       "    <tr>\n",
       "      <th>4</th>\n",
       "      <td>100090</td>\n",
       "      <td>0.029383</td>\n",
       "    </tr>\n",
       "    <tr>\n",
       "      <th>...</th>\n",
       "      <td>...</td>\n",
       "      <td>...</td>\n",
       "    </tr>\n",
       "    <tr>\n",
       "      <th>60710</th>\n",
       "      <td>999948</td>\n",
       "      <td>0.245734</td>\n",
       "    </tr>\n",
       "    <tr>\n",
       "      <th>60711</th>\n",
       "      <td>999950</td>\n",
       "      <td>0.127644</td>\n",
       "    </tr>\n",
       "    <tr>\n",
       "      <th>60712</th>\n",
       "      <td>999958</td>\n",
       "      <td>0.839186</td>\n",
       "    </tr>\n",
       "    <tr>\n",
       "      <th>60713</th>\n",
       "      <td>999964</td>\n",
       "      <td>0.864000</td>\n",
       "    </tr>\n",
       "    <tr>\n",
       "      <th>60714</th>\n",
       "      <td>999967</td>\n",
       "      <td>0.333000</td>\n",
       "    </tr>\n",
       "  </tbody>\n",
       "</table>\n",
       "<p>60715 rows × 2 columns</p>\n",
       "</div>"
      ],
      "text/plain": [
       "       GalaxyID  t06_odd_a14_yes_fraction\n",
       "0        100008                  0.054453\n",
       "1        100023                  0.189149\n",
       "2        100053                  0.000000\n",
       "3        100078                  0.320398\n",
       "4        100090                  0.029383\n",
       "...         ...                       ...\n",
       "60710    999948                  0.245734\n",
       "60711    999950                  0.127644\n",
       "60712    999958                  0.839186\n",
       "60713    999964                  0.864000\n",
       "60714    999967                  0.333000\n",
       "\n",
       "[60715 rows x 2 columns]"
      ]
     },
     "execution_count": 7,
     "metadata": {},
     "output_type": "execute_result"
    }
   ],
   "source": [
    "forest[['GalaxyID', 't06_odd_a14_yes_fraction']]"
   ]
  },
  {
   "cell_type": "code",
   "execution_count": 8,
   "metadata": {},
   "outputs": [
    {
     "data": {
      "text/plain": [
       "array(['feat_1277_pred', 'feat_1278_pred', 'feat_1279_pred', 'png_loc',\n",
       "       'id_str', 'dr7objid', 't06_odd_a14_yes_fraction', 'GalaxyID',\n",
       "       'Class6.1', 't06_odd_a14_yes_fraction_kaggle'], dtype=object)"
      ]
     },
     "execution_count": 8,
     "metadata": {},
     "output_type": "execute_result"
    }
   ],
   "source": [
    "cnn.columns.values[-10:]"
   ]
  },
  {
   "cell_type": "code",
   "execution_count": 9,
   "metadata": {},
   "outputs": [
    {
     "data": {
      "text/html": [
       "<div>\n",
       "<style scoped>\n",
       "    .dataframe tbody tr th:only-of-type {\n",
       "        vertical-align: middle;\n",
       "    }\n",
       "\n",
       "    .dataframe tbody tr th {\n",
       "        vertical-align: top;\n",
       "    }\n",
       "\n",
       "    .dataframe thead th {\n",
       "        text-align: right;\n",
       "    }\n",
       "</style>\n",
       "<table border=\"1\" class=\"dataframe\">\n",
       "  <thead>\n",
       "    <tr style=\"text-align: right;\">\n",
       "      <th></th>\n",
       "      <th>dr7objid</th>\n",
       "      <th>GalaxyID</th>\n",
       "      <th>t06_odd_a14_yes_fraction</th>\n",
       "    </tr>\n",
       "  </thead>\n",
       "  <tbody>\n",
       "    <tr>\n",
       "      <th>0</th>\n",
       "      <td>587739814780403912</td>\n",
       "      <td>116417</td>\n",
       "      <td>0.163</td>\n",
       "    </tr>\n",
       "    <tr>\n",
       "      <th>1</th>\n",
       "      <td>587735696444096613</td>\n",
       "      <td>898733</td>\n",
       "      <td>0.050</td>\n",
       "    </tr>\n",
       "    <tr>\n",
       "      <th>2</th>\n",
       "      <td>587742615632347407</td>\n",
       "      <td>566018</td>\n",
       "      <td>0.045</td>\n",
       "    </tr>\n",
       "    <tr>\n",
       "      <th>3</th>\n",
       "      <td>587736543092932735</td>\n",
       "      <td>789640</td>\n",
       "      <td>0.531</td>\n",
       "    </tr>\n",
       "    <tr>\n",
       "      <th>4</th>\n",
       "      <td>587738564943348138</td>\n",
       "      <td>272005</td>\n",
       "      <td>0.109</td>\n",
       "    </tr>\n",
       "    <tr>\n",
       "      <th>...</th>\n",
       "      <td>...</td>\n",
       "      <td>...</td>\n",
       "      <td>...</td>\n",
       "    </tr>\n",
       "    <tr>\n",
       "      <th>60539</th>\n",
       "      <td>587741722284916886</td>\n",
       "      <td>488853</td>\n",
       "      <td>0.079</td>\n",
       "    </tr>\n",
       "    <tr>\n",
       "      <th>60540</th>\n",
       "      <td>587734949121622158</td>\n",
       "      <td>317340</td>\n",
       "      <td>0.107</td>\n",
       "    </tr>\n",
       "    <tr>\n",
       "      <th>60541</th>\n",
       "      <td>587730846893081087</td>\n",
       "      <td>861215</td>\n",
       "      <td>0.044</td>\n",
       "    </tr>\n",
       "    <tr>\n",
       "      <th>60542</th>\n",
       "      <td>587735241179398332</td>\n",
       "      <td>107597</td>\n",
       "      <td>0.095</td>\n",
       "    </tr>\n",
       "    <tr>\n",
       "      <th>60543</th>\n",
       "      <td>588007003652096181</td>\n",
       "      <td>611650</td>\n",
       "      <td>0.050</td>\n",
       "    </tr>\n",
       "  </tbody>\n",
       "</table>\n",
       "<p>60544 rows × 3 columns</p>\n",
       "</div>"
      ],
      "text/plain": [
       "                 dr7objid  GalaxyID  t06_odd_a14_yes_fraction\n",
       "0      587739814780403912    116417                     0.163\n",
       "1      587735696444096613    898733                     0.050\n",
       "2      587742615632347407    566018                     0.045\n",
       "3      587736543092932735    789640                     0.531\n",
       "4      587738564943348138    272005                     0.109\n",
       "...                   ...       ...                       ...\n",
       "60539  587741722284916886    488853                     0.079\n",
       "60540  587734949121622158    317340                     0.107\n",
       "60541  587730846893081087    861215                     0.044\n",
       "60542  587735241179398332    107597                     0.095\n",
       "60543  588007003652096181    611650                     0.050\n",
       "\n",
       "[60544 rows x 3 columns]"
      ]
     },
     "execution_count": 9,
     "metadata": {},
     "output_type": "execute_result"
    }
   ],
   "source": [
    "cnn[['dr7objid', 'GalaxyID', 't06_odd_a14_yes_fraction']]"
   ]
  },
  {
   "cell_type": "code",
   "execution_count": 10,
   "metadata": {},
   "outputs": [
    {
     "data": {
      "text/plain": [
       "array(['Residual_90', 'Residual_80', 'Residual_70', 'Residual_60',\n",
       "       'Residual_50', 'Residual_0', 'Offset_90', 'Offset_80', 'Offset_70',\n",
       "       'Offset_60', 'Offset_50', 'Offset_0', 'Aspect_90', 'Aspect_80',\n",
       "       'Aspect_70', 'Aspect_60', 'Aspect_50', 'Aspect_0', 'Theta_90',\n",
       "       'Theta_80', 'Theta_70', 'Theta_60', 'Theta_50', 'Theta_0',\n",
       "       'Class1.1', 'Class1.2', 'Class1.3', 'Class2.1', 'Class2.2',\n",
       "       'Class3.1', 'Class3.2', 'Class4.1', 'Class4.2', 'Class5.1',\n",
       "       'Class5.2', 'Class5.3', 'Class5.4', 'Class6.1', 'Class6.2',\n",
       "       'Class7.1', 'Class7.2', 'Class7.3', 'Class8.1', 'Class8.2',\n",
       "       'Class8.3', 'Class8.4', 'Class8.5', 'Class8.6', 'Class8.7',\n",
       "       'Class9.1', 'Class9.2', 'Class9.3', 'Class10.1', 'Class10.2',\n",
       "       'Class10.3', 'Class11.1', 'Class11.2', 'Class11.3', 'Class11.4',\n",
       "       'Class11.5', 'Class11.6', 't06_odd_a14_yes_fraction', 'GalaxyID'],\n",
       "      dtype=object)"
      ]
     },
     "execution_count": 10,
     "metadata": {},
     "output_type": "execute_result"
    }
   ],
   "source": [
    "forest.columns.values"
   ]
  },
  {
   "cell_type": "code",
   "execution_count": 11,
   "metadata": {},
   "outputs": [
    {
     "data": {
      "text/plain": [
       "59727"
      ]
     },
     "execution_count": 11,
     "metadata": {},
     "output_type": "execute_result"
    }
   ],
   "source": [
    "len(set(cnn['GalaxyID']) & set(forest['GalaxyID']))"
   ]
  },
  {
   "cell_type": "code",
   "execution_count": 12,
   "metadata": {},
   "outputs": [
    {
     "data": {
      "text/plain": [
       "817"
      ]
     },
     "execution_count": 12,
     "metadata": {},
     "output_type": "execute_result"
    }
   ],
   "source": [
    "len(set(cnn['GalaxyID']) - set(forest['GalaxyID']))"
   ]
  },
  {
   "cell_type": "code",
   "execution_count": 13,
   "metadata": {},
   "outputs": [
    {
     "data": {
      "text/plain": [
       "988"
      ]
     },
     "execution_count": 13,
     "metadata": {},
     "output_type": "execute_result"
    }
   ],
   "source": [
    "len(set(forest['GalaxyID']) - set(cnn['GalaxyID']))"
   ]
  },
  {
   "cell_type": "code",
   "execution_count": 14,
   "metadata": {},
   "outputs": [
    {
     "data": {
      "text/plain": [
       "<matplotlib.axes._subplots.AxesSubplot at 0x7f51e4857210>"
      ]
     },
     "execution_count": 14,
     "metadata": {},
     "output_type": "execute_result"
    },
    {
     "data": {
      "image/png": "[encoded data removed]",
      "text/plain": [
       "<Figure size 432x288 with 1 Axes>"
      ]
     },
     "metadata": {
      "needs_background": "light"
     },
     "output_type": "display_data"
    }
   ],
   "source": [
    "_, bins = np.histogram(np.linspace(0., 1.))\n",
    "forest['Class6.1'].hist(alpha=.5, bins=bins)\n",
    "cnn['t06_odd_a14_yes_fraction'].hist(alpha=.5, bins=bins)"
   ]
  },
  {
   "cell_type": "code",
   "execution_count": 15,
   "metadata": {},
   "outputs": [
    {
     "data": {
      "text/plain": [
       "(851, 578)"
      ]
     },
     "execution_count": 15,
     "metadata": {},
     "output_type": "execute_result"
    }
   ],
   "source": [
    "(forest['Class6.1'] > 0.9).sum(), (cnn['t06_odd_a14_yes_fraction'] > 0.9).sum()"
   ]
  },
  {
   "cell_type": "code",
   "execution_count": 16,
   "metadata": {},
   "outputs": [
    {
     "data": {
      "text/plain": [
       "<matplotlib.axes._subplots.AxesSubplot at 0x7f51e87a4f90>"
      ]
     },
     "execution_count": 16,
     "metadata": {},
     "output_type": "execute_result"
    },
    {
     "data": {
      "image/png": "[encoded data removed]",
      "text/plain": [
       "<Figure size 432x288 with 1 Axes>"
      ]
     },
     "metadata": {
      "needs_background": "light"
     },
     "output_type": "display_data"
    }
   ],
   "source": [
    "in_both = set(cnn['GalaxyID']) & set(forest['GalaxyID'])\n",
    "forest_both = forest[forest['GalaxyID'].isin(in_both)]\n",
    "cnn_both = cnn[cnn['GalaxyID'].isin(in_both)]\n",
    "\n",
    "_, bins = np.histogram(np.linspace(0., 1.))\n",
    "forest_both['Class6.1'].hist(alpha=.5, bins=bins)\n",
    "cnn_both['t06_odd_a14_yes_fraction'].hist(alpha=.5, bins=bins)"
   ]
  },
  {
   "cell_type": "markdown",
   "metadata": {},
   "source": [
    "Okay, so class 6.1 is not the same as t06_odd_a14_yes_fraction.\n",
    "Probably the 2014 table in Kaggle is a little different to the 2016 table in Hart16\n",
    "Lets use the 2014 values for both"
   ]
  },
  {
   "cell_type": "code",
   "execution_count": 17,
   "metadata": {},
   "outputs": [
    {
     "data": {
      "text/plain": [
       "<matplotlib.axes._subplots.AxesSubplot at 0x7f51e8b17390>"
      ]
     },
     "execution_count": 17,
     "metadata": {},
     "output_type": "execute_result"
    },
    {
     "data": {
      "image/png": "[encoded data removed]",
      "text/plain": [
       "<Figure size 432x288 with 1 Axes>"
      ]
     },
     "metadata": {
      "needs_background": "light"
     },
     "output_type": "display_data"
    }
   ],
   "source": [
    "forest_both['Class6.1'].hist(alpha=.5, bins=bins)\n",
    "cnn_both['t06_odd_a14_yes_fraction_kaggle'].hist(alpha=.5, bins=bins)"
   ]
  },
  {
   "cell_type": "code",
   "execution_count": 18,
   "metadata": {},
   "outputs": [
    {
     "data": {
      "text/plain": [
       "(835, 835)"
      ]
     },
     "execution_count": 18,
     "metadata": {},
     "output_type": "execute_result"
    }
   ],
   "source": [
    "(forest_both['Class6.1'] > 0.9).sum(), (cnn_both['t06_odd_a14_yes_fraction_kaggle'] > 0.9).sum()"
   ]
  },
  {
   "cell_type": "code",
   "execution_count": 19,
   "metadata": {},
   "outputs": [
    {
     "data": {
      "text/plain": [
       "(851, 903)"
      ]
     },
     "execution_count": 19,
     "metadata": {},
     "output_type": "execute_result"
    }
   ],
   "source": [
    "(forest['Class6.1'] > 0.9).sum(), (cnn['t06_odd_a14_yes_fraction_kaggle'] > 0.9).sum()"
   ]
  },
  {
   "cell_type": "markdown",
   "metadata": {},
   "source": [
    "Yep, the difference was between the kaggle and 2016 catalogs"
   ]
  },
  {
   "cell_type": "code",
   "execution_count": null,
   "metadata": {},
   "outputs": [],
   "source": []
  },
  {
   "cell_type": "markdown",
   "metadata": {},
   "source": [
    "Missing some forest makes sense- nan values in features. But why cnn drops some?\n",
    "\n",
    "catalog and cnn features merge perfectly so cnn isn't dropping some via nans\n",
    "\n",
    "presumably the 2016 catalog is missing some kaggle galaxies - lets check"
   ]
  },
  {
   "cell_type": "code",
   "execution_count": 20,
   "metadata": {},
   "outputs": [],
   "source": []
  },
  {
   "cell_type": "code",
   "execution_count": 21,
   "metadata": {},
   "outputs": [
    {
     "data": {
      "text/plain": [
       "239695"
      ]
     },
     "execution_count": 21,
     "metadata": {},
     "output_type": "execute_result"
    }
   ],
   "source": [
    "len(catalog)"
   ]
  },
  {
   "cell_type": "code",
   "execution_count": 28,
   "metadata": {},
   "outputs": [
    {
     "data": {
      "text/html": [
       "<div>\n",
       "<style scoped>\n",
       "    .dataframe tbody tr th:only-of-type {\n",
       "        vertical-align: middle;\n",
       "    }\n",
       "\n",
       "    .dataframe tbody tr th {\n",
       "        vertical-align: top;\n",
       "    }\n",
       "\n",
       "    .dataframe thead th {\n",
       "        text-align: right;\n",
       "    }\n",
       "</style>\n",
       "<table border=\"1\" class=\"dataframe\">\n",
       "  <thead>\n",
       "    <tr style=\"text-align: right;\">\n",
       "      <th></th>\n",
       "      <th>dr7objid</th>\n",
       "      <th>t06_odd_a14_yes_fraction</th>\n",
       "    </tr>\n",
       "  </thead>\n",
       "  <tbody>\n",
       "    <tr>\n",
       "      <th>0</th>\n",
       "      <td>587732591714893851</td>\n",
       "      <td>0.262</td>\n",
       "    </tr>\n",
       "    <tr>\n",
       "      <th>1</th>\n",
       "      <td>588009368545984617</td>\n",
       "      <td>0.024</td>\n",
       "    </tr>\n",
       "    <tr>\n",
       "      <th>2</th>\n",
       "      <td>587732484359913515</td>\n",
       "      <td>0.242</td>\n",
       "    </tr>\n",
       "    <tr>\n",
       "      <th>3</th>\n",
       "      <td>587741723357282317</td>\n",
       "      <td>0.179</td>\n",
       "    </tr>\n",
       "    <tr>\n",
       "      <th>4</th>\n",
       "      <td>587738410866966577</td>\n",
       "      <td>0.098</td>\n",
       "    </tr>\n",
       "    <tr>\n",
       "      <th>...</th>\n",
       "      <td>...</td>\n",
       "      <td>...</td>\n",
       "    </tr>\n",
       "    <tr>\n",
       "      <th>239690</th>\n",
       "      <td>587741490371625059</td>\n",
       "      <td>0.049</td>\n",
       "    </tr>\n",
       "    <tr>\n",
       "      <th>239691</th>\n",
       "      <td>587731174917669027</td>\n",
       "      <td>0.811</td>\n",
       "    </tr>\n",
       "    <tr>\n",
       "      <th>239692</th>\n",
       "      <td>587731512070177108</td>\n",
       "      <td>0.116</td>\n",
       "    </tr>\n",
       "    <tr>\n",
       "      <th>239693</th>\n",
       "      <td>587731513145688256</td>\n",
       "      <td>0.872</td>\n",
       "    </tr>\n",
       "    <tr>\n",
       "      <th>239694</th>\n",
       "      <td>588015507679805636</td>\n",
       "      <td>0.065</td>\n",
       "    </tr>\n",
       "  </tbody>\n",
       "</table>\n",
       "<p>239695 rows × 2 columns</p>\n",
       "</div>"
      ],
      "text/plain": [
       "                  dr7objid  t06_odd_a14_yes_fraction\n",
       "0       587732591714893851                     0.262\n",
       "1       588009368545984617                     0.024\n",
       "2       587732484359913515                     0.242\n",
       "3       587741723357282317                     0.179\n",
       "4       587738410866966577                     0.098\n",
       "...                    ...                       ...\n",
       "239690  587741490371625059                     0.049\n",
       "239691  587731174917669027                     0.811\n",
       "239692  587731512070177108                     0.116\n",
       "239693  587731513145688256                     0.872\n",
       "239694  588015507679805636                     0.065\n",
       "\n",
       "[239695 rows x 2 columns]"
      ]
     },
     "execution_count": 28,
     "metadata": {},
     "output_type": "execute_result"
    }
   ],
   "source": [
    "catalog"
   ]
  },
  {
   "cell_type": "code",
   "execution_count": 2,
   "metadata": {},
   "outputs": [
    {
     "name": "stdout",
     "output_type": "stream",
     "text": [
      "61578 141596 61578\n"
     ]
    }
   ],
   "source": [
    "kaggle_df = pd.read_csv('/media/walml/beta1/galaxy_zoo/gz2/kaggle/training_solutions_rev1.csv', usecols=['GalaxyID', 'Class6.1'])  # from kaggle\n",
    "key_df = pd.read_csv('/home/walml/Downloads/kaggle_gz_allgals_randomgalaxyid.csv', usecols=['GalaxyID', 'dr7objid'])\n",
    "kaggle_df['GalaxyID'] = kaggle_df['GalaxyID'].astype(str)\n",
    "key_df['GalaxyID'] = key_df['GalaxyID'].astype(str)\n",
    "key_df['dr7objid'] = key_df['dr7objid'].astype(str)\n",
    "kaggle_df['t06_odd_a14_yes_fraction_kaggle'] = kaggle_df['Class6.1']\n",
    "kaggle_key_df = pd.merge(kaggle_df, key_df, on='GalaxyID', how='inner')\n",
    "print(len(kaggle_df), len(key_df), len(kaggle_key_df))\n"
   ]
  },
  {
   "cell_type": "code",
   "execution_count": 33,
   "metadata": {},
   "outputs": [],
   "source": [
    "catalog['dr7objid'] = catalog['dr7objid'].astype(str)"
   ]
  },
  {
   "cell_type": "code",
   "execution_count": 34,
   "metadata": {},
   "outputs": [
    {
     "data": {
      "text/plain": [
       "0         587733608013168910\n",
       "1         587745404150480989\n",
       "2         587726100953432374\n",
       "3         587731186198970494\n",
       "4         588017978342572164\n",
       "                 ...        \n",
       "141591    587727942423871494\n",
       "141592    587741490912493648\n",
       "141593    587728677397004342\n",
       "141594    587741532788424785\n",
       "141595    588017991238287378\n",
       "Name: dr7objid, Length: 141596, dtype: object"
      ]
     },
     "execution_count": 34,
     "metadata": {},
     "output_type": "execute_result"
    }
   ],
   "source": [
    "key_df['dr7objid']"
   ]
  },
  {
   "cell_type": "code",
   "execution_count": 37,
   "metadata": {},
   "outputs": [
    {
     "data": {
      "text/plain": [
       "139238"
      ]
     },
     "execution_count": 37,
     "metadata": {},
     "output_type": "execute_result"
    }
   ],
   "source": [
    "cat_and_kag = pd.merge(catalog, key_df, on='dr7objid', how='inner')\n",
    "len(cat_and_kag)"
   ]
  },
  {
   "cell_type": "code",
   "execution_count": 38,
   "metadata": {},
   "outputs": [
    {
     "data": {
      "text/plain": [
       "2358"
      ]
     },
     "execution_count": 38,
     "metadata": {},
     "output_type": "execute_result"
    }
   ],
   "source": [
    "dropped_dr7ids = set(key_df['dr7objid']) - set(catalog['dr7objid'])  # key includes 140k, not 60k\n",
    "len(dropped_dr7ids)"
   ]
  },
  {
   "cell_type": "code",
   "execution_count": 41,
   "metadata": {},
   "outputs": [
    {
     "data": {
      "text/plain": [
       "1034"
      ]
     },
     "execution_count": 41,
     "metadata": {},
     "output_type": "execute_result"
    }
   ],
   "source": [
    "dropped_but_in_kaggle_subset = dropped_dr7ids & set(kaggle_key_df['dr7objid'])\n",
    "len(dropped_but_in_kaggle_subset)"
   ]
  },
  {
   "cell_type": "code",
   "execution_count": 45,
   "metadata": {},
   "outputs": [
    {
     "data": {
      "text/plain": [
       "988"
      ]
     },
     "execution_count": 45,
     "metadata": {},
     "output_type": "execute_result"
    }
   ],
   "source": [
    "cnn_missed = set(forest['GalaxyID']) - set(cnn['GalaxyID'])\n",
    "len(cnn_missed)"
   ]
  },
  {
   "cell_type": "code",
   "execution_count": 53,
   "metadata": {},
   "outputs": [
    {
     "data": {
      "text/plain": [
       "988"
      ]
     },
     "execution_count": 53,
     "metadata": {},
     "output_type": "execute_result"
    }
   ],
   "source": [
    "key_missed_rows = key_df[key_df['GalaxyID'].astype(int).isin(cnn_missed)]\n",
    "len(key_missed_rows)\n"
   ]
  },
  {
   "cell_type": "code",
   "execution_count": 55,
   "metadata": {},
   "outputs": [
    {
     "data": {
      "text/html": [
       "<div>\n",
       "<style scoped>\n",
       "    .dataframe tbody tr th:only-of-type {\n",
       "        vertical-align: middle;\n",
       "    }\n",
       "\n",
       "    .dataframe tbody tr th {\n",
       "        vertical-align: top;\n",
       "    }\n",
       "\n",
       "    .dataframe thead th {\n",
       "        text-align: right;\n",
       "    }\n",
       "</style>\n",
       "<table border=\"1\" class=\"dataframe\">\n",
       "  <thead>\n",
       "    <tr style=\"text-align: right;\">\n",
       "      <th></th>\n",
       "      <th>GalaxyID</th>\n",
       "      <th>dr7objid</th>\n",
       "    </tr>\n",
       "  </thead>\n",
       "  <tbody>\n",
       "    <tr>\n",
       "      <th>56</th>\n",
       "      <td>760555</td>\n",
       "      <td>587748929238335592</td>\n",
       "    </tr>\n",
       "    <tr>\n",
       "      <th>68</th>\n",
       "      <td>642684</td>\n",
       "      <td>588848899380609065</td>\n",
       "    </tr>\n",
       "    <tr>\n",
       "      <th>92</th>\n",
       "      <td>410362</td>\n",
       "      <td>587729231983739256</td>\n",
       "    </tr>\n",
       "    <tr>\n",
       "      <th>238</th>\n",
       "      <td>846907</td>\n",
       "      <td>588017704008024182</td>\n",
       "    </tr>\n",
       "    <tr>\n",
       "      <th>242</th>\n",
       "      <td>693556</td>\n",
       "      <td>587739707420573776</td>\n",
       "    </tr>\n",
       "    <tr>\n",
       "      <th>...</th>\n",
       "      <td>...</td>\n",
       "      <td>...</td>\n",
       "    </tr>\n",
       "    <tr>\n",
       "      <th>61380</th>\n",
       "      <td>461594</td>\n",
       "      <td>588017565490741294</td>\n",
       "    </tr>\n",
       "    <tr>\n",
       "      <th>61386</th>\n",
       "      <td>552873</td>\n",
       "      <td>587741533316579480</td>\n",
       "    </tr>\n",
       "    <tr>\n",
       "      <th>61396</th>\n",
       "      <td>801776</td>\n",
       "      <td>588017724937994262</td>\n",
       "    </tr>\n",
       "    <tr>\n",
       "      <th>61546</th>\n",
       "      <td>432666</td>\n",
       "      <td>587741722283671581</td>\n",
       "    </tr>\n",
       "    <tr>\n",
       "      <th>61580</th>\n",
       "      <td>684969</td>\n",
       "      <td>587730021714427909</td>\n",
       "    </tr>\n",
       "  </tbody>\n",
       "</table>\n",
       "<p>988 rows × 2 columns</p>\n",
       "</div>"
      ],
      "text/plain": [
       "      GalaxyID            dr7objid\n",
       "56      760555  587748929238335592\n",
       "68      642684  588848899380609065\n",
       "92      410362  587729231983739256\n",
       "238     846907  588017704008024182\n",
       "242     693556  587739707420573776\n",
       "...        ...                 ...\n",
       "61380   461594  588017565490741294\n",
       "61386   552873  587741533316579480\n",
       "61396   801776  588017724937994262\n",
       "61546   432666  587741722283671581\n",
       "61580   684969  587730021714427909\n",
       "\n",
       "[988 rows x 2 columns]"
      ]
     },
     "execution_count": 55,
     "metadata": {},
     "output_type": "execute_result"
    }
   ],
   "source": [
    "key_missed_rows  \n",
    "# these are (all) in the forest predictions, not in the cnn predictions, but in the key"
   ]
  },
  {
   "cell_type": "code",
   "execution_count": 60,
   "metadata": {},
   "outputs": [
    {
     "data": {
      "text/plain": [
       "56       587748929238335592\n",
       "68       588848899380609065\n",
       "92       587729231983739256\n",
       "238      588017704008024182\n",
       "242      587739707420573776\n",
       "                ...        \n",
       "61380    588017565490741294\n",
       "61386    587741533316579480\n",
       "61396    588017724937994262\n",
       "61546    587741722283671581\n",
       "61580    587730021714427909\n",
       "Name: dr7objid, Length: 988, dtype: object"
      ]
     },
     "execution_count": 60,
     "metadata": {},
     "output_type": "execute_result"
    }
   ],
   "source": [
    "key_missed_rows['dr7objid']"
   ]
  },
  {
   "cell_type": "code",
   "execution_count": 62,
   "metadata": {},
   "outputs": [
    {
     "data": {
      "text/html": [
       "<div>\n",
       "<style scoped>\n",
       "    .dataframe tbody tr th:only-of-type {\n",
       "        vertical-align: middle;\n",
       "    }\n",
       "\n",
       "    .dataframe tbody tr th {\n",
       "        vertical-align: top;\n",
       "    }\n",
       "\n",
       "    .dataframe thead th {\n",
       "        text-align: right;\n",
       "    }\n",
       "</style>\n",
       "<table border=\"1\" class=\"dataframe\">\n",
       "  <thead>\n",
       "    <tr style=\"text-align: right;\">\n",
       "      <th></th>\n",
       "      <th>dr7objid</th>\n",
       "      <th>t06_odd_a14_yes_fraction</th>\n",
       "    </tr>\n",
       "  </thead>\n",
       "  <tbody>\n",
       "  </tbody>\n",
       "</table>\n",
       "</div>"
      ],
      "text/plain": [
       "Empty DataFrame\n",
       "Columns: [dr7objid, t06_odd_a14_yes_fraction]\n",
       "Index: []"
      ]
     },
     "execution_count": 62,
     "metadata": {},
     "output_type": "execute_result"
    }
   ],
   "source": [
    "catalog[catalog['dr7objid'].astype(str).isin(key_missed_rows['dr7objid'].astype(str))]"
   ]
  },
  {
   "cell_type": "markdown",
   "metadata": {},
   "source": [
    "No, all missing from the hart16 catalog - as expected. So the dropped rows are entirely down to catalog changes."
   ]
  },
  {
   "cell_type": "markdown",
   "metadata": {},
   "source": [
    "Finalise the \"venn diagram\" catalog with both ellipse features and cnn features "
   ]
  },
  {
   "cell_type": "code",
   "execution_count": 3,
   "metadata": {},
   "outputs": [
    {
     "name": "stdout",
     "output_type": "stream",
     "text": [
      "61578\n",
      "60715\n"
     ]
    }
   ],
   "source": [
    "ellipse_loc = '/home/walml/repos/morphology-tools/anomaly/data/EllipseFitFeatures_output_back_10_12.parquet'\n",
    "ellipse_df = pd.read_parquet(ellipse_loc)  # galaxy_zoo_example.py applied to full kaggle dataset\n",
    "ellipse_df['GalaxyID'] = ellipse_df.index.astype(str)\n",
    "print(len(ellipse_df))\n",
    "ellipse_df = ellipse_df.dropna(how='any')\n",
    "print(len(ellipse_df))  # should never be fewer than this many galaxies - is the final \"safe\" sample"
   ]
  },
  {
   "cell_type": "code",
   "execution_count": 5,
   "metadata": {},
   "outputs": [],
   "source": [
    "cnn_df = pd.read_parquet('/media/walml/beta1/cnn_features/gz2/cnn_features_concat.parquet', columns=['id_str']) "
   ]
  },
  {
   "cell_type": "code",
   "execution_count": 6,
   "metadata": {},
   "outputs": [],
   "source": [
    "cnn_df['dr7objid'] = cnn_df['id_str'].astype(str)"
   ]
  },
  {
   "cell_type": "code",
   "execution_count": 12,
   "metadata": {},
   "outputs": [],
   "source": [
    "venn_df = pd.merge(kaggle_key_df, ellipse_df, on='GalaxyID', how='inner')"
   ]
  },
  {
   "cell_type": "code",
   "execution_count": 13,
   "metadata": {},
   "outputs": [],
   "source": [
    "venn_df = pd.merge(venn_df, cnn_df, on='dr7objid', how='inner')"
   ]
  },
  {
   "cell_type": "code",
   "execution_count": 14,
   "metadata": {},
   "outputs": [
    {
     "data": {
      "text/plain": [
       "59727"
      ]
     },
     "execution_count": 14,
     "metadata": {},
     "output_type": "execute_result"
    }
   ],
   "source": [
    "len(venn_df)"
   ]
  },
  {
   "cell_type": "code",
   "execution_count": 17,
   "metadata": {},
   "outputs": [],
   "source": [
    "venn_df[['dr7objid', 'GalaxyID', 'Class6.1']].to_csv('/home/walml/repos/morphology-tools/anomaly/data/gz2_galaxies_with_cnn_and_ellipse_features.csv', index=False)"
   ]
  },
  {
   "cell_type": "code",
   "execution_count": 19,
   "metadata": {},
   "outputs": [
    {
     "data": {
      "text/plain": [
       "835"
      ]
     },
     "execution_count": 19,
     "metadata": {},
     "output_type": "execute_result"
    }
   ],
   "source": [
    "(venn_df['Class6.1'] > 0.9).sum()"
   ]
  },
  {
   "cell_type": "code",
   "execution_count": null,
   "metadata": {},
   "outputs": [],
   "source": []
  }
 ],
 "metadata": {
  "kernelspec": {
   "display_name": "Python 3",
   "language": "python",
   "name": "python3"
  },
  "language_info": {
   "codemirror_mode": {
    "name": "ipython",
    "version": 3
   },
   "file_extension": ".py",
   "mimetype": "text/x-python",
   "name": "python",
   "nbconvert_exporter": "python",
   "pygments_lexer": "ipython3",
   "version": "3.7.6"
  }
 },
 "nbformat": 4,
 "nbformat_minor": 4
}
