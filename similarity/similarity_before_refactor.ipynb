{
 "cells": [
  {
   "cell_type": "code",
   "execution_count": 1,
   "metadata": {},
   "outputs": [],
   "source": [
    "import os\n",
    "\n",
    "import pandas as pd\n",
    "import numpy as np\n",
    "import matplotlib.pyplot as plt\n",
    "\n",
    "import matplotlib.ticker as ticker\n",
    "import seaborn as sns\n",
    "sns.set_context('notebook')\n",
    "from sklearn.neighbors import NearestNeighbors\n",
    "from PIL import Image"
   ]
  },
  {
   "cell_type": "code",
   "execution_count": 28,
   "metadata": {},
   "outputs": [],
   "source": [
    "def show_galaxies(df, n_galaxies=36, label=None):\n",
    "    if n_galaxies == 8:\n",
    "        fig, all_axes = plt.subplots(1, 8, figsize=(20, 3.5))\n",
    "    elif n_galaxies == 11:\n",
    "        fig, all_axes = plt.subplots(1, 11, figsize=(20, 4.5))\n",
    "    elif n_galaxies == 12:\n",
    "        fig, axes = plt.subplots(2, 6, figsize=(20, 7))\n",
    "        all_axes = [ax for row in axes for ax in row]\n",
    "    else:\n",
    "        fig, axes = plt.subplots(6, 6, figsize=(20, 20))\n",
    "        all_axes = [ax for row in axes for ax in row]\n",
    "    for ax_n, ax in enumerate(all_axes):\n",
    "        img_loc = os.path.join('/Volumes/beta/decals/png_native/dr5', df.iloc[ax_n]['png_loc'].replace('/media/walml/beta1/decals/png_native/dr5/', ''))\n",
    "        im = Image.open(img_loc)\n",
    "        \n",
    "        crop_pixels = 120\n",
    "        initial_size = 424 # assumed, careful\n",
    "        (left, upper, right, lower) = (crop_pixels, crop_pixels, initial_size-crop_pixels, initial_size-crop_pixels)\n",
    "        im = im.crop((left, upper, right, lower))\n",
    "\n",
    "        ax.imshow(np.array(im))\n",
    "        \n",
    "        if ax_n == 0:\n",
    "            ax.patch.set_edgecolor('green')  \n",
    "            ax.patch.set_linewidth('14')  \n",
    "            # can't just disable axis as also disables border, do manually instead\n",
    "            ax.xaxis.set_major_locator(ticker.NullLocator())\n",
    "            ax.xaxis.set_minor_locator(ticker.NullLocator())\n",
    "            ax.yaxis.set_major_locator(ticker.NullLocator())\n",
    "            ax.yaxis.set_minor_locator(ticker.NullLocator())\n",
    "            if label:\n",
    "                ax.set_ylabel(label, labelpad=7, fontsize=14)\n",
    "        else:\n",
    "            ax.axis('off')\n",
    "            \n",
    "    fig.tight_layout(pad=1.)\n",
    "    \n",
    "    return fig"
   ]
  },
  {
   "cell_type": "markdown",
   "metadata": {},
   "source": [
    "## Load the color embedding"
   ]
  },
  {
   "cell_type": "code",
   "execution_count": 4,
   "metadata": {},
   "outputs": [],
   "source": [
    "# n_components = 10\n",
    "\n",
    "# pca_df = pd.read_parquet('/Users/walml/repos/zoobot/data/results/dr5_color_pca{}_and_ids.parquet'.format(n_components)).reset_index()\n",
    "# embed_cols = [col for col in pca_df if 'feat_' in col]\n",
    "# print(len(pca_df))"
   ]
  },
  {
   "cell_type": "code",
   "execution_count": 5,
   "metadata": {},
   "outputs": [],
   "source": [
    "# catalog_df = pd.read_parquet('/Volumes/beta/galaxy_zoo/decals/catalogs/dr5_nsa_v1_0_0_to_upload.parquet', columns=['iauname', 'png_loc'])\n",
    "# catalog_df = catalog_df.rename(columns={'iauname': 'galaxy_id'})\n",
    "# pca_df = pd.merge(pca_df, catalog_df, on='galaxy_id', how='inner').reset_index()\n",
    "# print(len(pca_df))"
   ]
  },
  {
   "cell_type": "code",
   "execution_count": null,
   "metadata": {},
   "outputs": [],
   "source": []
  },
  {
   "cell_type": "markdown",
   "metadata": {},
   "source": [
    "## Or, load the greyscale version (needs manual embed)"
   ]
  },
  {
   "cell_type": "code",
   "execution_count": 6,
   "metadata": {},
   "outputs": [
    {
     "name": "stdout",
     "output_type": "stream",
     "text": [
      "305657\n",
      "273722\n"
     ]
    }
   ],
   "source": [
    "df = pd.read_parquet('/Volumes/beta/cnn_features/decals/dr5_b0_full_features_and_safe_catalog.parquet')\n",
    "wrong_size = pd.read_parquet('/Users/walml/repos/zoobot_private/gz_decals_volunteers_auto_posteriors_wrongsize.parquet', columns=['iauname', 'wrong_size_statistic', 'wrong_size_warning'])\n",
    "print(len(df))\n",
    "df = pd.merge(df, wrong_size, on='iauname', how='inner')\n",
    "print(len(df))\n",
    "df = df[~df['wrong_size_warning']]\n",
    "df = df.reset_index()"
   ]
  },
  {
   "cell_type": "code",
   "execution_count": 219,
   "metadata": {},
   "outputs": [],
   "source": [
    "from sklearn.decomposition import IncrementalPCA\n",
    "import pickle\n",
    "\n",
    "def get_embed(features, n_components, save=''):\n",
    "    embedder = IncrementalPCA(n_components=n_components)\n",
    "    embed = embedder.fit_transform(features) \n",
    "     # no train/test needed as unsupervised\n",
    "#     if len(save) > 0:\n",
    "#         plt.plot(embedder.explained_variance_)  # 5 would probably do?\n",
    "#         plt.savefig(save)\n",
    "#         plt.close()\n",
    "    print(embedder.explained_variance_ratio_)\n",
    "    print(embedder.explained_variance_ratio_.sum())\n",
    "    return embed\n",
    "\n",
    "feature_cols = [col for col in df if 'feat_' in col]\n",
    "features = df[feature_cols].values\n"
   ]
  },
  {
   "cell_type": "code",
   "execution_count": null,
   "metadata": {},
   "outputs": [],
   "source": []
  },
  {
   "cell_type": "code",
   "execution_count": 220,
   "metadata": {},
   "outputs": [],
   "source": [
    "n_components = 10"
   ]
  },
  {
   "cell_type": "code",
   "execution_count": 222,
   "metadata": {},
   "outputs": [
    {
     "name": "stdout",
     "output_type": "stream",
     "text": [
      "[0.33243682 0.14899685 0.09159593 0.06734716 0.06648994 0.04236355\n",
      " 0.0303928  0.02884448 0.01898969 0.01681282]\n",
      "0.8442700447879479\n"
     ]
    }
   ],
   "source": [
    "X = get_embed(features, n_components=n_components)\n",
    "# with open('pc{}_embed_for_similarity_nb.pickle'.format(n_components), 'wb') as f:\n",
    "#     pickle.dump(X, f)"
   ]
  },
  {
   "cell_type": "code",
   "execution_count": 10,
   "metadata": {},
   "outputs": [],
   "source": [
    "with open('pc{}_embed_for_similarity_nb.pickle'.format(n_components), 'rb') as f:\n",
    "    embed = pickle.load(f)"
   ]
  },
  {
   "cell_type": "code",
   "execution_count": 11,
   "metadata": {},
   "outputs": [],
   "source": [
    "pca_df = pd.DataFrame(data=embed, columns=['feat_{}_pca'.format(n) for n in range(n_components)])\n",
    "pca_df['galaxy_id'] = df['iauname']\n",
    "pca_df['png_loc'] = df['png_loc']"
   ]
  },
  {
   "cell_type": "code",
   "execution_count": null,
   "metadata": {},
   "outputs": [],
   "source": []
  },
  {
   "cell_type": "code",
   "execution_count": null,
   "metadata": {},
   "outputs": [],
   "source": []
  },
  {
   "cell_type": "code",
   "execution_count": null,
   "metadata": {},
   "outputs": [],
   "source": []
  },
  {
   "cell_type": "code",
   "execution_count": 12,
   "metadata": {},
   "outputs": [
    {
     "name": "stdout",
     "output_type": "stream",
     "text": [
      "110764\n",
      "93900\n"
     ]
    }
   ],
   "source": [
    "tags_df = pd.read_csv('/Users/walml/repos/recommender_hack/tags_for_shoaib.csv')\n",
    "print(len(tags_df))\n",
    "tags_df = tags_df[tags_df['iauname'].isin(pca_df['galaxy_id'])]\n",
    "print(len(tags_df))"
   ]
  },
  {
   "cell_type": "code",
   "execution_count": 195,
   "metadata": {},
   "outputs": [],
   "source": [
    "join = {\n",
    "    'star-forming': 'starforming',\n",
    "    'starformation': 'starforming',\n",
    "    'star_forming': 'starforming',\n",
    "    'lenticular-galaxy': 'lenticular', \n",
    "    'ringed': 'ring',\n",
    "    'interacting': 'interaction',\n",
    "    'disturbance': 'disturbed',\n",
    "    'bright-core': 'core',\n",
    "    'dusty': 'dust-lane',\n",
    "    'dust': 'dust-lane',\n",
    "    'dustlane': 'dust-lane',\n",
    "    'foreground-star': 'star',\n",
    "    'central-core': 'core',\n",
    "    'wrong-size': 'wrong_size',\n",
    "    'ringed': 'ring',\n",
    "    'interaction': 'interacting',\n",
    "    'overlap': 'overlapping',\n",
    "    'tidal-debris': 'tidal',\n",
    "    'merger': 'merging'\n",
    "}\n",
    "\n",
    "# pairs_to_replace = [\n",
    "#     ('star-forming', 'starforming'),\n",
    "#     ('starburst', 'starforming'),\n",
    "#     ('starformation', 'starforming'),\n",
    "#     ('dust-lane', 'dustlane'),\n",
    "#     ('dust', 'dustlane'),\n",
    "#     ('dusty', 'dustlane'),\n",
    "#     ('edge-on', 'edgeon'),\n",
    "#     ('seyfert-1-galaxy', 'seyfert-1'),\n",
    "#     ('interaction', 'interacting'),\n",
    "#     ('overlapping-object', 'overlap'),\n",
    "#     ('overlapping', 'overlap'),\n",
    "#     ('central-core', 'core'),\n",
    "#     ('ringed', 'ring'),\n",
    "#     ('wrong_size', 'wrong-size'),\n",
    "#     ('tidal-debris', 'tidal'),\n",
    "#     ('objects_that_need_more_research', 'need_more_research')\n",
    "# ]\n",
    "\n",
    "tags_df['tag_clean'] = tags_df['tag'].apply(lambda x: join.get(x, x))  # pretty smug about this - update only if it's in the dict"
   ]
  },
  {
   "cell_type": "code",
   "execution_count": 196,
   "metadata": {},
   "outputs": [
    {
     "data": {
      "text/plain": [
       "8953"
      ]
     },
     "execution_count": 196,
     "metadata": {},
     "output_type": "execute_result"
    }
   ],
   "source": [
    "(tags_df['tag_clean'] != tags_df['tag']).sum()"
   ]
  },
  {
   "cell_type": "code",
   "execution_count": 197,
   "metadata": {},
   "outputs": [
    {
     "data": {
      "text/html": [
       "<div>\n",
       "<style scoped>\n",
       "    .dataframe tbody tr th:only-of-type {\n",
       "        vertical-align: middle;\n",
       "    }\n",
       "\n",
       "    .dataframe tbody tr th {\n",
       "        vertical-align: top;\n",
       "    }\n",
       "\n",
       "    .dataframe thead th {\n",
       "        text-align: right;\n",
       "    }\n",
       "</style>\n",
       "<table border=\"1\" class=\"dataframe\">\n",
       "  <thead>\n",
       "    <tr style=\"text-align: right;\">\n",
       "      <th></th>\n",
       "      <th>tag</th>\n",
       "      <th>tag_clean</th>\n",
       "    </tr>\n",
       "  </thead>\n",
       "  <tbody>\n",
       "    <tr>\n",
       "      <th>2</th>\n",
       "      <td>overlap</td>\n",
       "      <td>overlapping</td>\n",
       "    </tr>\n",
       "    <tr>\n",
       "      <th>10</th>\n",
       "      <td>merger</td>\n",
       "      <td>merging</td>\n",
       "    </tr>\n",
       "    <tr>\n",
       "      <th>17</th>\n",
       "      <td>merger</td>\n",
       "      <td>merging</td>\n",
       "    </tr>\n",
       "    <tr>\n",
       "      <th>134</th>\n",
       "      <td>overlap</td>\n",
       "      <td>overlapping</td>\n",
       "    </tr>\n",
       "    <tr>\n",
       "      <th>135</th>\n",
       "      <td>dustlane</td>\n",
       "      <td>dust-lane</td>\n",
       "    </tr>\n",
       "    <tr>\n",
       "      <th>...</th>\n",
       "      <td>...</td>\n",
       "      <td>...</td>\n",
       "    </tr>\n",
       "    <tr>\n",
       "      <th>110709</th>\n",
       "      <td>merger</td>\n",
       "      <td>merging</td>\n",
       "    </tr>\n",
       "    <tr>\n",
       "      <th>110710</th>\n",
       "      <td>overlap</td>\n",
       "      <td>overlapping</td>\n",
       "    </tr>\n",
       "    <tr>\n",
       "      <th>110736</th>\n",
       "      <td>ringed</td>\n",
       "      <td>ring</td>\n",
       "    </tr>\n",
       "    <tr>\n",
       "      <th>110755</th>\n",
       "      <td>merger</td>\n",
       "      <td>merging</td>\n",
       "    </tr>\n",
       "    <tr>\n",
       "      <th>110763</th>\n",
       "      <td>merger</td>\n",
       "      <td>merging</td>\n",
       "    </tr>\n",
       "  </tbody>\n",
       "</table>\n",
       "<p>8953 rows × 2 columns</p>\n",
       "</div>"
      ],
      "text/plain": [
       "             tag    tag_clean\n",
       "2        overlap  overlapping\n",
       "10        merger      merging\n",
       "17        merger      merging\n",
       "134      overlap  overlapping\n",
       "135     dustlane    dust-lane\n",
       "...          ...          ...\n",
       "110709    merger      merging\n",
       "110710   overlap  overlapping\n",
       "110736    ringed         ring\n",
       "110755    merger      merging\n",
       "110763    merger      merging\n",
       "\n",
       "[8953 rows x 2 columns]"
      ]
     },
     "execution_count": 197,
     "metadata": {},
     "output_type": "execute_result"
    }
   ],
   "source": [
    "tag_changed = tags_df['tag_clean'] != tags_df['tag']\n",
    "tags_df[tag_changed][['tag', 'tag_clean']]"
   ]
  },
  {
   "cell_type": "code",
   "execution_count": 198,
   "metadata": {},
   "outputs": [],
   "source": [
    "# (tags_df['tag'] == 'star-forming').sum()"
   ]
  },
  {
   "cell_type": "code",
   "execution_count": 199,
   "metadata": {},
   "outputs": [],
   "source": [
    "# ml_df = pd.read_parquet('TODO')"
   ]
  },
  {
   "cell_type": "markdown",
   "metadata": {},
   "source": [
    "tags_df['tag_clean'].value_counts()[:40]### Clean up tags"
   ]
  },
  {
   "cell_type": "code",
   "execution_count": 200,
   "metadata": {},
   "outputs": [],
   "source": [
    "# tags_df['tag'].value_counts()[:40]"
   ]
  },
  {
   "cell_type": "code",
   "execution_count": 201,
   "metadata": {},
   "outputs": [
    {
     "data": {
      "text/plain": [
       "starforming                        10586\n",
       "spiral                              6819\n",
       "agn                                 6212\n",
       "starburst                           4318\n",
       "disturbed                           3638\n",
       "ring                                3022\n",
       "merging                             2728\n",
       "overlapping                         2250\n",
       "edge-on                             2177\n",
       "bar                                 2087\n",
       "dust-lane                           1897\n",
       "barred-spiral                       1842\n",
       "decals                              1662\n",
       "sdss                                1586\n",
       "irregular                           1450\n",
       "tidal                                862\n",
       "asteroid                             824\n",
       "elliptical                           773\n",
       "lenticular                           575\n",
       "broadline                            542\n",
       "core                                 530\n",
       "spiral2                              517\n",
       "hot                                  499\n",
       "h-alpha-peak                         481\n",
       "star                                 446\n",
       "wrong_size                           420\n",
       "infra-red-source                     402\n",
       "galaxy                               399\n",
       "artifact                             383\n",
       "diffuse                              346\n",
       "emission-line-galaxy                 330\n",
       "objects_that_need_more_research      322\n",
       "liner-type-agn                       311\n",
       "edgeon                               310\n",
       "seyfert-1-galaxy                     287\n",
       "radio-galaxy                         287\n",
       "barlens                              285\n",
       "strong-bar                           278\n",
       "main-belt                            275\n",
       "fuzzy-spiral                         270\n",
       "Name: tag_clean, dtype: int64"
      ]
     },
     "execution_count": 201,
     "metadata": {},
     "output_type": "execute_result"
    }
   ],
   "source": [
    "tags_df['tag_clean'].value_counts()[:40]"
   ]
  },
  {
   "cell_type": "code",
   "execution_count": 162,
   "metadata": {},
   "outputs": [],
   "source": [
    "# tags_df['tag_clean'].value_counts()[40:80]"
   ]
  },
  {
   "cell_type": "code",
   "execution_count": 204,
   "metadata": {},
   "outputs": [],
   "source": [
    "skip_q = ['spiral', 'edge-on', 'bar', 'barred-spiral', 'elliptical', 'spiral2', 'galaxy', 'edgeon', 'strong-bar', 'barred', 'smooth', 'spiral-2', 'merging']\n",
    "skip_meta = ['decals', 'sdss', 'broadline', 'agn', 'staburst', 'h-alpha-peak', 'infra-red-source', 'liner-type-agn', 'emission-line-galaxy', 'radio_galaxy', 'seyfert-1-galaxy', 'seyfert-1', 'radio-source', 'seyfert-2', 'disk', 'seyfert-2-galaxy', 'qso', 'radio-galaxy']\n",
    "skip_color = ['red-galaxy', 'red', 'blue', 'green']\n",
    "\n",
    "# wavelength_tags = ['agn', 'seyfert-1', 'infra-red-source', 'liner-type-agn', 'radio_galaxy', 'seyfert-2', 'seyfert-2-galaxy', 'red-galaxy', 'radio-source', 'blue', 'green', 'qso', 'emission-line-galaxy', 'radio-galaxy', 'h-alpha-peak', 'broadline']\n",
    "# question_tags = ['spiral', 'edgeon', 'elliptical', 'merger', 'bar', 'barred-spiral', 'merging', 'spiral2', 'spiral-2', 'strong-bar', 'barred', 'smooth', 'disk', 'disturbance']\n",
    "# metadata_tags = ['decals', 'sdss', 'galaxy']\n",
    "# duplicate_tags = ['fuzzy', 'overlapping-star', 'main-belt']\n",
    "\n",
    "# tags_to_skip = wavelength_tags + question_tags + metadata_tags + duplicate_tags\n",
    "\n",
    "tags_to_skip = set(skip_q).union(set(skip_meta)).union(set(skip_color))\n",
    "top_tags = [tag for tag in list(tags_df['tag_clean'].value_counts().index) if tag not in tags_to_skip][:50]"
   ]
  },
  {
   "cell_type": "code",
   "execution_count": 205,
   "metadata": {},
   "outputs": [
    {
     "data": {
      "text/plain": [
       "['starforming',\n",
       " 'starburst',\n",
       " 'disturbed',\n",
       " 'ring',\n",
       " 'overlapping',\n",
       " 'dust-lane',\n",
       " 'irregular',\n",
       " 'tidal',\n",
       " 'asteroid',\n",
       " 'lenticular',\n",
       " 'core',\n",
       " 'hot',\n",
       " 'star',\n",
       " 'wrong_size',\n",
       " 'artifact',\n",
       " 'diffuse',\n",
       " 'objects_that_need_more_research']"
      ]
     },
     "execution_count": 205,
     "metadata": {},
     "output_type": "execute_result"
    }
   ],
   "source": [
    "top_tags[:17]"
   ]
  },
  {
   "cell_type": "code",
   "execution_count": 206,
   "metadata": {},
   "outputs": [],
   "source": [
    "# top_tags.sort()\n",
    "# top_tags"
   ]
  },
  {
   "cell_type": "markdown",
   "metadata": {},
   "source": [
    "### Count tags"
   ]
  },
  {
   "cell_type": "code",
   "execution_count": 207,
   "metadata": {},
   "outputs": [],
   "source": [
    "tag_counts_by_iauname = {}\n",
    "\n",
    "for tag in top_tags:\n",
    "    tag_counts_this_tag = tags_df.query(f'tag == \"{tag}\"').groupby('iauname').agg({'tag': 'count'}).reset_index()\n",
    "    tag_counts_by_iauname[tag] = tag_counts_this_tag"
   ]
  },
  {
   "cell_type": "code",
   "execution_count": 208,
   "metadata": {},
   "outputs": [],
   "source": [
    "top_galaxy_by_tag = {}\n",
    "for tag, iauname_counts in tag_counts_by_iauname.items():\n",
    "    top_galaxy_by_tag[tag] = list(iauname_counts.sort_values('tag')['iauname'])[-1]"
   ]
  },
  {
   "cell_type": "markdown",
   "metadata": {},
   "source": [
    "### Search for those galaxies"
   ]
  },
  {
   "cell_type": "code",
   "execution_count": 210,
   "metadata": {},
   "outputs": [],
   "source": [
    "def get_neighbors(X, query_index, n_neighbors, metric):\n",
    "    nbrs = NearestNeighbors(n_neighbors=n_neighbors, algorithm='ball_tree', metric=metric).fit(X)\n",
    "    distances, indices = nbrs.kneighbors(X[query_index].reshape(1, -1))\n",
    "#     print(something)\n",
    "    return np.squeeze(indices)  # ordered by similarity, will include itself"
   ]
  },
  {
   "cell_type": "code",
   "execution_count": 211,
   "metadata": {},
   "outputs": [
    {
     "name": "stdout",
     "output_type": "stream",
     "text": [
      "/Users/walml/repos/morphology-tools/notebooks\n"
     ]
    }
   ],
   "source": [
    "!pwd"
   ]
  },
  {
   "cell_type": "code",
   "execution_count": 213,
   "metadata": {},
   "outputs": [],
   "source": [
    "max_galaxies = 8\n",
    "embed_cols = [col for col in pca_df if 'feat_' in col]\n",
    "embedding = pca_df[embed_cols].values\n",
    "\n",
    "for tag_n, tag in enumerate(top_tags[:18]):\n",
    "#     print(tag)\n",
    "#     print(top_galaxy_by_tag[tag])\n",
    "    galaxy_index = np.argmax(pca_df['galaxy_id'] == top_galaxy_by_tag[tag])\n",
    "    assert galaxy_index # != 0\n",
    "    indices = get_neighbors(embedding, galaxy_index, n_neighbors=max_galaxies, metric='euclidean')\n",
    "#     print(indices)\n",
    "#     break\n",
    "    tag_label = f'\"{tag.capitalize()}\"'.replace('-', ' ').replace('_', ' ')\n",
    "    fig = show_galaxies(pca_df.iloc[np.squeeze(indices)], n_galaxies=max_galaxies, label=tag_label)  # first is itself\n",
    "    \n",
    "#     to save:\n",
    "    # fig.savefig(f'/Users/walml/repos/morphology-tools/notebooks/similar/pca10/similar_{tag_n}_tag_{tag}_n{max_galaxies}_pca10_talk.png')\n",
    "    plt.close()"
   ]
  },
  {
   "cell_type": "code",
   "execution_count": null,
   "metadata": {},
   "outputs": [],
   "source": [
    "\n"
   ]
  },
  {
   "cell_type": "code",
   "execution_count": null,
   "metadata": {},
   "outputs": [],
   "source": [
    "# referee suggests investigating how similarity in labels maps to similarity in representation\n",
    "# e.g. are the most similar labelled galaxies also the most similar in representation\n",
    "# specifically, for a query galaxy, compare those"
   ]
  },
  {
   "cell_type": "markdown",
   "metadata": {},
   "source": [
    "\"are the most similar images returned all belonging to similar human-labelled classes, and the model is simply picking\n",
    "out things that end up in the same classification bucket. Or is learning that images that were given different human labels nevertheless end up near each other in representation space?\"\n",
    "\n",
    "I suspect that similar labels must end up in similar representation spaces (that's how the classifier works, after all), and that different human labels should not end up near each other (unless that label is significantly wrong - could check this)\n",
    "\n",
    "The \"general\" claim is that for galaxies of equal votes, they are more similar in representation if they are visually similar beyond the labels"
   ]
  },
  {
   "cell_type": "code",
   "execution_count": null,
   "metadata": {},
   "outputs": [],
   "source": []
  },
  {
   "cell_type": "code",
   "execution_count": null,
   "metadata": {},
   "outputs": [],
   "source": []
  },
  {
   "cell_type": "code",
   "execution_count": null,
   "metadata": {},
   "outputs": [],
   "source": []
  },
  {
   "cell_type": "code",
   "execution_count": null,
   "metadata": {},
   "outputs": [],
   "source": []
  },
  {
   "cell_type": "code",
   "execution_count": null,
   "metadata": {},
   "outputs": [],
   "source": []
  },
  {
   "cell_type": "code",
   "execution_count": null,
   "metadata": {},
   "outputs": [],
   "source": []
  },
  {
   "cell_type": "code",
   "execution_count": null,
   "metadata": {},
   "outputs": [],
   "source": [
    "assert False"
   ]
  },
  {
   "cell_type": "code",
   "execution_count": null,
   "metadata": {},
   "outputs": [],
   "source": [
    "index_0 = 167864\n",
    "index_1 = 110058"
   ]
  },
  {
   "cell_type": "code",
   "execution_count": null,
   "metadata": {},
   "outputs": [],
   "source": [
    "embedding[index_0]"
   ]
  },
  {
   "cell_type": "code",
   "execution_count": null,
   "metadata": {},
   "outputs": [],
   "source": [
    "embedding[index_1]"
   ]
  },
  {
   "cell_type": "code",
   "execution_count": null,
   "metadata": {},
   "outputs": [],
   "source": [
    "distances = np.zeros(len(embedding))\n",
    "for n, index in enumerate(range(len(embedding))):\n",
    "    distances[n] = np.sum(np.sqrt(np.abs(embedding[index_1] ** 2 - embedding[index] ** 2)))"
   ]
  },
  {
   "cell_type": "code",
   "execution_count": null,
   "metadata": {},
   "outputs": [],
   "source": [
    "np.argsort(distances)[:5]"
   ]
  },
  {
   "cell_type": "code",
   "execution_count": null,
   "metadata": {},
   "outputs": [],
   "source": [
    "np.sum(np.sqrt(np.abs(embedding[index_1] ** 2 - embedding[168590] ** 2)))"
   ]
  },
  {
   "cell_type": "code",
   "execution_count": null,
   "metadata": {},
   "outputs": [],
   "source": [
    "# show_galaxies(pca_df.iloc[np.argsort(distances)[:5]])"
   ]
  },
  {
   "cell_type": "code",
   "execution_count": null,
   "metadata": {},
   "outputs": [],
   "source": [
    "\n",
    "# for tag in top_tags:\n",
    "#     iauname = top_galaxy_by_tag[tag]\n",
    "#     query_index = np.argmax(pca_df['galaxy_id'] == iauname)\n",
    "#     neighbor_indices = get_neighbors(pca_df[feature_cols].values, query_index, n_neighbors=max_galaxies, metric='manhattan')\n",
    "#     fig = show_galaxies(pca_df.iloc[neighbor_indices])\n",
    "    \n",
    "#     tag_label = f'\"{tag.capitalize()}\"'.replace('-', ' ').replace('_', ' ')\n",
    "#     fig = show_galaxies(pca_df.iloc[np.squeeze(indices)], n_galaxies=n_galaxies, label=tag_label)  # first is itself\n",
    "#     fig.savefig(f'similar/pca10/similar_{tag_n}_tag_{tag}_n{n_galaxies}_pca10_talk.png'.format(n_galaxies))\n",
    "# #     fig.savefig(f'similar/features/similar_tag_{tag}_n{n_galaxies}_features.png'.format(n_galaxies))\n",
    "# #     plt.close()"
   ]
  },
  {
   "cell_type": "code",
   "execution_count": null,
   "metadata": {},
   "outputs": [],
   "source": []
  },
  {
   "cell_type": "code",
   "execution_count": null,
   "metadata": {},
   "outputs": [],
   "source": []
  },
  {
   "cell_type": "code",
   "execution_count": null,
   "metadata": {},
   "outputs": [],
   "source": []
  }
 ],
 "metadata": {
  "kernelspec": {
   "display_name": "Python 3 (ipykernel)",
   "language": "python",
   "name": "python3"
  },
  "language_info": {
   "codemirror_mode": {
    "name": "ipython",
    "version": 3
   },
   "file_extension": ".py",
   "mimetype": "text/x-python",
   "name": "python",
   "nbconvert_exporter": "python",
   "pygments_lexer": "ipython3",
   "version": "3.7.11"
  }
 },
 "nbformat": 4,
 "nbformat_minor": 4
}
