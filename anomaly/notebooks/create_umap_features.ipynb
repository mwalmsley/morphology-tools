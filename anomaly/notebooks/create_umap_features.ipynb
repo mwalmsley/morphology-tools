{
 "cells": [
  {
   "cell_type": "code",
   "execution_count": 1,
   "id": "16829492-39ea-419d-8077-9068eca6b60f",
   "metadata": {},
   "outputs": [
    {
     "name": "stderr",
     "output_type": "stream",
     "text": [
      "2022-01-04 14:13:43.415208: W tensorflow/stream_executor/platform/default/dso_loader.cc:64] Could not load dynamic library 'libcudart.so.11.0'; dlerror: libcudart.so.11.0: cannot open shared object file: No such file or directory\n",
      "2022-01-04 14:13:43.415229: I tensorflow/stream_executor/cuda/cudart_stub.cc:29] Ignore above cudart dlerror if you do not have a GPU set up on your machine.\n"
     ]
    }
   ],
   "source": [
    "import pandas as pd\n",
    "import numpy as np\n",
    "import matplotlib.pyplot as plt\n",
    "import umap\n",
    "\n",
    "from PIL import Image"
   ]
  },
  {
   "cell_type": "code",
   "execution_count": 3,
   "id": "2daf2592-4d7f-4d7a-86de-db44617a5180",
   "metadata": {},
   "outputs": [
    {
     "data": {
      "text/plain": [
       "59727"
      ]
     },
     "execution_count": 3,
     "metadata": {},
     "output_type": "execute_result"
    }
   ],
   "source": [
    "df = pd.read_csv('/home/walml/repos/morphology-tools/temp_latest_forest_df.csv')\n",
    "len(df)"
   ]
  },
  {
   "cell_type": "code",
   "execution_count": 4,
   "id": "4fef4b62-d6d3-4872-bda2-bbf12dde395b",
   "metadata": {},
   "outputs": [
    {
     "data": {
      "text/html": [
       "<div>\n",
       "<style scoped>\n",
       "    .dataframe tbody tr th:only-of-type {\n",
       "        vertical-align: middle;\n",
       "    }\n",
       "\n",
       "    .dataframe tbody tr th {\n",
       "        vertical-align: top;\n",
       "    }\n",
       "\n",
       "    .dataframe thead th {\n",
       "        text-align: right;\n",
       "    }\n",
       "</style>\n",
       "<table border=\"1\" class=\"dataframe\">\n",
       "  <thead>\n",
       "    <tr style=\"text-align: right;\">\n",
       "      <th></th>\n",
       "      <th>Residual_90</th>\n",
       "      <th>Residual_80</th>\n",
       "      <th>Residual_70</th>\n",
       "      <th>Residual_60</th>\n",
       "      <th>Residual_50</th>\n",
       "      <th>Residual_0</th>\n",
       "      <th>Offset_90</th>\n",
       "      <th>Offset_80</th>\n",
       "      <th>Offset_70</th>\n",
       "      <th>Offset_60</th>\n",
       "      <th>...</th>\n",
       "      <th>Class10.1</th>\n",
       "      <th>Class10.2</th>\n",
       "      <th>Class10.3</th>\n",
       "      <th>Class11.1</th>\n",
       "      <th>Class11.2</th>\n",
       "      <th>Class11.3</th>\n",
       "      <th>Class11.4</th>\n",
       "      <th>Class11.5</th>\n",
       "      <th>Class11.6</th>\n",
       "      <th>t06_odd_a14_yes_fraction_kaggle</th>\n",
       "    </tr>\n",
       "  </thead>\n",
       "  <tbody>\n",
       "    <tr>\n",
       "      <th>0</th>\n",
       "      <td>0.000868</td>\n",
       "      <td>0.002130</td>\n",
       "      <td>0.004461</td>\n",
       "      <td>0.005991</td>\n",
       "      <td>0.010535</td>\n",
       "      <td>0.043532</td>\n",
       "      <td>0.0</td>\n",
       "      <td>0.519510</td>\n",
       "      <td>2.558382</td>\n",
       "      <td>3.257949</td>\n",
       "      <td>...</td>\n",
       "      <td>0.279952</td>\n",
       "      <td>0.138445</td>\n",
       "      <td>0.000000</td>\n",
       "      <td>0.000000</td>\n",
       "      <td>0.092886</td>\n",
       "      <td>0.0</td>\n",
       "      <td>0.0</td>\n",
       "      <td>0.0</td>\n",
       "      <td>0.325512</td>\n",
       "      <td>0.054453</td>\n",
       "    </tr>\n",
       "    <tr>\n",
       "      <th>1</th>\n",
       "      <td>0.000884</td>\n",
       "      <td>0.003260</td>\n",
       "      <td>0.003799</td>\n",
       "      <td>0.004027</td>\n",
       "      <td>0.005774</td>\n",
       "      <td>0.087014</td>\n",
       "      <td>0.0</td>\n",
       "      <td>2.205243</td>\n",
       "      <td>1.046447</td>\n",
       "      <td>1.878556</td>\n",
       "      <td>...</td>\n",
       "      <td>0.000000</td>\n",
       "      <td>0.131378</td>\n",
       "      <td>0.459950</td>\n",
       "      <td>0.000000</td>\n",
       "      <td>0.591328</td>\n",
       "      <td>0.0</td>\n",
       "      <td>0.0</td>\n",
       "      <td>0.0</td>\n",
       "      <td>0.000000</td>\n",
       "      <td>0.189149</td>\n",
       "    </tr>\n",
       "    <tr>\n",
       "      <th>2</th>\n",
       "      <td>0.001240</td>\n",
       "      <td>0.003004</td>\n",
       "      <td>0.005173</td>\n",
       "      <td>0.007927</td>\n",
       "      <td>0.016231</td>\n",
       "      <td>0.082708</td>\n",
       "      <td>0.0</td>\n",
       "      <td>0.926676</td>\n",
       "      <td>2.401440</td>\n",
       "      <td>0.987059</td>\n",
       "      <td>...</td>\n",
       "      <td>0.000000</td>\n",
       "      <td>0.000000</td>\n",
       "      <td>0.000000</td>\n",
       "      <td>0.000000</td>\n",
       "      <td>0.000000</td>\n",
       "      <td>0.0</td>\n",
       "      <td>0.0</td>\n",
       "      <td>0.0</td>\n",
       "      <td>0.000000</td>\n",
       "      <td>0.000000</td>\n",
       "    </tr>\n",
       "    <tr>\n",
       "      <th>3</th>\n",
       "      <td>0.000712</td>\n",
       "      <td>0.002820</td>\n",
       "      <td>0.004650</td>\n",
       "      <td>0.008038</td>\n",
       "      <td>0.008700</td>\n",
       "      <td>0.036078</td>\n",
       "      <td>0.0</td>\n",
       "      <td>4.413643</td>\n",
       "      <td>5.084836</td>\n",
       "      <td>8.874831</td>\n",
       "      <td>...</td>\n",
       "      <td>0.094549</td>\n",
       "      <td>0.000000</td>\n",
       "      <td>0.094549</td>\n",
       "      <td>0.189098</td>\n",
       "      <td>0.000000</td>\n",
       "      <td>0.0</td>\n",
       "      <td>0.0</td>\n",
       "      <td>0.0</td>\n",
       "      <td>0.000000</td>\n",
       "      <td>0.320398</td>\n",
       "    </tr>\n",
       "    <tr>\n",
       "      <th>4</th>\n",
       "      <td>0.000996</td>\n",
       "      <td>0.002776</td>\n",
       "      <td>0.003549</td>\n",
       "      <td>0.004183</td>\n",
       "      <td>0.004945</td>\n",
       "      <td>0.044906</td>\n",
       "      <td>0.0</td>\n",
       "      <td>0.020824</td>\n",
       "      <td>1.214960</td>\n",
       "      <td>1.086090</td>\n",
       "      <td>...</td>\n",
       "      <td>0.000000</td>\n",
       "      <td>0.000000</td>\n",
       "      <td>0.000000</td>\n",
       "      <td>0.000000</td>\n",
       "      <td>0.000000</td>\n",
       "      <td>0.0</td>\n",
       "      <td>0.0</td>\n",
       "      <td>0.0</td>\n",
       "      <td>0.000000</td>\n",
       "      <td>0.029383</td>\n",
       "    </tr>\n",
       "  </tbody>\n",
       "</table>\n",
       "<p>5 rows × 63 columns</p>\n",
       "</div>"
      ],
      "text/plain": [
       "   Residual_90  Residual_80  Residual_70  Residual_60  Residual_50  \\\n",
       "0     0.000868     0.002130     0.004461     0.005991     0.010535   \n",
       "1     0.000884     0.003260     0.003799     0.004027     0.005774   \n",
       "2     0.001240     0.003004     0.005173     0.007927     0.016231   \n",
       "3     0.000712     0.002820     0.004650     0.008038     0.008700   \n",
       "4     0.000996     0.002776     0.003549     0.004183     0.004945   \n",
       "\n",
       "   Residual_0  Offset_90  Offset_80  Offset_70  Offset_60  ...  Class10.1  \\\n",
       "0    0.043532        0.0   0.519510   2.558382   3.257949  ...   0.279952   \n",
       "1    0.087014        0.0   2.205243   1.046447   1.878556  ...   0.000000   \n",
       "2    0.082708        0.0   0.926676   2.401440   0.987059  ...   0.000000   \n",
       "3    0.036078        0.0   4.413643   5.084836   8.874831  ...   0.094549   \n",
       "4    0.044906        0.0   0.020824   1.214960   1.086090  ...   0.000000   \n",
       "\n",
       "   Class10.2  Class10.3  Class11.1  Class11.2  Class11.3  Class11.4  \\\n",
       "0   0.138445   0.000000   0.000000   0.092886        0.0        0.0   \n",
       "1   0.131378   0.459950   0.000000   0.591328        0.0        0.0   \n",
       "2   0.000000   0.000000   0.000000   0.000000        0.0        0.0   \n",
       "3   0.000000   0.094549   0.189098   0.000000        0.0        0.0   \n",
       "4   0.000000   0.000000   0.000000   0.000000        0.0        0.0   \n",
       "\n",
       "   Class11.5  Class11.6  t06_odd_a14_yes_fraction_kaggle  \n",
       "0        0.0   0.325512                         0.054453  \n",
       "1        0.0   0.000000                         0.189149  \n",
       "2        0.0   0.000000                         0.000000  \n",
       "3        0.0   0.000000                         0.320398  \n",
       "4        0.0   0.000000                         0.029383  \n",
       "\n",
       "[5 rows x 63 columns]"
      ]
     },
     "execution_count": 4,
     "metadata": {},
     "output_type": "execute_result"
    }
   ],
   "source": [
    "df.head()"
   ]
  },
  {
   "cell_type": "code",
   "execution_count": 5,
   "id": "6a9e571c-f6f1-409b-bb70-27ec3e38ea9a",
   "metadata": {},
   "outputs": [
    {
     "data": {
      "text/plain": [
       "'/home/walml/repos/morphology-tools/anomaly/data/images_training_rev1/100008.jpg'"
      ]
     },
     "execution_count": 5,
     "metadata": {},
     "output_type": "execute_result"
    }
   ],
   "source": [
    "df['file_loc'] = df['objid'].apply(lambda x: '/home/walml/repos/morphology-tools/anomaly/data/images_training_rev1/' + str(x) + '.jpg')\n",
    "df['file_loc'].iloc[0]"
   ]
  },
  {
   "cell_type": "code",
   "execution_count": null,
   "id": "a8426a90-c1c5-4619-befb-c6c19613bf99",
   "metadata": {},
   "outputs": [],
   "source": []
  },
  {
   "cell_type": "code",
   "execution_count": 5,
   "id": "427a6e5a-1f11-43ca-93c2-93a381211a1a",
   "metadata": {},
   "outputs": [],
   "source": [
    "# df = df[:1000]"
   ]
  },
  {
   "cell_type": "code",
   "execution_count": null,
   "id": "6543cbf0-deb9-43f7-8d3b-31514126e712",
   "metadata": {},
   "outputs": [],
   "source": []
  },
  {
   "cell_type": "code",
   "execution_count": 6,
   "id": "bd60e009-c487-4a5c-bc98-9d645300a3f7",
   "metadata": {},
   "outputs": [
    {
     "data": {
      "image/png": "[encoded data removed]",
      "text/plain": [
       "<PIL.Image.Image image mode=RGB size=224x224 at 0x7F218BEF0A90>"
      ]
     },
     "execution_count": 6,
     "metadata": {},
     "output_type": "execute_result"
    }
   ],
   "source": [
    "im = Image.open(df.iloc[0]['file_loc']).resize((300, 300)).crop((38, 38, 300-38, 300-38))\n",
    "im"
   ]
  },
  {
   "cell_type": "code",
   "execution_count": 7,
   "id": "acfee31a-8d38-40bc-8886-acf72d3f3133",
   "metadata": {},
   "outputs": [],
   "source": [
    "def load_image(loc, final_resize=128):\n",
    "    return np.array(Image.open(loc).resize((300, 300)).crop((38, 38, 300-38, 300-38)).resize((final_resize, final_resize))).mean(axis=2)"
   ]
  },
  {
   "cell_type": "code",
   "execution_count": 8,
   "id": "5d912a9c-6029-4681-bdd4-6fc17145a12b",
   "metadata": {},
   "outputs": [],
   "source": [
    "final_resize = 64\n",
    "images = np.zeros((len(df), final_resize, final_resize), dtype=np.float32)\n",
    "\n",
    "for loc_n, loc in enumerate(df['file_loc']):\n",
    "    images[loc_n] = load_image(loc, final_resize=final_resize)"
   ]
  },
  {
   "cell_type": "code",
   "execution_count": 9,
   "id": "260aaa34-805a-4812-9116-feaa06f8778b",
   "metadata": {},
   "outputs": [
    {
     "data": {
      "text/plain": [
       "(59727, 64, 64)"
      ]
     },
     "execution_count": 9,
     "metadata": {},
     "output_type": "execute_result"
    }
   ],
   "source": [
    "images.shape"
   ]
  },
  {
   "cell_type": "code",
   "execution_count": 10,
   "id": "294856fb-3ee3-4e09-876e-10e5f9903ac0",
   "metadata": {},
   "outputs": [
    {
     "name": "stderr",
     "output_type": "stream",
     "text": [
      "OMP: Info #276: omp_set_nested routine deprecated, please use omp_set_max_active_levels instead.\n"
     ]
    }
   ],
   "source": [
    "reducer = umap.UMAP(n_components=40)\n",
    "\n",
    "embedding = reducer.fit_transform(images.reshape(len(images), -1))"
   ]
  },
  {
   "cell_type": "code",
   "execution_count": 11,
   "id": "65a81bb0-e170-4041-a262-6ccb555c48e3",
   "metadata": {},
   "outputs": [
    {
     "data": {
      "text/plain": [
       "(59727, 40)"
      ]
     },
     "execution_count": 11,
     "metadata": {},
     "output_type": "execute_result"
    }
   ],
   "source": [
    "embedding.shape"
   ]
  },
  {
   "cell_type": "code",
   "execution_count": 12,
   "id": "3f72ebde-14fb-4210-90c6-48220c00325c",
   "metadata": {},
   "outputs": [],
   "source": [
    "embed_df = pd.DataFrame(data=embedding, columns=[f'umap_feat_{n}' for n in range(40)])\n",
    "embed_df['iauname'] = df['objid']\n",
    "embed_df['t06_odd_a14_yes_fraction_kaggle'] = df['t06_odd_a14_yes_fraction_kaggle']"
   ]
  },
  {
   "cell_type": "code",
   "execution_count": null,
   "id": "a7ff67c2-a2ee-4aaf-9a61-abb57d11ed33",
   "metadata": {},
   "outputs": [],
   "source": []
  },
  {
   "cell_type": "code",
   "execution_count": null,
   "id": "5a7976cb-6893-432d-8890-6e26ce35aa69",
   "metadata": {},
   "outputs": [],
   "source": []
  },
  {
   "cell_type": "code",
   "execution_count": 13,
   "id": "be7cdcae-1e0d-4027-8c70-28c4279a85e5",
   "metadata": {},
   "outputs": [
    {
     "data": {
      "text/html": [
       "<div>\n",
       "<style scoped>\n",
       "    .dataframe tbody tr th:only-of-type {\n",
       "        vertical-align: middle;\n",
       "    }\n",
       "\n",
       "    .dataframe tbody tr th {\n",
       "        vertical-align: top;\n",
       "    }\n",
       "\n",
       "    .dataframe thead th {\n",
       "        text-align: right;\n",
       "    }\n",
       "</style>\n",
       "<table border=\"1\" class=\"dataframe\">\n",
       "  <thead>\n",
       "    <tr style=\"text-align: right;\">\n",
       "      <th></th>\n",
       "      <th>umap_feat_0</th>\n",
       "      <th>umap_feat_1</th>\n",
       "      <th>umap_feat_2</th>\n",
       "      <th>umap_feat_3</th>\n",
       "      <th>umap_feat_4</th>\n",
       "      <th>umap_feat_5</th>\n",
       "      <th>umap_feat_6</th>\n",
       "      <th>umap_feat_7</th>\n",
       "      <th>umap_feat_8</th>\n",
       "      <th>umap_feat_9</th>\n",
       "      <th>...</th>\n",
       "      <th>umap_feat_31</th>\n",
       "      <th>umap_feat_32</th>\n",
       "      <th>umap_feat_33</th>\n",
       "      <th>umap_feat_34</th>\n",
       "      <th>umap_feat_35</th>\n",
       "      <th>umap_feat_36</th>\n",
       "      <th>umap_feat_37</th>\n",
       "      <th>umap_feat_38</th>\n",
       "      <th>umap_feat_39</th>\n",
       "      <th>iauname</th>\n",
       "    </tr>\n",
       "  </thead>\n",
       "  <tbody>\n",
       "    <tr>\n",
       "      <th>0</th>\n",
       "      <td>4.804852</td>\n",
       "      <td>0.275579</td>\n",
       "      <td>2.504609</td>\n",
       "      <td>3.945949</td>\n",
       "      <td>3.435435</td>\n",
       "      <td>8.515339</td>\n",
       "      <td>5.023671</td>\n",
       "      <td>4.404952</td>\n",
       "      <td>5.117863</td>\n",
       "      <td>4.464729</td>\n",
       "      <td>...</td>\n",
       "      <td>5.566695</td>\n",
       "      <td>5.414181</td>\n",
       "      <td>5.210829</td>\n",
       "      <td>4.948691</td>\n",
       "      <td>5.246625</td>\n",
       "      <td>4.000315</td>\n",
       "      <td>5.286035</td>\n",
       "      <td>4.176804</td>\n",
       "      <td>5.433060</td>\n",
       "      <td>100008</td>\n",
       "    </tr>\n",
       "    <tr>\n",
       "      <th>1</th>\n",
       "      <td>4.837403</td>\n",
       "      <td>0.461968</td>\n",
       "      <td>4.245256</td>\n",
       "      <td>2.019407</td>\n",
       "      <td>4.386377</td>\n",
       "      <td>8.298850</td>\n",
       "      <td>5.634002</td>\n",
       "      <td>4.129690</td>\n",
       "      <td>5.065094</td>\n",
       "      <td>3.777586</td>\n",
       "      <td>...</td>\n",
       "      <td>5.679322</td>\n",
       "      <td>5.601509</td>\n",
       "      <td>5.291425</td>\n",
       "      <td>4.983991</td>\n",
       "      <td>5.263177</td>\n",
       "      <td>4.006851</td>\n",
       "      <td>5.204205</td>\n",
       "      <td>4.184542</td>\n",
       "      <td>5.322272</td>\n",
       "      <td>100023</td>\n",
       "    </tr>\n",
       "    <tr>\n",
       "      <th>2</th>\n",
       "      <td>6.263625</td>\n",
       "      <td>0.324933</td>\n",
       "      <td>3.223352</td>\n",
       "      <td>2.471719</td>\n",
       "      <td>4.241744</td>\n",
       "      <td>8.275194</td>\n",
       "      <td>5.420960</td>\n",
       "      <td>4.370922</td>\n",
       "      <td>5.292275</td>\n",
       "      <td>3.968160</td>\n",
       "      <td>...</td>\n",
       "      <td>5.778037</td>\n",
       "      <td>5.553529</td>\n",
       "      <td>5.305914</td>\n",
       "      <td>5.000113</td>\n",
       "      <td>5.298342</td>\n",
       "      <td>4.052004</td>\n",
       "      <td>5.213145</td>\n",
       "      <td>4.184338</td>\n",
       "      <td>5.357298</td>\n",
       "      <td>100053</td>\n",
       "    </tr>\n",
       "    <tr>\n",
       "      <th>3</th>\n",
       "      <td>2.345619</td>\n",
       "      <td>0.703011</td>\n",
       "      <td>2.669875</td>\n",
       "      <td>3.141941</td>\n",
       "      <td>3.676066</td>\n",
       "      <td>7.100838</td>\n",
       "      <td>5.213402</td>\n",
       "      <td>4.307633</td>\n",
       "      <td>5.177524</td>\n",
       "      <td>4.226579</td>\n",
       "      <td>...</td>\n",
       "      <td>5.460083</td>\n",
       "      <td>5.434441</td>\n",
       "      <td>5.180253</td>\n",
       "      <td>4.892195</td>\n",
       "      <td>5.203552</td>\n",
       "      <td>4.073342</td>\n",
       "      <td>5.075733</td>\n",
       "      <td>4.211193</td>\n",
       "      <td>5.437367</td>\n",
       "      <td>100078</td>\n",
       "    </tr>\n",
       "    <tr>\n",
       "      <th>4</th>\n",
       "      <td>3.085394</td>\n",
       "      <td>0.758046</td>\n",
       "      <td>2.992627</td>\n",
       "      <td>2.934125</td>\n",
       "      <td>3.758272</td>\n",
       "      <td>6.878838</td>\n",
       "      <td>5.319174</td>\n",
       "      <td>4.227458</td>\n",
       "      <td>5.179847</td>\n",
       "      <td>4.057440</td>\n",
       "      <td>...</td>\n",
       "      <td>5.630462</td>\n",
       "      <td>5.611078</td>\n",
       "      <td>5.015814</td>\n",
       "      <td>4.948229</td>\n",
       "      <td>5.269480</td>\n",
       "      <td>4.104390</td>\n",
       "      <td>4.990104</td>\n",
       "      <td>4.086639</td>\n",
       "      <td>5.371837</td>\n",
       "      <td>100090</td>\n",
       "    </tr>\n",
       "  </tbody>\n",
       "</table>\n",
       "<p>5 rows × 41 columns</p>\n",
       "</div>"
      ],
      "text/plain": [
       "   umap_feat_0  umap_feat_1  umap_feat_2  umap_feat_3  umap_feat_4  \\\n",
       "0     4.804852     0.275579     2.504609     3.945949     3.435435   \n",
       "1     4.837403     0.461968     4.245256     2.019407     4.386377   \n",
       "2     6.263625     0.324933     3.223352     2.471719     4.241744   \n",
       "3     2.345619     0.703011     2.669875     3.141941     3.676066   \n",
       "4     3.085394     0.758046     2.992627     2.934125     3.758272   \n",
       "\n",
       "   umap_feat_5  umap_feat_6  umap_feat_7  umap_feat_8  umap_feat_9  ...  \\\n",
       "0     8.515339     5.023671     4.404952     5.117863     4.464729  ...   \n",
       "1     8.298850     5.634002     4.129690     5.065094     3.777586  ...   \n",
       "2     8.275194     5.420960     4.370922     5.292275     3.968160  ...   \n",
       "3     7.100838     5.213402     4.307633     5.177524     4.226579  ...   \n",
       "4     6.878838     5.319174     4.227458     5.179847     4.057440  ...   \n",
       "\n",
       "   umap_feat_31  umap_feat_32  umap_feat_33  umap_feat_34  umap_feat_35  \\\n",
       "0      5.566695      5.414181      5.210829      4.948691      5.246625   \n",
       "1      5.679322      5.601509      5.291425      4.983991      5.263177   \n",
       "2      5.778037      5.553529      5.305914      5.000113      5.298342   \n",
       "3      5.460083      5.434441      5.180253      4.892195      5.203552   \n",
       "4      5.630462      5.611078      5.015814      4.948229      5.269480   \n",
       "\n",
       "   umap_feat_36  umap_feat_37  umap_feat_38  umap_feat_39  iauname  \n",
       "0      4.000315      5.286035      4.176804      5.433060   100008  \n",
       "1      4.006851      5.204205      4.184542      5.322272   100023  \n",
       "2      4.052004      5.213145      4.184338      5.357298   100053  \n",
       "3      4.073342      5.075733      4.211193      5.437367   100078  \n",
       "4      4.104390      4.990104      4.086639      5.371837   100090  \n",
       "\n",
       "[5 rows x 41 columns]"
      ]
     },
     "execution_count": 13,
     "metadata": {},
     "output_type": "execute_result"
    }
   ],
   "source": [
    "embed_df.head()"
   ]
  },
  {
   "cell_type": "code",
   "execution_count": 14,
   "id": "8f8c6182-85c8-418b-8ba7-ab200e9b1963",
   "metadata": {},
   "outputs": [],
   "source": [
    "embed_df.to_parquet('temp_latest_forest_df_umap_40.parquet', index=False)"
   ]
  },
  {
   "cell_type": "code",
   "execution_count": 2,
   "id": "ed00497b-1364-4ea4-a042-8023be011d10",
   "metadata": {},
   "outputs": [],
   "source": [
    "# embed_df = pd.read_parquet('temp_latest_forest_df_umap_40.parquet')"
   ]
  },
  {
   "cell_type": "code",
   "execution_count": 6,
   "id": "0c3b23d5-3a0b-4997-bff2-160e88cc0d07",
   "metadata": {},
   "outputs": [],
   "source": []
  },
  {
   "cell_type": "code",
   "execution_count": 7,
   "id": "aa6ae6c9-443a-49a1-bb41-1ee9f88ad8c8",
   "metadata": {},
   "outputs": [],
   "source": [
    "# embed_df.to_parquet('temp_latest_forest_df_umap_40.parquet', index=False)"
   ]
  },
  {
   "cell_type": "code",
   "execution_count": null,
   "id": "62a48a08-98e3-4014-9894-669355aa261c",
   "metadata": {},
   "outputs": [],
   "source": []
  }
 ],
 "metadata": {
  "kernelspec": {
   "display_name": "Python 3 (ipykernel)",
   "language": "python",
   "name": "python3"
  },
  "language_info": {
   "codemirror_mode": {
    "name": "ipython",
    "version": 3
   },
   "file_extension": ".py",
   "mimetype": "text/x-python",
   "name": "python",
   "nbconvert_exporter": "python",
   "pygments_lexer": "ipython3",
   "version": "3.7.11"
  }
 },
 "nbformat": 4,
 "nbformat_minor": 5
}
